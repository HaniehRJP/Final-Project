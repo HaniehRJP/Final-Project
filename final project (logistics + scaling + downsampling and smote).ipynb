{
 "cells": [
  {
   "cell_type": "markdown",
   "id": "7f7f85c0-e14e-4809-a171-a418ea04278a",
   "metadata": {},
   "source": [
    "## IMPORT"
   ]
  },
  {
   "cell_type": "code",
   "execution_count": 1,
   "id": "d3f898f8",
   "metadata": {
    "tags": []
   },
   "outputs": [],
   "source": [
    "#for data analysis and visualization\n",
    "import pandas as pd\n",
    "import numpy as np\n",
    "%matplotlib inline \n",
    "\n",
    "#for model creation\n",
    "from sklearn.neighbors import KNeighborsClassifier\n",
    "from sklearn.metrics import confusion_matrix,  ConfusionMatrixDisplay\n",
    "from sklearn.metrics import accuracy_score, precision_score, recall_score\n",
    "from sklearn.model_selection import cross_val_score\n",
    "from sklearn.model_selection import cross_val_predict\n",
    "from IPython.core.interactiveshell import InteractiveShell\n",
    "InteractiveShell.ast_node_interactivity = \"all\"\n",
    "from sklearn.model_selection import GridSearchCV\n",
    "from sklearn.model_selection import train_test_split\n",
    "from sklearn.preprocessing import PowerTransformer\n",
    "from imblearn.over_sampling import SMOTE\n",
    "from sklearn.linear_model import LogisticRegression\n",
    "from sklearn.metrics import confusion_matrix,  ConfusionMatrixDisplay\n",
    "from sklearn.metrics import accuracy_score, precision_score, recall_score\n",
    "from sklearn.feature_selection import RFE\n",
    "import warnings\n",
    "from sklearn.exceptions import DataConversionWarning\n",
    "from sklearn.linear_model import Lasso,Ridge,ElasticNet\n",
    "from sklearn.ensemble import RandomForestClassifier\n",
    "from sklearn.metrics import accuracy_score\n",
    "import matplotlib.pyplot as plt\n"
   ]
  },
  {
   "cell_type": "code",
   "execution_count": 2,
   "id": "e5e14c82",
   "metadata": {
    "tags": []
   },
   "outputs": [],
   "source": [
    "#concating 2 files to use test/train split\n",
    "\n",
    "data = \"https://raw.githubusercontent.com/HaniehRJP/Final-Project/main/customer_conversion_traing_dataset%20.csv\"\n",
    "df = pd.read_csv(data)\n",
    "df_test_link='https://raw.githubusercontent.com/HaniehRJP/Final-Project/main/customer_conversion_testing_dataset.csv'\n",
    "df_test=pd.read_csv(df_test_link)\n",
    "df=pd.concat([df, df_test], axis=0)"
   ]
  },
  {
   "cell_type": "code",
   "execution_count": 3,
   "id": "578b2411",
   "metadata": {
    "tags": []
   },
   "outputs": [
    {
     "data": {
      "text/html": [
       "<div>\n",
       "<style scoped>\n",
       "    .dataframe tbody tr th:only-of-type {\n",
       "        vertical-align: middle;\n",
       "    }\n",
       "\n",
       "    .dataframe tbody tr th {\n",
       "        vertical-align: top;\n",
       "    }\n",
       "\n",
       "    .dataframe thead th {\n",
       "        text-align: right;\n",
       "    }\n",
       "</style>\n",
       "<table border=\"1\" class=\"dataframe\">\n",
       "  <thead>\n",
       "    <tr style=\"text-align: right;\">\n",
       "      <th></th>\n",
       "      <th>LeadID</th>\n",
       "      <th>Age</th>\n",
       "      <th>Gender</th>\n",
       "      <th>Location</th>\n",
       "      <th>LeadSource</th>\n",
       "      <th>TimeSpent (minutes)</th>\n",
       "      <th>PagesViewed</th>\n",
       "      <th>LeadStatus</th>\n",
       "      <th>EmailSent</th>\n",
       "      <th>DeviceType</th>\n",
       "      <th>ReferralSource</th>\n",
       "      <th>FormSubmissions</th>\n",
       "      <th>Downloads</th>\n",
       "      <th>CTR_ProductPage</th>\n",
       "      <th>ResponseTime (hours)</th>\n",
       "      <th>FollowUpEmails</th>\n",
       "      <th>SocialMediaEngagement</th>\n",
       "      <th>PaymentHistory</th>\n",
       "      <th>Conversion (Target)</th>\n",
       "    </tr>\n",
       "  </thead>\n",
       "  <tbody>\n",
       "    <tr>\n",
       "      <th>0</th>\n",
       "      <td>1</td>\n",
       "      <td>60</td>\n",
       "      <td>Female</td>\n",
       "      <td>Faisalabad</td>\n",
       "      <td>Referral</td>\n",
       "      <td>30</td>\n",
       "      <td>13</td>\n",
       "      <td>Warm</td>\n",
       "      <td>1</td>\n",
       "      <td>Desktop</td>\n",
       "      <td>Google</td>\n",
       "      <td>4</td>\n",
       "      <td>0</td>\n",
       "      <td>0.3</td>\n",
       "      <td>7</td>\n",
       "      <td>10</td>\n",
       "      <td>195</td>\n",
       "      <td>No Payment</td>\n",
       "      <td>0</td>\n",
       "    </tr>\n",
       "    <tr>\n",
       "      <th>1</th>\n",
       "      <td>2</td>\n",
       "      <td>27</td>\n",
       "      <td>Female</td>\n",
       "      <td>Islamabad</td>\n",
       "      <td>Referral</td>\n",
       "      <td>28</td>\n",
       "      <td>4</td>\n",
       "      <td>Hot</td>\n",
       "      <td>7</td>\n",
       "      <td>Desktop</td>\n",
       "      <td>Direct</td>\n",
       "      <td>2</td>\n",
       "      <td>2</td>\n",
       "      <td>0.3</td>\n",
       "      <td>13</td>\n",
       "      <td>3</td>\n",
       "      <td>103</td>\n",
       "      <td>No Payment</td>\n",
       "      <td>0</td>\n",
       "    </tr>\n",
       "    <tr>\n",
       "      <th>2</th>\n",
       "      <td>3</td>\n",
       "      <td>21</td>\n",
       "      <td>Female</td>\n",
       "      <td>Rawalpindi</td>\n",
       "      <td>Referral</td>\n",
       "      <td>45</td>\n",
       "      <td>10</td>\n",
       "      <td>Warm</td>\n",
       "      <td>9</td>\n",
       "      <td>Tablet</td>\n",
       "      <td>Direct</td>\n",
       "      <td>4</td>\n",
       "      <td>2</td>\n",
       "      <td>0.6</td>\n",
       "      <td>10</td>\n",
       "      <td>8</td>\n",
       "      <td>33</td>\n",
       "      <td>No Payment</td>\n",
       "      <td>0</td>\n",
       "    </tr>\n",
       "    <tr>\n",
       "      <th>3</th>\n",
       "      <td>4</td>\n",
       "      <td>37</td>\n",
       "      <td>Female</td>\n",
       "      <td>Faisalabad</td>\n",
       "      <td>Email</td>\n",
       "      <td>45</td>\n",
       "      <td>15</td>\n",
       "      <td>Warm</td>\n",
       "      <td>5</td>\n",
       "      <td>Desktop</td>\n",
       "      <td>ReferralSite</td>\n",
       "      <td>1</td>\n",
       "      <td>3</td>\n",
       "      <td>0.3</td>\n",
       "      <td>11</td>\n",
       "      <td>1</td>\n",
       "      <td>189</td>\n",
       "      <td>Good</td>\n",
       "      <td>0</td>\n",
       "    </tr>\n",
       "    <tr>\n",
       "      <th>4</th>\n",
       "      <td>5</td>\n",
       "      <td>35</td>\n",
       "      <td>Male</td>\n",
       "      <td>Karachi</td>\n",
       "      <td>Referral</td>\n",
       "      <td>31</td>\n",
       "      <td>11</td>\n",
       "      <td>Cold</td>\n",
       "      <td>2</td>\n",
       "      <td>Tablet</td>\n",
       "      <td>Google</td>\n",
       "      <td>4</td>\n",
       "      <td>3</td>\n",
       "      <td>0.5</td>\n",
       "      <td>9</td>\n",
       "      <td>2</td>\n",
       "      <td>83</td>\n",
       "      <td>No Payment</td>\n",
       "      <td>0</td>\n",
       "    </tr>\n",
       "    <tr>\n",
       "      <th>5</th>\n",
       "      <td>6</td>\n",
       "      <td>34</td>\n",
       "      <td>Male</td>\n",
       "      <td>Faisalabad</td>\n",
       "      <td>Referral</td>\n",
       "      <td>19</td>\n",
       "      <td>6</td>\n",
       "      <td>Hot</td>\n",
       "      <td>7</td>\n",
       "      <td>Desktop</td>\n",
       "      <td>Twitter</td>\n",
       "      <td>5</td>\n",
       "      <td>0</td>\n",
       "      <td>0.7</td>\n",
       "      <td>4</td>\n",
       "      <td>10</td>\n",
       "      <td>100</td>\n",
       "      <td>Good</td>\n",
       "      <td>0</td>\n",
       "    </tr>\n",
       "    <tr>\n",
       "      <th>6</th>\n",
       "      <td>7</td>\n",
       "      <td>28</td>\n",
       "      <td>Female</td>\n",
       "      <td>Rawalpindi</td>\n",
       "      <td>Email</td>\n",
       "      <td>42</td>\n",
       "      <td>15</td>\n",
       "      <td>Cold</td>\n",
       "      <td>0</td>\n",
       "      <td>Tablet</td>\n",
       "      <td>Direct</td>\n",
       "      <td>1</td>\n",
       "      <td>0</td>\n",
       "      <td>0.8</td>\n",
       "      <td>1</td>\n",
       "      <td>10</td>\n",
       "      <td>54</td>\n",
       "      <td>Good</td>\n",
       "      <td>0</td>\n",
       "    </tr>\n",
       "    <tr>\n",
       "      <th>7</th>\n",
       "      <td>8</td>\n",
       "      <td>26</td>\n",
       "      <td>Female</td>\n",
       "      <td>Gujranwala</td>\n",
       "      <td>Organic</td>\n",
       "      <td>45</td>\n",
       "      <td>11</td>\n",
       "      <td>Warm</td>\n",
       "      <td>1</td>\n",
       "      <td>Desktop</td>\n",
       "      <td>Direct</td>\n",
       "      <td>3</td>\n",
       "      <td>3</td>\n",
       "      <td>0.3</td>\n",
       "      <td>21</td>\n",
       "      <td>1</td>\n",
       "      <td>44</td>\n",
       "      <td>No Payment</td>\n",
       "      <td>0</td>\n",
       "    </tr>\n",
       "    <tr>\n",
       "      <th>8</th>\n",
       "      <td>9</td>\n",
       "      <td>54</td>\n",
       "      <td>Female</td>\n",
       "      <td>Islamabad</td>\n",
       "      <td>Social Media</td>\n",
       "      <td>12</td>\n",
       "      <td>3</td>\n",
       "      <td>Warm</td>\n",
       "      <td>6</td>\n",
       "      <td>Desktop</td>\n",
       "      <td>Google</td>\n",
       "      <td>3</td>\n",
       "      <td>0</td>\n",
       "      <td>0.6</td>\n",
       "      <td>5</td>\n",
       "      <td>6</td>\n",
       "      <td>49</td>\n",
       "      <td>Good</td>\n",
       "      <td>0</td>\n",
       "    </tr>\n",
       "    <tr>\n",
       "      <th>9</th>\n",
       "      <td>10</td>\n",
       "      <td>25</td>\n",
       "      <td>Male</td>\n",
       "      <td>Lahore</td>\n",
       "      <td>Referral</td>\n",
       "      <td>27</td>\n",
       "      <td>12</td>\n",
       "      <td>Hot</td>\n",
       "      <td>1</td>\n",
       "      <td>Desktop</td>\n",
       "      <td>Google</td>\n",
       "      <td>5</td>\n",
       "      <td>1</td>\n",
       "      <td>0.6</td>\n",
       "      <td>13</td>\n",
       "      <td>8</td>\n",
       "      <td>118</td>\n",
       "      <td>Good</td>\n",
       "      <td>0</td>\n",
       "    </tr>\n",
       "  </tbody>\n",
       "</table>\n",
       "</div>"
      ],
      "text/plain": [
       "   LeadID  Age  Gender    Location    LeadSource  TimeSpent (minutes)  \\\n",
       "0       1   60  Female  Faisalabad      Referral                   30   \n",
       "1       2   27  Female   Islamabad      Referral                   28   \n",
       "2       3   21  Female  Rawalpindi      Referral                   45   \n",
       "3       4   37  Female  Faisalabad         Email                   45   \n",
       "4       5   35    Male     Karachi      Referral                   31   \n",
       "5       6   34    Male  Faisalabad      Referral                   19   \n",
       "6       7   28  Female  Rawalpindi         Email                   42   \n",
       "7       8   26  Female  Gujranwala       Organic                   45   \n",
       "8       9   54  Female   Islamabad  Social Media                   12   \n",
       "9      10   25    Male      Lahore      Referral                   27   \n",
       "\n",
       "   PagesViewed LeadStatus  EmailSent DeviceType ReferralSource  \\\n",
       "0           13       Warm          1    Desktop         Google   \n",
       "1            4        Hot          7    Desktop         Direct   \n",
       "2           10       Warm          9     Tablet         Direct   \n",
       "3           15       Warm          5    Desktop   ReferralSite   \n",
       "4           11       Cold          2     Tablet         Google   \n",
       "5            6        Hot          7    Desktop        Twitter   \n",
       "6           15       Cold          0     Tablet         Direct   \n",
       "7           11       Warm          1    Desktop         Direct   \n",
       "8            3       Warm          6    Desktop         Google   \n",
       "9           12        Hot          1    Desktop         Google   \n",
       "\n",
       "   FormSubmissions  Downloads  CTR_ProductPage  ResponseTime (hours)  \\\n",
       "0                4          0              0.3                     7   \n",
       "1                2          2              0.3                    13   \n",
       "2                4          2              0.6                    10   \n",
       "3                1          3              0.3                    11   \n",
       "4                4          3              0.5                     9   \n",
       "5                5          0              0.7                     4   \n",
       "6                1          0              0.8                     1   \n",
       "7                3          3              0.3                    21   \n",
       "8                3          0              0.6                     5   \n",
       "9                5          1              0.6                    13   \n",
       "\n",
       "   FollowUpEmails  SocialMediaEngagement PaymentHistory  Conversion (Target)  \n",
       "0              10                    195     No Payment                    0  \n",
       "1               3                    103     No Payment                    0  \n",
       "2               8                     33     No Payment                    0  \n",
       "3               1                    189           Good                    0  \n",
       "4               2                     83     No Payment                    0  \n",
       "5              10                    100           Good                    0  \n",
       "6              10                     54           Good                    0  \n",
       "7               1                     44     No Payment                    0  \n",
       "8               6                     49           Good                    0  \n",
       "9               8                    118           Good                    0  "
      ]
     },
     "execution_count": 3,
     "metadata": {},
     "output_type": "execute_result"
    }
   ],
   "source": [
    "df.head(10)"
   ]
  },
  {
   "cell_type": "markdown",
   "id": "47ec62d7-22fc-42f3-9fcb-3c62173a5cea",
   "metadata": {},
   "source": [
    "## CLEANING"
   ]
  },
  {
   "cell_type": "code",
   "execution_count": 4,
   "id": "ca956d71",
   "metadata": {
    "tags": []
   },
   "outputs": [
    {
     "name": "stdout",
     "output_type": "stream",
     "text": [
      "Total null values per row: \n",
      "0        0\n",
      "1        0\n",
      "2        0\n",
      "3        0\n",
      "4        0\n",
      "        ..\n",
      "26140    0\n",
      "26141    0\n",
      "26142    0\n",
      "26143    0\n",
      "26144    0\n",
      "Length: 126145, dtype: int64\n",
      "\n",
      "Total null values per column: \n",
      "LeadID                   0\n",
      "Age                      0\n",
      "Gender                   0\n",
      "Location                 0\n",
      "LeadSource               0\n",
      "TimeSpent (minutes)      0\n",
      "PagesViewed              0\n",
      "LeadStatus               0\n",
      "EmailSent                0\n",
      "DeviceType               0\n",
      "ReferralSource           0\n",
      "FormSubmissions          0\n",
      "Downloads                0\n",
      "CTR_ProductPage          0\n",
      "ResponseTime (hours)     0\n",
      "FollowUpEmails           0\n",
      "SocialMediaEngagement    0\n",
      "PaymentHistory           0\n",
      "Conversion (Target)      0\n",
      "dtype: int64\n",
      "\n"
     ]
    }
   ],
   "source": [
    "#NAs\n",
    "\n",
    "def null_check(data_frame):\n",
    "    print(f'Total null values per row: \\n{data_frame.isnull().sum(axis=1)}\\n')\n",
    "    print(f'Total null values per column: \\n{data_frame.isnull().sum()}\\n')\n",
    "\n",
    "null_check(df)"
   ]
  },
  {
   "cell_type": "code",
   "execution_count": 5,
   "id": "84cb0dbc",
   "metadata": {
    "tags": []
   },
   "outputs": [
    {
     "name": "stdout",
     "output_type": "stream",
     "text": [
      "Duplicates found: False\n",
      "\n",
      "Number of duplicates: 0\n",
      "\n"
     ]
    }
   ],
   "source": [
    "#Duplicates check\n",
    "\n",
    "def dup_check(data_frame):\n",
    "    print(f'Duplicates found: {data_frame.duplicated().any()}\\n')\n",
    "    print(f'Number of duplicates: {data_frame.duplicated().sum()}\\n')\n",
    "    \n",
    "dup_check(df)"
   ]
  },
  {
   "cell_type": "code",
   "execution_count": 6,
   "id": "685a3c38",
   "metadata": {
    "tags": []
   },
   "outputs": [],
   "source": [
    "#colmns optimization\n",
    "\n",
    "#renaming\n",
    "df.rename(columns={\"TimeSpent (minutes)\":\"TimeSpent\"}, inplace=True)\n",
    "df.rename(columns={\"Conversion (Target)\":\"Conversion\"}, inplace=True)\n",
    "\n",
    "#recalculating\n",
    "df['ResponseTime'] = df['ResponseTime (hours)'] * 60\n",
    "\n",
    "# Drop the original 'ResponseTime (hours)' column\n",
    "df.drop(columns=['ResponseTime (hours)', 'Location', 'ReferralSource', 'LeadStatus', 'LeadID', 'ResponseTime'], inplace=True)"
   ]
  },
  {
   "cell_type": "code",
   "execution_count": 7,
   "id": "80adfaca",
   "metadata": {},
   "outputs": [],
   "source": [
    "df.to_csv('df.csv', index=False)"
   ]
  },
  {
   "cell_type": "markdown",
   "id": "f7a2fb56-883c-4eae-aae3-099455a37b77",
   "metadata": {},
   "source": [
    "## ENCODING"
   ]
  },
  {
   "cell_type": "code",
   "execution_count": 8,
   "id": "b3fcf1ec",
   "metadata": {
    "tags": []
   },
   "outputs": [
    {
     "data": {
      "text/html": [
       "<div>\n",
       "<style scoped>\n",
       "    .dataframe tbody tr th:only-of-type {\n",
       "        vertical-align: middle;\n",
       "    }\n",
       "\n",
       "    .dataframe tbody tr th {\n",
       "        vertical-align: top;\n",
       "    }\n",
       "\n",
       "    .dataframe thead th {\n",
       "        text-align: right;\n",
       "    }\n",
       "</style>\n",
       "<table border=\"1\" class=\"dataframe\">\n",
       "  <thead>\n",
       "    <tr style=\"text-align: right;\">\n",
       "      <th></th>\n",
       "      <th>Gender</th>\n",
       "      <th>LeadSource</th>\n",
       "      <th>DeviceType</th>\n",
       "      <th>PaymentHistory</th>\n",
       "    </tr>\n",
       "  </thead>\n",
       "  <tbody>\n",
       "    <tr>\n",
       "      <th>0</th>\n",
       "      <td>Female</td>\n",
       "      <td>Referral</td>\n",
       "      <td>Desktop</td>\n",
       "      <td>No Payment</td>\n",
       "    </tr>\n",
       "    <tr>\n",
       "      <th>1</th>\n",
       "      <td>Female</td>\n",
       "      <td>Referral</td>\n",
       "      <td>Desktop</td>\n",
       "      <td>No Payment</td>\n",
       "    </tr>\n",
       "    <tr>\n",
       "      <th>2</th>\n",
       "      <td>Female</td>\n",
       "      <td>Referral</td>\n",
       "      <td>Tablet</td>\n",
       "      <td>No Payment</td>\n",
       "    </tr>\n",
       "  </tbody>\n",
       "</table>\n",
       "</div>"
      ],
      "text/plain": [
       "   Gender LeadSource DeviceType PaymentHistory\n",
       "0  Female   Referral    Desktop     No Payment\n",
       "1  Female   Referral    Desktop     No Payment\n",
       "2  Female   Referral     Tablet     No Payment"
      ]
     },
     "execution_count": 8,
     "metadata": {},
     "output_type": "execute_result"
    }
   ],
   "source": [
    "categoricals = df.select_dtypes(include=[object, bool])\n",
    "categoricals.head(3)"
   ]
  },
  {
   "cell_type": "code",
   "execution_count": 9,
   "id": "4133a5c6",
   "metadata": {
    "tags": []
   },
   "outputs": [
    {
     "data": {
      "text/html": [
       "<div>\n",
       "<style scoped>\n",
       "    .dataframe tbody tr th:only-of-type {\n",
       "        vertical-align: middle;\n",
       "    }\n",
       "\n",
       "    .dataframe tbody tr th {\n",
       "        vertical-align: top;\n",
       "    }\n",
       "\n",
       "    .dataframe thead th {\n",
       "        text-align: right;\n",
       "    }\n",
       "</style>\n",
       "<table border=\"1\" class=\"dataframe\">\n",
       "  <thead>\n",
       "    <tr style=\"text-align: right;\">\n",
       "      <th></th>\n",
       "      <th>Age</th>\n",
       "      <th>TimeSpent</th>\n",
       "      <th>PagesViewed</th>\n",
       "      <th>EmailSent</th>\n",
       "      <th>FormSubmissions</th>\n",
       "      <th>Downloads</th>\n",
       "      <th>CTR_ProductPage</th>\n",
       "      <th>FollowUpEmails</th>\n",
       "      <th>SocialMediaEngagement</th>\n",
       "      <th>Conversion</th>\n",
       "    </tr>\n",
       "  </thead>\n",
       "  <tbody>\n",
       "    <tr>\n",
       "      <th>0</th>\n",
       "      <td>60</td>\n",
       "      <td>30</td>\n",
       "      <td>13</td>\n",
       "      <td>1</td>\n",
       "      <td>4</td>\n",
       "      <td>0</td>\n",
       "      <td>0.3</td>\n",
       "      <td>10</td>\n",
       "      <td>195</td>\n",
       "      <td>0</td>\n",
       "    </tr>\n",
       "    <tr>\n",
       "      <th>1</th>\n",
       "      <td>27</td>\n",
       "      <td>28</td>\n",
       "      <td>4</td>\n",
       "      <td>7</td>\n",
       "      <td>2</td>\n",
       "      <td>2</td>\n",
       "      <td>0.3</td>\n",
       "      <td>3</td>\n",
       "      <td>103</td>\n",
       "      <td>0</td>\n",
       "    </tr>\n",
       "    <tr>\n",
       "      <th>2</th>\n",
       "      <td>21</td>\n",
       "      <td>45</td>\n",
       "      <td>10</td>\n",
       "      <td>9</td>\n",
       "      <td>4</td>\n",
       "      <td>2</td>\n",
       "      <td>0.6</td>\n",
       "      <td>8</td>\n",
       "      <td>33</td>\n",
       "      <td>0</td>\n",
       "    </tr>\n",
       "  </tbody>\n",
       "</table>\n",
       "</div>"
      ],
      "text/plain": [
       "   Age  TimeSpent  PagesViewed  EmailSent  FormSubmissions  Downloads  \\\n",
       "0   60         30           13          1                4          0   \n",
       "1   27         28            4          7                2          2   \n",
       "2   21         45           10          9                4          2   \n",
       "\n",
       "   CTR_ProductPage  FollowUpEmails  SocialMediaEngagement  Conversion  \n",
       "0              0.3              10                    195           0  \n",
       "1              0.3               3                    103           0  \n",
       "2              0.6               8                     33           0  "
      ]
     },
     "execution_count": 9,
     "metadata": {},
     "output_type": "execute_result"
    }
   ],
   "source": [
    "numericals = df.select_dtypes(include = 'number')\n",
    "numericals.head(3)"
   ]
  },
  {
   "cell_type": "code",
   "execution_count": 10,
   "id": "0913c935",
   "metadata": {
    "scrolled": true,
    "tags": []
   },
   "outputs": [
    {
     "data": {
      "text/html": [
       "<div>\n",
       "<style scoped>\n",
       "    .dataframe tbody tr th:only-of-type {\n",
       "        vertical-align: middle;\n",
       "    }\n",
       "\n",
       "    .dataframe tbody tr th {\n",
       "        vertical-align: top;\n",
       "    }\n",
       "\n",
       "    .dataframe thead th {\n",
       "        text-align: right;\n",
       "    }\n",
       "</style>\n",
       "<table border=\"1\" class=\"dataframe\">\n",
       "  <thead>\n",
       "    <tr style=\"text-align: right;\">\n",
       "      <th></th>\n",
       "      <th>PaymentHistory</th>\n",
       "    </tr>\n",
       "  </thead>\n",
       "  <tbody>\n",
       "    <tr>\n",
       "      <th>0</th>\n",
       "      <td>No Payment</td>\n",
       "    </tr>\n",
       "    <tr>\n",
       "      <th>1</th>\n",
       "      <td>No Payment</td>\n",
       "    </tr>\n",
       "    <tr>\n",
       "      <th>2</th>\n",
       "      <td>No Payment</td>\n",
       "    </tr>\n",
       "  </tbody>\n",
       "</table>\n",
       "</div>"
      ],
      "text/plain": [
       "  PaymentHistory\n",
       "0     No Payment\n",
       "1     No Payment\n",
       "2     No Payment"
      ]
     },
     "execution_count": 10,
     "metadata": {},
     "output_type": "execute_result"
    }
   ],
   "source": [
    "ordinals = categoricals[['PaymentHistory']]\n",
    "ordinals.head(3)"
   ]
  },
  {
   "cell_type": "code",
   "execution_count": 11,
   "id": "e6c913d2",
   "metadata": {
    "tags": []
   },
   "outputs": [],
   "source": [
    "ordinals = categoricals['PaymentHistory'].map({'Good':1, 'No Payment':0})"
   ]
  },
  {
   "cell_type": "code",
   "execution_count": 12,
   "id": "f2933f28",
   "metadata": {
    "tags": []
   },
   "outputs": [],
   "source": [
    "nominals = categoricals.drop(columns=['PaymentHistory'])"
   ]
  },
  {
   "cell_type": "code",
   "execution_count": 13,
   "id": "8051c349",
   "metadata": {
    "tags": []
   },
   "outputs": [
    {
     "data": {
      "text/html": [
       "<div>\n",
       "<style scoped>\n",
       "    .dataframe tbody tr th:only-of-type {\n",
       "        vertical-align: middle;\n",
       "    }\n",
       "\n",
       "    .dataframe tbody tr th {\n",
       "        vertical-align: top;\n",
       "    }\n",
       "\n",
       "    .dataframe thead th {\n",
       "        text-align: right;\n",
       "    }\n",
       "</style>\n",
       "<table border=\"1\" class=\"dataframe\">\n",
       "  <thead>\n",
       "    <tr style=\"text-align: right;\">\n",
       "      <th></th>\n",
       "      <th>Gender</th>\n",
       "      <th>LeadSource</th>\n",
       "      <th>DeviceType</th>\n",
       "    </tr>\n",
       "  </thead>\n",
       "  <tbody>\n",
       "    <tr>\n",
       "      <th>0</th>\n",
       "      <td>Female</td>\n",
       "      <td>Referral</td>\n",
       "      <td>Desktop</td>\n",
       "    </tr>\n",
       "    <tr>\n",
       "      <th>1</th>\n",
       "      <td>Female</td>\n",
       "      <td>Referral</td>\n",
       "      <td>Desktop</td>\n",
       "    </tr>\n",
       "    <tr>\n",
       "      <th>2</th>\n",
       "      <td>Female</td>\n",
       "      <td>Referral</td>\n",
       "      <td>Tablet</td>\n",
       "    </tr>\n",
       "  </tbody>\n",
       "</table>\n",
       "</div>"
      ],
      "text/plain": [
       "   Gender LeadSource DeviceType\n",
       "0  Female   Referral    Desktop\n",
       "1  Female   Referral    Desktop\n",
       "2  Female   Referral     Tablet"
      ]
     },
     "execution_count": 13,
     "metadata": {},
     "output_type": "execute_result"
    }
   ],
   "source": [
    "nominals.head(3)"
   ]
  },
  {
   "cell_type": "code",
   "execution_count": 14,
   "id": "262cf1a6",
   "metadata": {
    "tags": []
   },
   "outputs": [
    {
     "data": {
      "text/html": [
       "<div>\n",
       "<style scoped>\n",
       "    .dataframe tbody tr th:only-of-type {\n",
       "        vertical-align: middle;\n",
       "    }\n",
       "\n",
       "    .dataframe tbody tr th {\n",
       "        vertical-align: top;\n",
       "    }\n",
       "\n",
       "    .dataframe thead th {\n",
       "        text-align: right;\n",
       "    }\n",
       "</style>\n",
       "<table border=\"1\" class=\"dataframe\">\n",
       "  <thead>\n",
       "    <tr style=\"text-align: right;\">\n",
       "      <th></th>\n",
       "      <th>Gender_Female</th>\n",
       "      <th>Gender_Male</th>\n",
       "      <th>LeadSource_Email</th>\n",
       "      <th>LeadSource_Organic</th>\n",
       "      <th>LeadSource_Referral</th>\n",
       "      <th>LeadSource_Social Media</th>\n",
       "      <th>DeviceType_Desktop</th>\n",
       "      <th>DeviceType_Mobile</th>\n",
       "      <th>DeviceType_Tablet</th>\n",
       "    </tr>\n",
       "  </thead>\n",
       "  <tbody>\n",
       "    <tr>\n",
       "      <th>0</th>\n",
       "      <td>1</td>\n",
       "      <td>0</td>\n",
       "      <td>0</td>\n",
       "      <td>0</td>\n",
       "      <td>1</td>\n",
       "      <td>0</td>\n",
       "      <td>1</td>\n",
       "      <td>0</td>\n",
       "      <td>0</td>\n",
       "    </tr>\n",
       "    <tr>\n",
       "      <th>1</th>\n",
       "      <td>1</td>\n",
       "      <td>0</td>\n",
       "      <td>0</td>\n",
       "      <td>0</td>\n",
       "      <td>1</td>\n",
       "      <td>0</td>\n",
       "      <td>1</td>\n",
       "      <td>0</td>\n",
       "      <td>0</td>\n",
       "    </tr>\n",
       "    <tr>\n",
       "      <th>2</th>\n",
       "      <td>1</td>\n",
       "      <td>0</td>\n",
       "      <td>0</td>\n",
       "      <td>0</td>\n",
       "      <td>1</td>\n",
       "      <td>0</td>\n",
       "      <td>0</td>\n",
       "      <td>0</td>\n",
       "      <td>1</td>\n",
       "    </tr>\n",
       "    <tr>\n",
       "      <th>3</th>\n",
       "      <td>1</td>\n",
       "      <td>0</td>\n",
       "      <td>1</td>\n",
       "      <td>0</td>\n",
       "      <td>0</td>\n",
       "      <td>0</td>\n",
       "      <td>1</td>\n",
       "      <td>0</td>\n",
       "      <td>0</td>\n",
       "    </tr>\n",
       "    <tr>\n",
       "      <th>4</th>\n",
       "      <td>0</td>\n",
       "      <td>1</td>\n",
       "      <td>0</td>\n",
       "      <td>0</td>\n",
       "      <td>1</td>\n",
       "      <td>0</td>\n",
       "      <td>0</td>\n",
       "      <td>0</td>\n",
       "      <td>1</td>\n",
       "    </tr>\n",
       "  </tbody>\n",
       "</table>\n",
       "</div>"
      ],
      "text/plain": [
       "   Gender_Female  Gender_Male  LeadSource_Email  LeadSource_Organic  \\\n",
       "0              1            0                 0                   0   \n",
       "1              1            0                 0                   0   \n",
       "2              1            0                 0                   0   \n",
       "3              1            0                 1                   0   \n",
       "4              0            1                 0                   0   \n",
       "\n",
       "   LeadSource_Referral  LeadSource_Social Media  DeviceType_Desktop  \\\n",
       "0                    1                        0                   1   \n",
       "1                    1                        0                   1   \n",
       "2                    1                        0                   0   \n",
       "3                    0                        0                   1   \n",
       "4                    1                        0                   0   \n",
       "\n",
       "   DeviceType_Mobile  DeviceType_Tablet  \n",
       "0                  0                  0  \n",
       "1                  0                  0  \n",
       "2                  0                  1  \n",
       "3                  0                  0  \n",
       "4                  0                  1  "
      ]
     },
     "execution_count": 14,
     "metadata": {},
     "output_type": "execute_result"
    }
   ],
   "source": [
    "#making dunnies from nominals\n",
    "\n",
    "nominals = pd.get_dummies(nominals, dtype=int)\n",
    "nominals.head()"
   ]
  },
  {
   "cell_type": "code",
   "execution_count": 15,
   "id": "df4c6a4f",
   "metadata": {
    "tags": []
   },
   "outputs": [
    {
     "data": {
      "text/html": [
       "<div>\n",
       "<style scoped>\n",
       "    .dataframe tbody tr th:only-of-type {\n",
       "        vertical-align: middle;\n",
       "    }\n",
       "\n",
       "    .dataframe tbody tr th {\n",
       "        vertical-align: top;\n",
       "    }\n",
       "\n",
       "    .dataframe thead th {\n",
       "        text-align: right;\n",
       "    }\n",
       "</style>\n",
       "<table border=\"1\" class=\"dataframe\">\n",
       "  <thead>\n",
       "    <tr style=\"text-align: right;\">\n",
       "      <th></th>\n",
       "      <th>PaymentHistory</th>\n",
       "      <th>Gender_Female</th>\n",
       "      <th>Gender_Male</th>\n",
       "      <th>LeadSource_Email</th>\n",
       "      <th>LeadSource_Organic</th>\n",
       "      <th>LeadSource_Referral</th>\n",
       "      <th>LeadSource_Social Media</th>\n",
       "      <th>DeviceType_Desktop</th>\n",
       "      <th>DeviceType_Mobile</th>\n",
       "      <th>DeviceType_Tablet</th>\n",
       "    </tr>\n",
       "  </thead>\n",
       "  <tbody>\n",
       "    <tr>\n",
       "      <th>0</th>\n",
       "      <td>0</td>\n",
       "      <td>1</td>\n",
       "      <td>0</td>\n",
       "      <td>0</td>\n",
       "      <td>0</td>\n",
       "      <td>1</td>\n",
       "      <td>0</td>\n",
       "      <td>1</td>\n",
       "      <td>0</td>\n",
       "      <td>0</td>\n",
       "    </tr>\n",
       "    <tr>\n",
       "      <th>1</th>\n",
       "      <td>0</td>\n",
       "      <td>1</td>\n",
       "      <td>0</td>\n",
       "      <td>0</td>\n",
       "      <td>0</td>\n",
       "      <td>1</td>\n",
       "      <td>0</td>\n",
       "      <td>1</td>\n",
       "      <td>0</td>\n",
       "      <td>0</td>\n",
       "    </tr>\n",
       "    <tr>\n",
       "      <th>2</th>\n",
       "      <td>0</td>\n",
       "      <td>1</td>\n",
       "      <td>0</td>\n",
       "      <td>0</td>\n",
       "      <td>0</td>\n",
       "      <td>1</td>\n",
       "      <td>0</td>\n",
       "      <td>0</td>\n",
       "      <td>0</td>\n",
       "      <td>1</td>\n",
       "    </tr>\n",
       "    <tr>\n",
       "      <th>3</th>\n",
       "      <td>1</td>\n",
       "      <td>1</td>\n",
       "      <td>0</td>\n",
       "      <td>1</td>\n",
       "      <td>0</td>\n",
       "      <td>0</td>\n",
       "      <td>0</td>\n",
       "      <td>1</td>\n",
       "      <td>0</td>\n",
       "      <td>0</td>\n",
       "    </tr>\n",
       "    <tr>\n",
       "      <th>4</th>\n",
       "      <td>0</td>\n",
       "      <td>0</td>\n",
       "      <td>1</td>\n",
       "      <td>0</td>\n",
       "      <td>0</td>\n",
       "      <td>1</td>\n",
       "      <td>0</td>\n",
       "      <td>0</td>\n",
       "      <td>0</td>\n",
       "      <td>1</td>\n",
       "    </tr>\n",
       "  </tbody>\n",
       "</table>\n",
       "</div>"
      ],
      "text/plain": [
       "   PaymentHistory  Gender_Female  Gender_Male  LeadSource_Email  \\\n",
       "0               0              1            0                 0   \n",
       "1               0              1            0                 0   \n",
       "2               0              1            0                 0   \n",
       "3               1              1            0                 1   \n",
       "4               0              0            1                 0   \n",
       "\n",
       "   LeadSource_Organic  LeadSource_Referral  LeadSource_Social Media  \\\n",
       "0                   0                    1                        0   \n",
       "1                   0                    1                        0   \n",
       "2                   0                    1                        0   \n",
       "3                   0                    0                        0   \n",
       "4                   0                    1                        0   \n",
       "\n",
       "   DeviceType_Desktop  DeviceType_Mobile  DeviceType_Tablet  \n",
       "0                   1                  0                  0  \n",
       "1                   1                  0                  0  \n",
       "2                   0                  0                  1  \n",
       "3                   1                  0                  0  \n",
       "4                   0                  0                  1  "
      ]
     },
     "execution_count": 15,
     "metadata": {},
     "output_type": "execute_result"
    }
   ],
   "source": [
    "categoricals = pd.concat([ordinals, nominals], axis=1)\n",
    "categoricals.head()"
   ]
  },
  {
   "cell_type": "code",
   "execution_count": 16,
   "id": "040da086",
   "metadata": {
    "scrolled": true,
    "tags": []
   },
   "outputs": [
    {
     "data": {
      "text/html": [
       "<div>\n",
       "<style scoped>\n",
       "    .dataframe tbody tr th:only-of-type {\n",
       "        vertical-align: middle;\n",
       "    }\n",
       "\n",
       "    .dataframe tbody tr th {\n",
       "        vertical-align: top;\n",
       "    }\n",
       "\n",
       "    .dataframe thead th {\n",
       "        text-align: right;\n",
       "    }\n",
       "</style>\n",
       "<table border=\"1\" class=\"dataframe\">\n",
       "  <thead>\n",
       "    <tr style=\"text-align: right;\">\n",
       "      <th></th>\n",
       "      <th>PaymentHistory</th>\n",
       "      <th>Gender_Female</th>\n",
       "      <th>Gender_Male</th>\n",
       "      <th>LeadSource_Email</th>\n",
       "      <th>LeadSource_Organic</th>\n",
       "      <th>LeadSource_Referral</th>\n",
       "      <th>LeadSource_Social Media</th>\n",
       "      <th>DeviceType_Desktop</th>\n",
       "      <th>DeviceType_Mobile</th>\n",
       "      <th>DeviceType_Tablet</th>\n",
       "      <th>Age</th>\n",
       "      <th>TimeSpent</th>\n",
       "      <th>PagesViewed</th>\n",
       "      <th>EmailSent</th>\n",
       "      <th>FormSubmissions</th>\n",
       "      <th>Downloads</th>\n",
       "      <th>CTR_ProductPage</th>\n",
       "      <th>FollowUpEmails</th>\n",
       "      <th>SocialMediaEngagement</th>\n",
       "      <th>Conversion</th>\n",
       "    </tr>\n",
       "  </thead>\n",
       "  <tbody>\n",
       "    <tr>\n",
       "      <th>0</th>\n",
       "      <td>0</td>\n",
       "      <td>1</td>\n",
       "      <td>0</td>\n",
       "      <td>0</td>\n",
       "      <td>0</td>\n",
       "      <td>1</td>\n",
       "      <td>0</td>\n",
       "      <td>1</td>\n",
       "      <td>0</td>\n",
       "      <td>0</td>\n",
       "      <td>60</td>\n",
       "      <td>30</td>\n",
       "      <td>13</td>\n",
       "      <td>1</td>\n",
       "      <td>4</td>\n",
       "      <td>0</td>\n",
       "      <td>0.3</td>\n",
       "      <td>10</td>\n",
       "      <td>195</td>\n",
       "      <td>0</td>\n",
       "    </tr>\n",
       "    <tr>\n",
       "      <th>1</th>\n",
       "      <td>0</td>\n",
       "      <td>1</td>\n",
       "      <td>0</td>\n",
       "      <td>0</td>\n",
       "      <td>0</td>\n",
       "      <td>1</td>\n",
       "      <td>0</td>\n",
       "      <td>1</td>\n",
       "      <td>0</td>\n",
       "      <td>0</td>\n",
       "      <td>27</td>\n",
       "      <td>28</td>\n",
       "      <td>4</td>\n",
       "      <td>7</td>\n",
       "      <td>2</td>\n",
       "      <td>2</td>\n",
       "      <td>0.3</td>\n",
       "      <td>3</td>\n",
       "      <td>103</td>\n",
       "      <td>0</td>\n",
       "    </tr>\n",
       "    <tr>\n",
       "      <th>2</th>\n",
       "      <td>0</td>\n",
       "      <td>1</td>\n",
       "      <td>0</td>\n",
       "      <td>0</td>\n",
       "      <td>0</td>\n",
       "      <td>1</td>\n",
       "      <td>0</td>\n",
       "      <td>0</td>\n",
       "      <td>0</td>\n",
       "      <td>1</td>\n",
       "      <td>21</td>\n",
       "      <td>45</td>\n",
       "      <td>10</td>\n",
       "      <td>9</td>\n",
       "      <td>4</td>\n",
       "      <td>2</td>\n",
       "      <td>0.6</td>\n",
       "      <td>8</td>\n",
       "      <td>33</td>\n",
       "      <td>0</td>\n",
       "    </tr>\n",
       "  </tbody>\n",
       "</table>\n",
       "</div>"
      ],
      "text/plain": [
       "   PaymentHistory  Gender_Female  Gender_Male  LeadSource_Email  \\\n",
       "0               0              1            0                 0   \n",
       "1               0              1            0                 0   \n",
       "2               0              1            0                 0   \n",
       "\n",
       "   LeadSource_Organic  LeadSource_Referral  LeadSource_Social Media  \\\n",
       "0                   0                    1                        0   \n",
       "1                   0                    1                        0   \n",
       "2                   0                    1                        0   \n",
       "\n",
       "   DeviceType_Desktop  DeviceType_Mobile  DeviceType_Tablet  Age  TimeSpent  \\\n",
       "0                   1                  0                  0   60         30   \n",
       "1                   1                  0                  0   27         28   \n",
       "2                   0                  0                  1   21         45   \n",
       "\n",
       "   PagesViewed  EmailSent  FormSubmissions  Downloads  CTR_ProductPage  \\\n",
       "0           13          1                4          0              0.3   \n",
       "1            4          7                2          2              0.3   \n",
       "2           10          9                4          2              0.6   \n",
       "\n",
       "   FollowUpEmails  SocialMediaEngagement  Conversion  \n",
       "0              10                    195           0  \n",
       "1               3                    103           0  \n",
       "2               8                     33           0  "
      ]
     },
     "execution_count": 16,
     "metadata": {},
     "output_type": "execute_result"
    }
   ],
   "source": [
    "df = pd.concat([categoricals, numericals], axis=1)\n",
    "df.head(3)"
   ]
  },
  {
   "cell_type": "code",
   "execution_count": null,
   "id": "36915141",
   "metadata": {},
   "outputs": [],
   "source": []
  },
  {
   "cell_type": "markdown",
   "id": "c53a9850-a379-4886-b56c-eaf2d022e5da",
   "metadata": {},
   "source": [
    "## TRAIN TEST SPLIT"
   ]
  },
  {
   "cell_type": "code",
   "execution_count": 17,
   "id": "6f34f7d1-a2f0-44cd-ab98-ddd32cff282b",
   "metadata": {
    "tags": []
   },
   "outputs": [],
   "source": [
    "#splitting into X and y\n",
    "X=df.drop(columns=[\"Conversion\"])\n",
    "y=df[[\"Conversion\"]]"
   ]
  },
  {
   "cell_type": "code",
   "execution_count": 18,
   "id": "d542d352-1457-497d-a6aa-2ff2b910d2a9",
   "metadata": {
    "tags": []
   },
   "outputs": [],
   "source": [
    "#train and test split\n",
    "X_train, X_test,y_train, y_test=train_test_split(X,y, random_state=42)"
   ]
  },
  {
   "cell_type": "markdown",
   "id": "bb2eac54-4947-46a4-8ecf-6c51b126c9d2",
   "metadata": {},
   "source": [
    "## DOWNSAMPLING"
   ]
  },
  {
   "cell_type": "code",
   "execution_count": 19,
   "id": "1e26fb04-8e7b-4a16-b238-696a542f1ea6",
   "metadata": {
    "tags": []
   },
   "outputs": [
    {
     "data": {
      "text/html": [
       "<div>\n",
       "<style scoped>\n",
       "    .dataframe tbody tr th:only-of-type {\n",
       "        vertical-align: middle;\n",
       "    }\n",
       "\n",
       "    .dataframe tbody tr th {\n",
       "        vertical-align: top;\n",
       "    }\n",
       "\n",
       "    .dataframe thead th {\n",
       "        text-align: right;\n",
       "    }\n",
       "</style>\n",
       "<table border=\"1\" class=\"dataframe\">\n",
       "  <thead>\n",
       "    <tr style=\"text-align: right;\">\n",
       "      <th></th>\n",
       "      <th>PaymentHistory</th>\n",
       "      <th>Gender_Female</th>\n",
       "      <th>Gender_Male</th>\n",
       "      <th>LeadSource_Email</th>\n",
       "      <th>LeadSource_Organic</th>\n",
       "      <th>LeadSource_Referral</th>\n",
       "      <th>LeadSource_Social Media</th>\n",
       "      <th>DeviceType_Desktop</th>\n",
       "      <th>DeviceType_Mobile</th>\n",
       "      <th>DeviceType_Tablet</th>\n",
       "      <th>Age</th>\n",
       "      <th>TimeSpent</th>\n",
       "      <th>PagesViewed</th>\n",
       "      <th>EmailSent</th>\n",
       "      <th>FormSubmissions</th>\n",
       "      <th>Downloads</th>\n",
       "      <th>CTR_ProductPage</th>\n",
       "      <th>FollowUpEmails</th>\n",
       "      <th>SocialMediaEngagement</th>\n",
       "      <th>Conversion</th>\n",
       "    </tr>\n",
       "  </thead>\n",
       "  <tbody>\n",
       "    <tr>\n",
       "      <th>84409</th>\n",
       "      <td>1</td>\n",
       "      <td>0</td>\n",
       "      <td>1</td>\n",
       "      <td>1</td>\n",
       "      <td>0</td>\n",
       "      <td>0</td>\n",
       "      <td>0</td>\n",
       "      <td>0</td>\n",
       "      <td>0</td>\n",
       "      <td>1</td>\n",
       "      <td>59</td>\n",
       "      <td>50</td>\n",
       "      <td>11</td>\n",
       "      <td>7</td>\n",
       "      <td>3</td>\n",
       "      <td>1</td>\n",
       "      <td>0.5</td>\n",
       "      <td>10</td>\n",
       "      <td>83</td>\n",
       "      <td>0</td>\n",
       "    </tr>\n",
       "    <tr>\n",
       "      <th>32618</th>\n",
       "      <td>0</td>\n",
       "      <td>0</td>\n",
       "      <td>1</td>\n",
       "      <td>1</td>\n",
       "      <td>0</td>\n",
       "      <td>0</td>\n",
       "      <td>0</td>\n",
       "      <td>1</td>\n",
       "      <td>0</td>\n",
       "      <td>0</td>\n",
       "      <td>45</td>\n",
       "      <td>9</td>\n",
       "      <td>15</td>\n",
       "      <td>9</td>\n",
       "      <td>5</td>\n",
       "      <td>1</td>\n",
       "      <td>0.8</td>\n",
       "      <td>8</td>\n",
       "      <td>103</td>\n",
       "      <td>1</td>\n",
       "    </tr>\n",
       "    <tr>\n",
       "      <th>71754</th>\n",
       "      <td>0</td>\n",
       "      <td>1</td>\n",
       "      <td>0</td>\n",
       "      <td>0</td>\n",
       "      <td>0</td>\n",
       "      <td>1</td>\n",
       "      <td>0</td>\n",
       "      <td>0</td>\n",
       "      <td>1</td>\n",
       "      <td>0</td>\n",
       "      <td>52</td>\n",
       "      <td>24</td>\n",
       "      <td>2</td>\n",
       "      <td>7</td>\n",
       "      <td>0</td>\n",
       "      <td>2</td>\n",
       "      <td>0.6</td>\n",
       "      <td>10</td>\n",
       "      <td>78</td>\n",
       "      <td>0</td>\n",
       "    </tr>\n",
       "    <tr>\n",
       "      <th>51225</th>\n",
       "      <td>1</td>\n",
       "      <td>1</td>\n",
       "      <td>0</td>\n",
       "      <td>0</td>\n",
       "      <td>0</td>\n",
       "      <td>0</td>\n",
       "      <td>1</td>\n",
       "      <td>0</td>\n",
       "      <td>1</td>\n",
       "      <td>0</td>\n",
       "      <td>23</td>\n",
       "      <td>29</td>\n",
       "      <td>8</td>\n",
       "      <td>4</td>\n",
       "      <td>0</td>\n",
       "      <td>2</td>\n",
       "      <td>0.2</td>\n",
       "      <td>10</td>\n",
       "      <td>62</td>\n",
       "      <td>0</td>\n",
       "    </tr>\n",
       "    <tr>\n",
       "      <th>54955</th>\n",
       "      <td>1</td>\n",
       "      <td>1</td>\n",
       "      <td>0</td>\n",
       "      <td>0</td>\n",
       "      <td>0</td>\n",
       "      <td>1</td>\n",
       "      <td>0</td>\n",
       "      <td>1</td>\n",
       "      <td>0</td>\n",
       "      <td>0</td>\n",
       "      <td>37</td>\n",
       "      <td>17</td>\n",
       "      <td>7</td>\n",
       "      <td>9</td>\n",
       "      <td>3</td>\n",
       "      <td>2</td>\n",
       "      <td>0.2</td>\n",
       "      <td>9</td>\n",
       "      <td>185</td>\n",
       "      <td>0</td>\n",
       "    </tr>\n",
       "    <tr>\n",
       "      <th>...</th>\n",
       "      <td>...</td>\n",
       "      <td>...</td>\n",
       "      <td>...</td>\n",
       "      <td>...</td>\n",
       "      <td>...</td>\n",
       "      <td>...</td>\n",
       "      <td>...</td>\n",
       "      <td>...</td>\n",
       "      <td>...</td>\n",
       "      <td>...</td>\n",
       "      <td>...</td>\n",
       "      <td>...</td>\n",
       "      <td>...</td>\n",
       "      <td>...</td>\n",
       "      <td>...</td>\n",
       "      <td>...</td>\n",
       "      <td>...</td>\n",
       "      <td>...</td>\n",
       "      <td>...</td>\n",
       "      <td>...</td>\n",
       "    </tr>\n",
       "    <tr>\n",
       "      <th>19879</th>\n",
       "      <td>1</td>\n",
       "      <td>0</td>\n",
       "      <td>1</td>\n",
       "      <td>0</td>\n",
       "      <td>1</td>\n",
       "      <td>0</td>\n",
       "      <td>0</td>\n",
       "      <td>1</td>\n",
       "      <td>0</td>\n",
       "      <td>0</td>\n",
       "      <td>31</td>\n",
       "      <td>10</td>\n",
       "      <td>7</td>\n",
       "      <td>10</td>\n",
       "      <td>5</td>\n",
       "      <td>2</td>\n",
       "      <td>0.3</td>\n",
       "      <td>3</td>\n",
       "      <td>132</td>\n",
       "      <td>0</td>\n",
       "    </tr>\n",
       "    <tr>\n",
       "      <th>3694</th>\n",
       "      <td>1</td>\n",
       "      <td>1</td>\n",
       "      <td>0</td>\n",
       "      <td>0</td>\n",
       "      <td>0</td>\n",
       "      <td>0</td>\n",
       "      <td>1</td>\n",
       "      <td>0</td>\n",
       "      <td>1</td>\n",
       "      <td>0</td>\n",
       "      <td>42</td>\n",
       "      <td>8</td>\n",
       "      <td>12</td>\n",
       "      <td>10</td>\n",
       "      <td>1</td>\n",
       "      <td>3</td>\n",
       "      <td>0.8</td>\n",
       "      <td>8</td>\n",
       "      <td>25</td>\n",
       "      <td>0</td>\n",
       "    </tr>\n",
       "    <tr>\n",
       "      <th>860</th>\n",
       "      <td>1</td>\n",
       "      <td>0</td>\n",
       "      <td>1</td>\n",
       "      <td>0</td>\n",
       "      <td>1</td>\n",
       "      <td>0</td>\n",
       "      <td>0</td>\n",
       "      <td>0</td>\n",
       "      <td>0</td>\n",
       "      <td>1</td>\n",
       "      <td>59</td>\n",
       "      <td>33</td>\n",
       "      <td>11</td>\n",
       "      <td>7</td>\n",
       "      <td>2</td>\n",
       "      <td>3</td>\n",
       "      <td>0.2</td>\n",
       "      <td>10</td>\n",
       "      <td>78</td>\n",
       "      <td>0</td>\n",
       "    </tr>\n",
       "    <tr>\n",
       "      <th>15795</th>\n",
       "      <td>0</td>\n",
       "      <td>1</td>\n",
       "      <td>0</td>\n",
       "      <td>1</td>\n",
       "      <td>0</td>\n",
       "      <td>0</td>\n",
       "      <td>0</td>\n",
       "      <td>1</td>\n",
       "      <td>0</td>\n",
       "      <td>0</td>\n",
       "      <td>20</td>\n",
       "      <td>8</td>\n",
       "      <td>11</td>\n",
       "      <td>5</td>\n",
       "      <td>4</td>\n",
       "      <td>2</td>\n",
       "      <td>0.2</td>\n",
       "      <td>5</td>\n",
       "      <td>42</td>\n",
       "      <td>0</td>\n",
       "    </tr>\n",
       "    <tr>\n",
       "      <th>21958</th>\n",
       "      <td>1</td>\n",
       "      <td>1</td>\n",
       "      <td>0</td>\n",
       "      <td>0</td>\n",
       "      <td>0</td>\n",
       "      <td>1</td>\n",
       "      <td>0</td>\n",
       "      <td>0</td>\n",
       "      <td>0</td>\n",
       "      <td>1</td>\n",
       "      <td>30</td>\n",
       "      <td>5</td>\n",
       "      <td>7</td>\n",
       "      <td>0</td>\n",
       "      <td>1</td>\n",
       "      <td>2</td>\n",
       "      <td>0.6</td>\n",
       "      <td>10</td>\n",
       "      <td>166</td>\n",
       "      <td>0</td>\n",
       "    </tr>\n",
       "  </tbody>\n",
       "</table>\n",
       "<p>94608 rows × 20 columns</p>\n",
       "</div>"
      ],
      "text/plain": [
       "       PaymentHistory  Gender_Female  Gender_Male  LeadSource_Email  \\\n",
       "84409               1              0            1                 1   \n",
       "32618               0              0            1                 1   \n",
       "71754               0              1            0                 0   \n",
       "51225               1              1            0                 0   \n",
       "54955               1              1            0                 0   \n",
       "...               ...            ...          ...               ...   \n",
       "19879               1              0            1                 0   \n",
       "3694                1              1            0                 0   \n",
       "860                 1              0            1                 0   \n",
       "15795               0              1            0                 1   \n",
       "21958               1              1            0                 0   \n",
       "\n",
       "       LeadSource_Organic  LeadSource_Referral  LeadSource_Social Media  \\\n",
       "84409                   0                    0                        0   \n",
       "32618                   0                    0                        0   \n",
       "71754                   0                    1                        0   \n",
       "51225                   0                    0                        1   \n",
       "54955                   0                    1                        0   \n",
       "...                   ...                  ...                      ...   \n",
       "19879                   1                    0                        0   \n",
       "3694                    0                    0                        1   \n",
       "860                     1                    0                        0   \n",
       "15795                   0                    0                        0   \n",
       "21958                   0                    1                        0   \n",
       "\n",
       "       DeviceType_Desktop  DeviceType_Mobile  DeviceType_Tablet  Age  \\\n",
       "84409                   0                  0                  1   59   \n",
       "32618                   1                  0                  0   45   \n",
       "71754                   0                  1                  0   52   \n",
       "51225                   0                  1                  0   23   \n",
       "54955                   1                  0                  0   37   \n",
       "...                   ...                ...                ...  ...   \n",
       "19879                   1                  0                  0   31   \n",
       "3694                    0                  1                  0   42   \n",
       "860                     0                  0                  1   59   \n",
       "15795                   1                  0                  0   20   \n",
       "21958                   0                  0                  1   30   \n",
       "\n",
       "       TimeSpent  PagesViewed  EmailSent  FormSubmissions  Downloads  \\\n",
       "84409         50           11          7                3          1   \n",
       "32618          9           15          9                5          1   \n",
       "71754         24            2          7                0          2   \n",
       "51225         29            8          4                0          2   \n",
       "54955         17            7          9                3          2   \n",
       "...          ...          ...        ...              ...        ...   \n",
       "19879         10            7         10                5          2   \n",
       "3694           8           12         10                1          3   \n",
       "860           33           11          7                2          3   \n",
       "15795          8           11          5                4          2   \n",
       "21958          5            7          0                1          2   \n",
       "\n",
       "       CTR_ProductPage  FollowUpEmails  SocialMediaEngagement  Conversion  \n",
       "84409              0.5              10                     83           0  \n",
       "32618              0.8               8                    103           1  \n",
       "71754              0.6              10                     78           0  \n",
       "51225              0.2              10                     62           0  \n",
       "54955              0.2               9                    185           0  \n",
       "...                ...             ...                    ...         ...  \n",
       "19879              0.3               3                    132           0  \n",
       "3694               0.8               8                     25           0  \n",
       "860                0.2              10                     78           0  \n",
       "15795              0.2               5                     42           0  \n",
       "21958              0.6              10                    166           0  \n",
       "\n",
       "[94608 rows x 20 columns]"
      ]
     },
     "execution_count": 19,
     "metadata": {},
     "output_type": "execute_result"
    }
   ],
   "source": [
    "df_train=pd.concat([X_train, y_train], axis=1)\n",
    "df_train"
   ]
  },
  {
   "cell_type": "code",
   "execution_count": 20,
   "id": "188bc960-1cdf-413a-846c-de476df7503a",
   "metadata": {
    "tags": []
   },
   "outputs": [
    {
     "name": "stdout",
     "output_type": "stream",
     "text": [
      "Conversion\n",
      "0    93055\n",
      "Name: count, dtype: int64\n",
      "Conversion\n",
      "1    1553\n",
      "Name: count, dtype: int64\n"
     ]
    }
   ],
   "source": [
    "#downsampling\n",
    "category_0 = df_train[df_train['Conversion'] == 0] # negative class (majority)\n",
    "category_1 = df_train[df_train['Conversion'] == 1] # positive class (minority)\n",
    "\n",
    "print(category_0['Conversion'].value_counts())\n",
    "print(category_1['Conversion'].value_counts())"
   ]
  },
  {
   "cell_type": "code",
   "execution_count": 21,
   "id": "1cb33317-2fa6-42bc-ac0b-9d360efa39b1",
   "metadata": {
    "tags": []
   },
   "outputs": [
    {
     "name": "stdout",
     "output_type": "stream",
     "text": [
      "(5000, 20)\n",
      "(1553, 20)\n"
     ]
    }
   ],
   "source": [
    "c1_len=5000\n",
    "category_0_down = category_0.sample(c1_len)\n",
    "print(category_0_down.shape)\n",
    "print(category_1.shape)"
   ]
  },
  {
   "cell_type": "code",
   "execution_count": 22,
   "id": "506d99f5-f6c7-44c0-8834-67c89370d06c",
   "metadata": {
    "tags": []
   },
   "outputs": [
    {
     "data": {
      "text/plain": [
       "Conversion\n",
       "0    5000\n",
       "1    1553\n",
       "Name: count, dtype: int64"
      ]
     },
     "execution_count": 22,
     "metadata": {},
     "output_type": "execute_result"
    }
   ],
   "source": [
    "# reassemble the data\n",
    "df_train = pd.concat([category_0_down, category_1], axis=0)\n",
    "# shuffle the data\n",
    "df_train = df_train.sample(frac=1) # frac specifies ratio of the shuffled output to the input size. for frac=1 the number of rows is unchanged\n",
    "df_train['Conversion'].value_counts()"
   ]
  },
  {
   "cell_type": "code",
   "execution_count": 23,
   "id": "59234f1e-1979-4d42-86d6-a87de6084241",
   "metadata": {
    "tags": []
   },
   "outputs": [
    {
     "data": {
      "text/html": [
       "<div>\n",
       "<style scoped>\n",
       "    .dataframe tbody tr th:only-of-type {\n",
       "        vertical-align: middle;\n",
       "    }\n",
       "\n",
       "    .dataframe tbody tr th {\n",
       "        vertical-align: top;\n",
       "    }\n",
       "\n",
       "    .dataframe thead th {\n",
       "        text-align: right;\n",
       "    }\n",
       "</style>\n",
       "<table border=\"1\" class=\"dataframe\">\n",
       "  <thead>\n",
       "    <tr style=\"text-align: right;\">\n",
       "      <th></th>\n",
       "      <th>PaymentHistory</th>\n",
       "      <th>Gender_Female</th>\n",
       "      <th>Gender_Male</th>\n",
       "      <th>LeadSource_Email</th>\n",
       "      <th>LeadSource_Organic</th>\n",
       "      <th>LeadSource_Referral</th>\n",
       "      <th>LeadSource_Social Media</th>\n",
       "      <th>DeviceType_Desktop</th>\n",
       "      <th>DeviceType_Mobile</th>\n",
       "      <th>DeviceType_Tablet</th>\n",
       "      <th>Age</th>\n",
       "      <th>TimeSpent</th>\n",
       "      <th>PagesViewed</th>\n",
       "      <th>EmailSent</th>\n",
       "      <th>FormSubmissions</th>\n",
       "      <th>Downloads</th>\n",
       "      <th>CTR_ProductPage</th>\n",
       "      <th>FollowUpEmails</th>\n",
       "      <th>SocialMediaEngagement</th>\n",
       "      <th>Conversion</th>\n",
       "    </tr>\n",
       "  </thead>\n",
       "  <tbody>\n",
       "    <tr>\n",
       "      <th>22162</th>\n",
       "      <td>1</td>\n",
       "      <td>0</td>\n",
       "      <td>1</td>\n",
       "      <td>1</td>\n",
       "      <td>0</td>\n",
       "      <td>0</td>\n",
       "      <td>0</td>\n",
       "      <td>0</td>\n",
       "      <td>0</td>\n",
       "      <td>1</td>\n",
       "      <td>39</td>\n",
       "      <td>10</td>\n",
       "      <td>5</td>\n",
       "      <td>7</td>\n",
       "      <td>4</td>\n",
       "      <td>2</td>\n",
       "      <td>0.6</td>\n",
       "      <td>4</td>\n",
       "      <td>57</td>\n",
       "      <td>0</td>\n",
       "    </tr>\n",
       "    <tr>\n",
       "      <th>28031</th>\n",
       "      <td>0</td>\n",
       "      <td>0</td>\n",
       "      <td>1</td>\n",
       "      <td>0</td>\n",
       "      <td>0</td>\n",
       "      <td>0</td>\n",
       "      <td>1</td>\n",
       "      <td>0</td>\n",
       "      <td>1</td>\n",
       "      <td>0</td>\n",
       "      <td>49</td>\n",
       "      <td>20</td>\n",
       "      <td>3</td>\n",
       "      <td>9</td>\n",
       "      <td>1</td>\n",
       "      <td>1</td>\n",
       "      <td>0.8</td>\n",
       "      <td>5</td>\n",
       "      <td>163</td>\n",
       "      <td>0</td>\n",
       "    </tr>\n",
       "    <tr>\n",
       "      <th>66842</th>\n",
       "      <td>0</td>\n",
       "      <td>0</td>\n",
       "      <td>1</td>\n",
       "      <td>1</td>\n",
       "      <td>0</td>\n",
       "      <td>0</td>\n",
       "      <td>0</td>\n",
       "      <td>1</td>\n",
       "      <td>0</td>\n",
       "      <td>0</td>\n",
       "      <td>45</td>\n",
       "      <td>23</td>\n",
       "      <td>6</td>\n",
       "      <td>2</td>\n",
       "      <td>0</td>\n",
       "      <td>3</td>\n",
       "      <td>0.1</td>\n",
       "      <td>5</td>\n",
       "      <td>96</td>\n",
       "      <td>0</td>\n",
       "    </tr>\n",
       "    <tr>\n",
       "      <th>82713</th>\n",
       "      <td>1</td>\n",
       "      <td>0</td>\n",
       "      <td>1</td>\n",
       "      <td>0</td>\n",
       "      <td>0</td>\n",
       "      <td>0</td>\n",
       "      <td>1</td>\n",
       "      <td>0</td>\n",
       "      <td>0</td>\n",
       "      <td>1</td>\n",
       "      <td>49</td>\n",
       "      <td>26</td>\n",
       "      <td>2</td>\n",
       "      <td>1</td>\n",
       "      <td>2</td>\n",
       "      <td>0</td>\n",
       "      <td>0.7</td>\n",
       "      <td>5</td>\n",
       "      <td>92</td>\n",
       "      <td>0</td>\n",
       "    </tr>\n",
       "    <tr>\n",
       "      <th>83437</th>\n",
       "      <td>0</td>\n",
       "      <td>1</td>\n",
       "      <td>0</td>\n",
       "      <td>0</td>\n",
       "      <td>0</td>\n",
       "      <td>1</td>\n",
       "      <td>0</td>\n",
       "      <td>1</td>\n",
       "      <td>0</td>\n",
       "      <td>0</td>\n",
       "      <td>21</td>\n",
       "      <td>14</td>\n",
       "      <td>4</td>\n",
       "      <td>5</td>\n",
       "      <td>0</td>\n",
       "      <td>1</td>\n",
       "      <td>0.6</td>\n",
       "      <td>3</td>\n",
       "      <td>79</td>\n",
       "      <td>0</td>\n",
       "    </tr>\n",
       "    <tr>\n",
       "      <th>...</th>\n",
       "      <td>...</td>\n",
       "      <td>...</td>\n",
       "      <td>...</td>\n",
       "      <td>...</td>\n",
       "      <td>...</td>\n",
       "      <td>...</td>\n",
       "      <td>...</td>\n",
       "      <td>...</td>\n",
       "      <td>...</td>\n",
       "      <td>...</td>\n",
       "      <td>...</td>\n",
       "      <td>...</td>\n",
       "      <td>...</td>\n",
       "      <td>...</td>\n",
       "      <td>...</td>\n",
       "      <td>...</td>\n",
       "      <td>...</td>\n",
       "      <td>...</td>\n",
       "      <td>...</td>\n",
       "      <td>...</td>\n",
       "    </tr>\n",
       "    <tr>\n",
       "      <th>26057</th>\n",
       "      <td>0</td>\n",
       "      <td>0</td>\n",
       "      <td>1</td>\n",
       "      <td>0</td>\n",
       "      <td>0</td>\n",
       "      <td>1</td>\n",
       "      <td>0</td>\n",
       "      <td>0</td>\n",
       "      <td>0</td>\n",
       "      <td>1</td>\n",
       "      <td>43</td>\n",
       "      <td>32</td>\n",
       "      <td>3</td>\n",
       "      <td>0</td>\n",
       "      <td>5</td>\n",
       "      <td>2</td>\n",
       "      <td>0.7</td>\n",
       "      <td>7</td>\n",
       "      <td>39</td>\n",
       "      <td>0</td>\n",
       "    </tr>\n",
       "    <tr>\n",
       "      <th>40133</th>\n",
       "      <td>0</td>\n",
       "      <td>0</td>\n",
       "      <td>1</td>\n",
       "      <td>0</td>\n",
       "      <td>0</td>\n",
       "      <td>0</td>\n",
       "      <td>1</td>\n",
       "      <td>1</td>\n",
       "      <td>0</td>\n",
       "      <td>0</td>\n",
       "      <td>35</td>\n",
       "      <td>47</td>\n",
       "      <td>14</td>\n",
       "      <td>4</td>\n",
       "      <td>3</td>\n",
       "      <td>0</td>\n",
       "      <td>0.5</td>\n",
       "      <td>0</td>\n",
       "      <td>189</td>\n",
       "      <td>1</td>\n",
       "    </tr>\n",
       "    <tr>\n",
       "      <th>21557</th>\n",
       "      <td>0</td>\n",
       "      <td>0</td>\n",
       "      <td>1</td>\n",
       "      <td>0</td>\n",
       "      <td>0</td>\n",
       "      <td>0</td>\n",
       "      <td>1</td>\n",
       "      <td>0</td>\n",
       "      <td>1</td>\n",
       "      <td>0</td>\n",
       "      <td>57</td>\n",
       "      <td>43</td>\n",
       "      <td>11</td>\n",
       "      <td>10</td>\n",
       "      <td>1</td>\n",
       "      <td>2</td>\n",
       "      <td>0.7</td>\n",
       "      <td>6</td>\n",
       "      <td>142</td>\n",
       "      <td>0</td>\n",
       "    </tr>\n",
       "    <tr>\n",
       "      <th>5019</th>\n",
       "      <td>1</td>\n",
       "      <td>0</td>\n",
       "      <td>1</td>\n",
       "      <td>1</td>\n",
       "      <td>0</td>\n",
       "      <td>0</td>\n",
       "      <td>0</td>\n",
       "      <td>1</td>\n",
       "      <td>0</td>\n",
       "      <td>0</td>\n",
       "      <td>28</td>\n",
       "      <td>28</td>\n",
       "      <td>6</td>\n",
       "      <td>8</td>\n",
       "      <td>1</td>\n",
       "      <td>1</td>\n",
       "      <td>0.6</td>\n",
       "      <td>4</td>\n",
       "      <td>106</td>\n",
       "      <td>0</td>\n",
       "    </tr>\n",
       "    <tr>\n",
       "      <th>95683</th>\n",
       "      <td>1</td>\n",
       "      <td>1</td>\n",
       "      <td>0</td>\n",
       "      <td>0</td>\n",
       "      <td>1</td>\n",
       "      <td>0</td>\n",
       "      <td>0</td>\n",
       "      <td>1</td>\n",
       "      <td>0</td>\n",
       "      <td>0</td>\n",
       "      <td>52</td>\n",
       "      <td>45</td>\n",
       "      <td>5</td>\n",
       "      <td>3</td>\n",
       "      <td>4</td>\n",
       "      <td>2</td>\n",
       "      <td>0.4</td>\n",
       "      <td>7</td>\n",
       "      <td>62</td>\n",
       "      <td>0</td>\n",
       "    </tr>\n",
       "  </tbody>\n",
       "</table>\n",
       "<p>6553 rows × 20 columns</p>\n",
       "</div>"
      ],
      "text/plain": [
       "       PaymentHistory  Gender_Female  Gender_Male  LeadSource_Email  \\\n",
       "22162               1              0            1                 1   \n",
       "28031               0              0            1                 0   \n",
       "66842               0              0            1                 1   \n",
       "82713               1              0            1                 0   \n",
       "83437               0              1            0                 0   \n",
       "...               ...            ...          ...               ...   \n",
       "26057               0              0            1                 0   \n",
       "40133               0              0            1                 0   \n",
       "21557               0              0            1                 0   \n",
       "5019                1              0            1                 1   \n",
       "95683               1              1            0                 0   \n",
       "\n",
       "       LeadSource_Organic  LeadSource_Referral  LeadSource_Social Media  \\\n",
       "22162                   0                    0                        0   \n",
       "28031                   0                    0                        1   \n",
       "66842                   0                    0                        0   \n",
       "82713                   0                    0                        1   \n",
       "83437                   0                    1                        0   \n",
       "...                   ...                  ...                      ...   \n",
       "26057                   0                    1                        0   \n",
       "40133                   0                    0                        1   \n",
       "21557                   0                    0                        1   \n",
       "5019                    0                    0                        0   \n",
       "95683                   1                    0                        0   \n",
       "\n",
       "       DeviceType_Desktop  DeviceType_Mobile  DeviceType_Tablet  Age  \\\n",
       "22162                   0                  0                  1   39   \n",
       "28031                   0                  1                  0   49   \n",
       "66842                   1                  0                  0   45   \n",
       "82713                   0                  0                  1   49   \n",
       "83437                   1                  0                  0   21   \n",
       "...                   ...                ...                ...  ...   \n",
       "26057                   0                  0                  1   43   \n",
       "40133                   1                  0                  0   35   \n",
       "21557                   0                  1                  0   57   \n",
       "5019                    1                  0                  0   28   \n",
       "95683                   1                  0                  0   52   \n",
       "\n",
       "       TimeSpent  PagesViewed  EmailSent  FormSubmissions  Downloads  \\\n",
       "22162         10            5          7                4          2   \n",
       "28031         20            3          9                1          1   \n",
       "66842         23            6          2                0          3   \n",
       "82713         26            2          1                2          0   \n",
       "83437         14            4          5                0          1   \n",
       "...          ...          ...        ...              ...        ...   \n",
       "26057         32            3          0                5          2   \n",
       "40133         47           14          4                3          0   \n",
       "21557         43           11         10                1          2   \n",
       "5019          28            6          8                1          1   \n",
       "95683         45            5          3                4          2   \n",
       "\n",
       "       CTR_ProductPage  FollowUpEmails  SocialMediaEngagement  Conversion  \n",
       "22162              0.6               4                     57           0  \n",
       "28031              0.8               5                    163           0  \n",
       "66842              0.1               5                     96           0  \n",
       "82713              0.7               5                     92           0  \n",
       "83437              0.6               3                     79           0  \n",
       "...                ...             ...                    ...         ...  \n",
       "26057              0.7               7                     39           0  \n",
       "40133              0.5               0                    189           1  \n",
       "21557              0.7               6                    142           0  \n",
       "5019               0.6               4                    106           0  \n",
       "95683              0.4               7                     62           0  \n",
       "\n",
       "[6553 rows x 20 columns]"
      ]
     },
     "execution_count": 23,
     "metadata": {},
     "output_type": "execute_result"
    }
   ],
   "source": [
    "df_train"
   ]
  },
  {
   "cell_type": "code",
   "execution_count": 24,
   "id": "d0a1139d-550c-4839-8fa6-233985a0d0f2",
   "metadata": {
    "tags": []
   },
   "outputs": [],
   "source": [
    "X_train=df_train.drop(columns=[\"Conversion\"])\n",
    "y_train=df_train[[\"Conversion\"]]"
   ]
  },
  {
   "cell_type": "markdown",
   "id": "04c92463-b0ff-42b7-afc3-4a10dda2fb29",
   "metadata": {},
   "source": [
    "## UPSAMPLE USING SMOTE"
   ]
  },
  {
   "cell_type": "code",
   "execution_count": 25,
   "id": "7d183aa0-0d93-4b3a-b8a9-fc3070a335ee",
   "metadata": {
    "tags": []
   },
   "outputs": [],
   "source": [
    "# Upsampling using SMOTE\n",
    "smote = SMOTE()"
   ]
  },
  {
   "cell_type": "code",
   "execution_count": 26,
   "id": "39d6669e-36ab-4a73-929e-063c68b60bd8",
   "metadata": {
    "tags": []
   },
   "outputs": [
    {
     "data": {
      "text/plain": [
       "Conversion\n",
       "0             5000\n",
       "1             5000\n",
       "Name: count, dtype: int64"
      ]
     },
     "execution_count": 26,
     "metadata": {},
     "output_type": "execute_result"
    }
   ],
   "source": [
    "X_train_sm, y_train_sm = smote.fit_resample(X_train, y_train)\n",
    "y_train_sm.value_counts()"
   ]
  },
  {
   "cell_type": "markdown",
   "id": "384edfdc-93a4-4760-9d22-fb685e1bae62",
   "metadata": {},
   "source": [
    "## SCALING"
   ]
  },
  {
   "cell_type": "code",
   "execution_count": 27,
   "id": "9b567f49-9680-4d73-8b80-394578d139b2",
   "metadata": {
    "tags": []
   },
   "outputs": [
    {
     "data": {
      "text/html": [
       "<style>#sk-container-id-1 {color: black;}#sk-container-id-1 pre{padding: 0;}#sk-container-id-1 div.sk-toggleable {background-color: white;}#sk-container-id-1 label.sk-toggleable__label {cursor: pointer;display: block;width: 100%;margin-bottom: 0;padding: 0.3em;box-sizing: border-box;text-align: center;}#sk-container-id-1 label.sk-toggleable__label-arrow:before {content: \"▸\";float: left;margin-right: 0.25em;color: #696969;}#sk-container-id-1 label.sk-toggleable__label-arrow:hover:before {color: black;}#sk-container-id-1 div.sk-estimator:hover label.sk-toggleable__label-arrow:before {color: black;}#sk-container-id-1 div.sk-toggleable__content {max-height: 0;max-width: 0;overflow: hidden;text-align: left;background-color: #f0f8ff;}#sk-container-id-1 div.sk-toggleable__content pre {margin: 0.2em;color: black;border-radius: 0.25em;background-color: #f0f8ff;}#sk-container-id-1 input.sk-toggleable__control:checked~div.sk-toggleable__content {max-height: 200px;max-width: 100%;overflow: auto;}#sk-container-id-1 input.sk-toggleable__control:checked~label.sk-toggleable__label-arrow:before {content: \"▾\";}#sk-container-id-1 div.sk-estimator input.sk-toggleable__control:checked~label.sk-toggleable__label {background-color: #d4ebff;}#sk-container-id-1 div.sk-label input.sk-toggleable__control:checked~label.sk-toggleable__label {background-color: #d4ebff;}#sk-container-id-1 input.sk-hidden--visually {border: 0;clip: rect(1px 1px 1px 1px);clip: rect(1px, 1px, 1px, 1px);height: 1px;margin: -1px;overflow: hidden;padding: 0;position: absolute;width: 1px;}#sk-container-id-1 div.sk-estimator {font-family: monospace;background-color: #f0f8ff;border: 1px dotted black;border-radius: 0.25em;box-sizing: border-box;margin-bottom: 0.5em;}#sk-container-id-1 div.sk-estimator:hover {background-color: #d4ebff;}#sk-container-id-1 div.sk-parallel-item::after {content: \"\";width: 100%;border-bottom: 1px solid gray;flex-grow: 1;}#sk-container-id-1 div.sk-label:hover label.sk-toggleable__label {background-color: #d4ebff;}#sk-container-id-1 div.sk-serial::before {content: \"\";position: absolute;border-left: 1px solid gray;box-sizing: border-box;top: 0;bottom: 0;left: 50%;z-index: 0;}#sk-container-id-1 div.sk-serial {display: flex;flex-direction: column;align-items: center;background-color: white;padding-right: 0.2em;padding-left: 0.2em;position: relative;}#sk-container-id-1 div.sk-item {position: relative;z-index: 1;}#sk-container-id-1 div.sk-parallel {display: flex;align-items: stretch;justify-content: center;background-color: white;position: relative;}#sk-container-id-1 div.sk-item::before, #sk-container-id-1 div.sk-parallel-item::before {content: \"\";position: absolute;border-left: 1px solid gray;box-sizing: border-box;top: 0;bottom: 0;left: 50%;z-index: -1;}#sk-container-id-1 div.sk-parallel-item {display: flex;flex-direction: column;z-index: 1;position: relative;background-color: white;}#sk-container-id-1 div.sk-parallel-item:first-child::after {align-self: flex-end;width: 50%;}#sk-container-id-1 div.sk-parallel-item:last-child::after {align-self: flex-start;width: 50%;}#sk-container-id-1 div.sk-parallel-item:only-child::after {width: 0;}#sk-container-id-1 div.sk-dashed-wrapped {border: 1px dashed gray;margin: 0 0.4em 0.5em 0.4em;box-sizing: border-box;padding-bottom: 0.4em;background-color: white;}#sk-container-id-1 div.sk-label label {font-family: monospace;font-weight: bold;display: inline-block;line-height: 1.2em;}#sk-container-id-1 div.sk-label-container {text-align: center;}#sk-container-id-1 div.sk-container {/* jupyter's `normalize.less` sets `[hidden] { display: none; }` but bootstrap.min.css set `[hidden] { display: none !important; }` so we also need the `!important` here to be able to override the default hidden behavior on the sphinx rendered scikit-learn.org. See: https://github.com/scikit-learn/scikit-learn/issues/21755 */display: inline-block !important;position: relative;}#sk-container-id-1 div.sk-text-repr-fallback {display: none;}</style><div id=\"sk-container-id-1\" class=\"sk-top-container\"><div class=\"sk-text-repr-fallback\"><pre>PowerTransformer()</pre><b>In a Jupyter environment, please rerun this cell to show the HTML representation or trust the notebook. <br />On GitHub, the HTML representation is unable to render, please try loading this page with nbviewer.org.</b></div><div class=\"sk-container\" hidden><div class=\"sk-item\"><div class=\"sk-estimator sk-toggleable\"><input class=\"sk-toggleable__control sk-hidden--visually\" id=\"sk-estimator-id-1\" type=\"checkbox\" checked><label for=\"sk-estimator-id-1\" class=\"sk-toggleable__label sk-toggleable__label-arrow\">PowerTransformer</label><div class=\"sk-toggleable__content\"><pre>PowerTransformer()</pre></div></div></div></div></div>"
      ],
      "text/plain": [
       "PowerTransformer()"
      ]
     },
     "execution_count": 27,
     "metadata": {},
     "output_type": "execute_result"
    }
   ],
   "source": [
    "#scaling\n",
    "pt=PowerTransformer()\n",
    "pt.fit(X_train)\n",
    "X_train_pt=pt.transform(X_train_sm)\n",
    "X_test_pt=pt.transform(X_test)"
   ]
  },
  {
   "cell_type": "markdown",
   "id": "3dc5fbfc-6153-449b-8a76-e4c36ee89229",
   "metadata": {},
   "source": [
    "## LOGISTICS REGRESSION"
   ]
  },
  {
   "cell_type": "code",
   "execution_count": 28,
   "id": "c523abc9-141d-469e-af77-c36ed2c2c585",
   "metadata": {
    "scrolled": true,
    "tags": []
   },
   "outputs": [
    {
     "name": "stderr",
     "output_type": "stream",
     "text": [
      "C:\\Users\\user\\anaconda3\\Lib\\site-packages\\sklearn\\utils\\validation.py:1184: DataConversionWarning: A column-vector y was passed when a 1d array was expected. Please change the shape of y to (n_samples, ), for example using ravel().\n",
      "  y = column_or_1d(y, warn=True)\n"
     ]
    },
    {
     "data": {
      "text/html": [
       "<style>#sk-container-id-2 {color: black;}#sk-container-id-2 pre{padding: 0;}#sk-container-id-2 div.sk-toggleable {background-color: white;}#sk-container-id-2 label.sk-toggleable__label {cursor: pointer;display: block;width: 100%;margin-bottom: 0;padding: 0.3em;box-sizing: border-box;text-align: center;}#sk-container-id-2 label.sk-toggleable__label-arrow:before {content: \"▸\";float: left;margin-right: 0.25em;color: #696969;}#sk-container-id-2 label.sk-toggleable__label-arrow:hover:before {color: black;}#sk-container-id-2 div.sk-estimator:hover label.sk-toggleable__label-arrow:before {color: black;}#sk-container-id-2 div.sk-toggleable__content {max-height: 0;max-width: 0;overflow: hidden;text-align: left;background-color: #f0f8ff;}#sk-container-id-2 div.sk-toggleable__content pre {margin: 0.2em;color: black;border-radius: 0.25em;background-color: #f0f8ff;}#sk-container-id-2 input.sk-toggleable__control:checked~div.sk-toggleable__content {max-height: 200px;max-width: 100%;overflow: auto;}#sk-container-id-2 input.sk-toggleable__control:checked~label.sk-toggleable__label-arrow:before {content: \"▾\";}#sk-container-id-2 div.sk-estimator input.sk-toggleable__control:checked~label.sk-toggleable__label {background-color: #d4ebff;}#sk-container-id-2 div.sk-label input.sk-toggleable__control:checked~label.sk-toggleable__label {background-color: #d4ebff;}#sk-container-id-2 input.sk-hidden--visually {border: 0;clip: rect(1px 1px 1px 1px);clip: rect(1px, 1px, 1px, 1px);height: 1px;margin: -1px;overflow: hidden;padding: 0;position: absolute;width: 1px;}#sk-container-id-2 div.sk-estimator {font-family: monospace;background-color: #f0f8ff;border: 1px dotted black;border-radius: 0.25em;box-sizing: border-box;margin-bottom: 0.5em;}#sk-container-id-2 div.sk-estimator:hover {background-color: #d4ebff;}#sk-container-id-2 div.sk-parallel-item::after {content: \"\";width: 100%;border-bottom: 1px solid gray;flex-grow: 1;}#sk-container-id-2 div.sk-label:hover label.sk-toggleable__label {background-color: #d4ebff;}#sk-container-id-2 div.sk-serial::before {content: \"\";position: absolute;border-left: 1px solid gray;box-sizing: border-box;top: 0;bottom: 0;left: 50%;z-index: 0;}#sk-container-id-2 div.sk-serial {display: flex;flex-direction: column;align-items: center;background-color: white;padding-right: 0.2em;padding-left: 0.2em;position: relative;}#sk-container-id-2 div.sk-item {position: relative;z-index: 1;}#sk-container-id-2 div.sk-parallel {display: flex;align-items: stretch;justify-content: center;background-color: white;position: relative;}#sk-container-id-2 div.sk-item::before, #sk-container-id-2 div.sk-parallel-item::before {content: \"\";position: absolute;border-left: 1px solid gray;box-sizing: border-box;top: 0;bottom: 0;left: 50%;z-index: -1;}#sk-container-id-2 div.sk-parallel-item {display: flex;flex-direction: column;z-index: 1;position: relative;background-color: white;}#sk-container-id-2 div.sk-parallel-item:first-child::after {align-self: flex-end;width: 50%;}#sk-container-id-2 div.sk-parallel-item:last-child::after {align-self: flex-start;width: 50%;}#sk-container-id-2 div.sk-parallel-item:only-child::after {width: 0;}#sk-container-id-2 div.sk-dashed-wrapped {border: 1px dashed gray;margin: 0 0.4em 0.5em 0.4em;box-sizing: border-box;padding-bottom: 0.4em;background-color: white;}#sk-container-id-2 div.sk-label label {font-family: monospace;font-weight: bold;display: inline-block;line-height: 1.2em;}#sk-container-id-2 div.sk-label-container {text-align: center;}#sk-container-id-2 div.sk-container {/* jupyter's `normalize.less` sets `[hidden] { display: none; }` but bootstrap.min.css set `[hidden] { display: none !important; }` so we also need the `!important` here to be able to override the default hidden behavior on the sphinx rendered scikit-learn.org. See: https://github.com/scikit-learn/scikit-learn/issues/21755 */display: inline-block !important;position: relative;}#sk-container-id-2 div.sk-text-repr-fallback {display: none;}</style><div id=\"sk-container-id-2\" class=\"sk-top-container\"><div class=\"sk-text-repr-fallback\"><pre>LogisticRegression(class_weight={0: 1, 1: 2})</pre><b>In a Jupyter environment, please rerun this cell to show the HTML representation or trust the notebook. <br />On GitHub, the HTML representation is unable to render, please try loading this page with nbviewer.org.</b></div><div class=\"sk-container\" hidden><div class=\"sk-item\"><div class=\"sk-estimator sk-toggleable\"><input class=\"sk-toggleable__control sk-hidden--visually\" id=\"sk-estimator-id-2\" type=\"checkbox\" checked><label for=\"sk-estimator-id-2\" class=\"sk-toggleable__label sk-toggleable__label-arrow\">LogisticRegression</label><div class=\"sk-toggleable__content\"><pre>LogisticRegression(class_weight={0: 1, 1: 2})</pre></div></div></div></div></div>"
      ],
      "text/plain": [
       "LogisticRegression(class_weight={0: 1, 1: 2})"
      ]
     },
     "execution_count": 28,
     "metadata": {},
     "output_type": "execute_result"
    },
    {
     "data": {
      "text/html": [
       "<div>\n",
       "<style scoped>\n",
       "    .dataframe tbody tr th:only-of-type {\n",
       "        vertical-align: middle;\n",
       "    }\n",
       "\n",
       "    .dataframe tbody tr th {\n",
       "        vertical-align: top;\n",
       "    }\n",
       "\n",
       "    .dataframe thead th {\n",
       "        text-align: right;\n",
       "    }\n",
       "</style>\n",
       "<table border=\"1\" class=\"dataframe\">\n",
       "  <thead>\n",
       "    <tr style=\"text-align: right;\">\n",
       "      <th></th>\n",
       "      <th>Error_metric</th>\n",
       "      <th>Train</th>\n",
       "      <th>Test</th>\n",
       "    </tr>\n",
       "  </thead>\n",
       "  <tbody>\n",
       "    <tr>\n",
       "      <th>0</th>\n",
       "      <td>Accuracy</td>\n",
       "      <td>0.884800</td>\n",
       "      <td>0.829851</td>\n",
       "    </tr>\n",
       "    <tr>\n",
       "      <th>1</th>\n",
       "      <td>Precision</td>\n",
       "      <td>0.845422</td>\n",
       "      <td>0.072948</td>\n",
       "    </tr>\n",
       "    <tr>\n",
       "      <th>2</th>\n",
       "      <td>Recall</td>\n",
       "      <td>0.941800</td>\n",
       "      <td>0.818540</td>\n",
       "    </tr>\n",
       "  </tbody>\n",
       "</table>\n",
       "</div>"
      ],
      "text/plain": [
       "  Error_metric     Train      Test\n",
       "0     Accuracy  0.884800  0.829851\n",
       "1    Precision  0.845422  0.072948\n",
       "2       Recall  0.941800  0.818540"
      ]
     },
     "metadata": {},
     "output_type": "display_data"
    }
   ],
   "source": [
    "#fitting LOGISTICS REGRESSION\n",
    "\n",
    "weights = {0: 1, 1: 2}\n",
    "log_model = LogisticRegression(class_weight=weights) # weights to be added if we want to avoid fall negative or fall positive\n",
    "log_model.fit(X_train_pt, y_train_sm)\n",
    "\n",
    "# predicting data\n",
    "y_pred_train = log_model.predict(X_train_pt)\n",
    "y_pred_test = log_model.predict(X_test_pt)\n",
    "\n",
    "\n",
    "#results\n",
    "performance_log1 = pd.DataFrame({'Error_metric': ['Accuracy','Precision','Recall'],\n",
    "                               'Train': [accuracy_score(y_train_sm, y_pred_train),\n",
    "                                         precision_score(y_train_sm, y_pred_train),\n",
    "                                         recall_score(y_train_sm, y_pred_train)],\n",
    "                               'Test': [accuracy_score(y_test, y_pred_test),\n",
    "                                        precision_score(y_test, y_pred_test),\n",
    "                                        recall_score(y_test, y_pred_test)]})\n",
    "\n",
    "display(performance_log1)"
   ]
  },
  {
   "cell_type": "code",
   "execution_count": 29,
   "id": "f9175ef5",
   "metadata": {},
   "outputs": [],
   "source": [
    "performance_log1.to_csv('LOGISTICS REGRESSION.csv', index=False)"
   ]
  },
  {
   "cell_type": "markdown",
   "id": "fce92918-c6de-4ab9-8fc9-3fcff907b732",
   "metadata": {},
   "source": [
    "## TRAIN SET CONFUSION MATRIX"
   ]
  },
  {
   "cell_type": "code",
   "execution_count": 30,
   "id": "77b3422e-79e4-4da8-ad76-7f0c823cbbf8",
   "metadata": {
    "tags": []
   },
   "outputs": [
    {
     "data": {
      "text/plain": [
       "<sklearn.metrics._plot.confusion_matrix.ConfusionMatrixDisplay at 0x1439c037e90>"
      ]
     },
     "execution_count": 30,
     "metadata": {},
     "output_type": "execute_result"
    },
    {
     "data": {
      "image/png": "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",
      "text/plain": [
       "<Figure size 640x480 with 2 Axes>"
      ]
     },
     "metadata": {},
     "output_type": "display_data"
    }
   ],
   "source": [
    "cm_train = confusion_matrix(y_train_sm, y_pred_train, labels = log_model.classes_)\n",
    "disp = ConfusionMatrixDisplay(cm_train)\n",
    "disp.plot()"
   ]
  },
  {
   "cell_type": "markdown",
   "id": "611b1590-cec0-4d75-83e0-daa5c05f2927",
   "metadata": {},
   "source": [
    "## TEST SET CONFUSION MATRIX"
   ]
  },
  {
   "cell_type": "code",
   "execution_count": 31,
   "id": "8f15a0b1-d1b5-48e6-aae1-025b1b2e8481",
   "metadata": {
    "tags": []
   },
   "outputs": [
    {
     "data": {
      "text/plain": [
       "<sklearn.metrics._plot.confusion_matrix.ConfusionMatrixDisplay at 0x1439fcf61d0>"
      ]
     },
     "execution_count": 31,
     "metadata": {},
     "output_type": "execute_result"
    },
    {
     "data": {
      "image/png": "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",
      "text/plain": [
       "<Figure size 640x480 with 2 Axes>"
      ]
     },
     "metadata": {},
     "output_type": "display_data"
    }
   ],
   "source": [
    "cm_train = confusion_matrix(y_test, y_pred_test, labels = log_model.classes_)\n",
    "disp = ConfusionMatrixDisplay(cm_train)\n",
    "disp.plot()"
   ]
  },
  {
   "cell_type": "markdown",
   "id": "560a59c9-8637-465c-ae27-1e4533687ff9",
   "metadata": {},
   "source": [
    "## Feature selection"
   ]
  },
  {
   "cell_type": "code",
   "execution_count": 32,
   "id": "1f141724-9449-491d-a4ca-c868d180d886",
   "metadata": {
    "tags": []
   },
   "outputs": [
    {
     "name": "stdout",
     "output_type": "stream",
     "text": [
      "Fitting estimator with 19 features.\n",
      "Fitting estimator with 18 features.\n",
      "Fitting estimator with 17 features.\n",
      "Fitting estimator with 16 features.\n",
      "Fitting estimator with 15 features.\n",
      "Fitting estimator with 14 features.\n",
      "Fitting estimator with 13 features.\n",
      "Fitting estimator with 12 features.\n",
      "Fitting estimator with 11 features.\n"
     ]
    },
    {
     "data": {
      "text/html": [
       "<style>#sk-container-id-3 {color: black;}#sk-container-id-3 pre{padding: 0;}#sk-container-id-3 div.sk-toggleable {background-color: white;}#sk-container-id-3 label.sk-toggleable__label {cursor: pointer;display: block;width: 100%;margin-bottom: 0;padding: 0.3em;box-sizing: border-box;text-align: center;}#sk-container-id-3 label.sk-toggleable__label-arrow:before {content: \"▸\";float: left;margin-right: 0.25em;color: #696969;}#sk-container-id-3 label.sk-toggleable__label-arrow:hover:before {color: black;}#sk-container-id-3 div.sk-estimator:hover label.sk-toggleable__label-arrow:before {color: black;}#sk-container-id-3 div.sk-toggleable__content {max-height: 0;max-width: 0;overflow: hidden;text-align: left;background-color: #f0f8ff;}#sk-container-id-3 div.sk-toggleable__content pre {margin: 0.2em;color: black;border-radius: 0.25em;background-color: #f0f8ff;}#sk-container-id-3 input.sk-toggleable__control:checked~div.sk-toggleable__content {max-height: 200px;max-width: 100%;overflow: auto;}#sk-container-id-3 input.sk-toggleable__control:checked~label.sk-toggleable__label-arrow:before {content: \"▾\";}#sk-container-id-3 div.sk-estimator input.sk-toggleable__control:checked~label.sk-toggleable__label {background-color: #d4ebff;}#sk-container-id-3 div.sk-label input.sk-toggleable__control:checked~label.sk-toggleable__label {background-color: #d4ebff;}#sk-container-id-3 input.sk-hidden--visually {border: 0;clip: rect(1px 1px 1px 1px);clip: rect(1px, 1px, 1px, 1px);height: 1px;margin: -1px;overflow: hidden;padding: 0;position: absolute;width: 1px;}#sk-container-id-3 div.sk-estimator {font-family: monospace;background-color: #f0f8ff;border: 1px dotted black;border-radius: 0.25em;box-sizing: border-box;margin-bottom: 0.5em;}#sk-container-id-3 div.sk-estimator:hover {background-color: #d4ebff;}#sk-container-id-3 div.sk-parallel-item::after {content: \"\";width: 100%;border-bottom: 1px solid gray;flex-grow: 1;}#sk-container-id-3 div.sk-label:hover label.sk-toggleable__label {background-color: #d4ebff;}#sk-container-id-3 div.sk-serial::before {content: \"\";position: absolute;border-left: 1px solid gray;box-sizing: border-box;top: 0;bottom: 0;left: 50%;z-index: 0;}#sk-container-id-3 div.sk-serial {display: flex;flex-direction: column;align-items: center;background-color: white;padding-right: 0.2em;padding-left: 0.2em;position: relative;}#sk-container-id-3 div.sk-item {position: relative;z-index: 1;}#sk-container-id-3 div.sk-parallel {display: flex;align-items: stretch;justify-content: center;background-color: white;position: relative;}#sk-container-id-3 div.sk-item::before, #sk-container-id-3 div.sk-parallel-item::before {content: \"\";position: absolute;border-left: 1px solid gray;box-sizing: border-box;top: 0;bottom: 0;left: 50%;z-index: -1;}#sk-container-id-3 div.sk-parallel-item {display: flex;flex-direction: column;z-index: 1;position: relative;background-color: white;}#sk-container-id-3 div.sk-parallel-item:first-child::after {align-self: flex-end;width: 50%;}#sk-container-id-3 div.sk-parallel-item:last-child::after {align-self: flex-start;width: 50%;}#sk-container-id-3 div.sk-parallel-item:only-child::after {width: 0;}#sk-container-id-3 div.sk-dashed-wrapped {border: 1px dashed gray;margin: 0 0.4em 0.5em 0.4em;box-sizing: border-box;padding-bottom: 0.4em;background-color: white;}#sk-container-id-3 div.sk-label label {font-family: monospace;font-weight: bold;display: inline-block;line-height: 1.2em;}#sk-container-id-3 div.sk-label-container {text-align: center;}#sk-container-id-3 div.sk-container {/* jupyter's `normalize.less` sets `[hidden] { display: none; }` but bootstrap.min.css set `[hidden] { display: none !important; }` so we also need the `!important` here to be able to override the default hidden behavior on the sphinx rendered scikit-learn.org. See: https://github.com/scikit-learn/scikit-learn/issues/21755 */display: inline-block !important;position: relative;}#sk-container-id-3 div.sk-text-repr-fallback {display: none;}</style><div id=\"sk-container-id-3\" class=\"sk-top-container\"><div class=\"sk-text-repr-fallback\"><pre>RFE(estimator=LogisticRegression(class_weight={0: 1, 1: 2}),\n",
       "    n_features_to_select=10, verbose=1)</pre><b>In a Jupyter environment, please rerun this cell to show the HTML representation or trust the notebook. <br />On GitHub, the HTML representation is unable to render, please try loading this page with nbviewer.org.</b></div><div class=\"sk-container\" hidden><div class=\"sk-item sk-dashed-wrapped\"><div class=\"sk-label-container\"><div class=\"sk-label sk-toggleable\"><input class=\"sk-toggleable__control sk-hidden--visually\" id=\"sk-estimator-id-3\" type=\"checkbox\" ><label for=\"sk-estimator-id-3\" class=\"sk-toggleable__label sk-toggleable__label-arrow\">RFE</label><div class=\"sk-toggleable__content\"><pre>RFE(estimator=LogisticRegression(class_weight={0: 1, 1: 2}),\n",
       "    n_features_to_select=10, verbose=1)</pre></div></div></div><div class=\"sk-parallel\"><div class=\"sk-parallel-item\"><div class=\"sk-item\"><div class=\"sk-label-container\"><div class=\"sk-label sk-toggleable\"><input class=\"sk-toggleable__control sk-hidden--visually\" id=\"sk-estimator-id-4\" type=\"checkbox\" ><label for=\"sk-estimator-id-4\" class=\"sk-toggleable__label sk-toggleable__label-arrow\">estimator: LogisticRegression</label><div class=\"sk-toggleable__content\"><pre>LogisticRegression(class_weight={0: 1, 1: 2})</pre></div></div></div><div class=\"sk-serial\"><div class=\"sk-item\"><div class=\"sk-estimator sk-toggleable\"><input class=\"sk-toggleable__control sk-hidden--visually\" id=\"sk-estimator-id-5\" type=\"checkbox\" ><label for=\"sk-estimator-id-5\" class=\"sk-toggleable__label sk-toggleable__label-arrow\">LogisticRegression</label><div class=\"sk-toggleable__content\"><pre>LogisticRegression(class_weight={0: 1, 1: 2})</pre></div></div></div></div></div></div></div></div></div></div>"
      ],
      "text/plain": [
       "RFE(estimator=LogisticRegression(class_weight={0: 1, 1: 2}),\n",
       "    n_features_to_select=10, verbose=1)"
      ]
     },
     "execution_count": 32,
     "metadata": {},
     "output_type": "execute_result"
    },
    {
     "data": {
      "text/html": [
       "<style>#sk-container-id-4 {color: black;}#sk-container-id-4 pre{padding: 0;}#sk-container-id-4 div.sk-toggleable {background-color: white;}#sk-container-id-4 label.sk-toggleable__label {cursor: pointer;display: block;width: 100%;margin-bottom: 0;padding: 0.3em;box-sizing: border-box;text-align: center;}#sk-container-id-4 label.sk-toggleable__label-arrow:before {content: \"▸\";float: left;margin-right: 0.25em;color: #696969;}#sk-container-id-4 label.sk-toggleable__label-arrow:hover:before {color: black;}#sk-container-id-4 div.sk-estimator:hover label.sk-toggleable__label-arrow:before {color: black;}#sk-container-id-4 div.sk-toggleable__content {max-height: 0;max-width: 0;overflow: hidden;text-align: left;background-color: #f0f8ff;}#sk-container-id-4 div.sk-toggleable__content pre {margin: 0.2em;color: black;border-radius: 0.25em;background-color: #f0f8ff;}#sk-container-id-4 input.sk-toggleable__control:checked~div.sk-toggleable__content {max-height: 200px;max-width: 100%;overflow: auto;}#sk-container-id-4 input.sk-toggleable__control:checked~label.sk-toggleable__label-arrow:before {content: \"▾\";}#sk-container-id-4 div.sk-estimator input.sk-toggleable__control:checked~label.sk-toggleable__label {background-color: #d4ebff;}#sk-container-id-4 div.sk-label input.sk-toggleable__control:checked~label.sk-toggleable__label {background-color: #d4ebff;}#sk-container-id-4 input.sk-hidden--visually {border: 0;clip: rect(1px 1px 1px 1px);clip: rect(1px, 1px, 1px, 1px);height: 1px;margin: -1px;overflow: hidden;padding: 0;position: absolute;width: 1px;}#sk-container-id-4 div.sk-estimator {font-family: monospace;background-color: #f0f8ff;border: 1px dotted black;border-radius: 0.25em;box-sizing: border-box;margin-bottom: 0.5em;}#sk-container-id-4 div.sk-estimator:hover {background-color: #d4ebff;}#sk-container-id-4 div.sk-parallel-item::after {content: \"\";width: 100%;border-bottom: 1px solid gray;flex-grow: 1;}#sk-container-id-4 div.sk-label:hover label.sk-toggleable__label {background-color: #d4ebff;}#sk-container-id-4 div.sk-serial::before {content: \"\";position: absolute;border-left: 1px solid gray;box-sizing: border-box;top: 0;bottom: 0;left: 50%;z-index: 0;}#sk-container-id-4 div.sk-serial {display: flex;flex-direction: column;align-items: center;background-color: white;padding-right: 0.2em;padding-left: 0.2em;position: relative;}#sk-container-id-4 div.sk-item {position: relative;z-index: 1;}#sk-container-id-4 div.sk-parallel {display: flex;align-items: stretch;justify-content: center;background-color: white;position: relative;}#sk-container-id-4 div.sk-item::before, #sk-container-id-4 div.sk-parallel-item::before {content: \"\";position: absolute;border-left: 1px solid gray;box-sizing: border-box;top: 0;bottom: 0;left: 50%;z-index: -1;}#sk-container-id-4 div.sk-parallel-item {display: flex;flex-direction: column;z-index: 1;position: relative;background-color: white;}#sk-container-id-4 div.sk-parallel-item:first-child::after {align-self: flex-end;width: 50%;}#sk-container-id-4 div.sk-parallel-item:last-child::after {align-self: flex-start;width: 50%;}#sk-container-id-4 div.sk-parallel-item:only-child::after {width: 0;}#sk-container-id-4 div.sk-dashed-wrapped {border: 1px dashed gray;margin: 0 0.4em 0.5em 0.4em;box-sizing: border-box;padding-bottom: 0.4em;background-color: white;}#sk-container-id-4 div.sk-label label {font-family: monospace;font-weight: bold;display: inline-block;line-height: 1.2em;}#sk-container-id-4 div.sk-label-container {text-align: center;}#sk-container-id-4 div.sk-container {/* jupyter's `normalize.less` sets `[hidden] { display: none; }` but bootstrap.min.css set `[hidden] { display: none !important; }` so we also need the `!important` here to be able to override the default hidden behavior on the sphinx rendered scikit-learn.org. See: https://github.com/scikit-learn/scikit-learn/issues/21755 */display: inline-block !important;position: relative;}#sk-container-id-4 div.sk-text-repr-fallback {display: none;}</style><div id=\"sk-container-id-4\" class=\"sk-top-container\"><div class=\"sk-text-repr-fallback\"><pre>LogisticRegression(class_weight={0: 1, 1: 2})</pre><b>In a Jupyter environment, please rerun this cell to show the HTML representation or trust the notebook. <br />On GitHub, the HTML representation is unable to render, please try loading this page with nbviewer.org.</b></div><div class=\"sk-container\" hidden><div class=\"sk-item\"><div class=\"sk-estimator sk-toggleable\"><input class=\"sk-toggleable__control sk-hidden--visually\" id=\"sk-estimator-id-6\" type=\"checkbox\" checked><label for=\"sk-estimator-id-6\" class=\"sk-toggleable__label sk-toggleable__label-arrow\">LogisticRegression</label><div class=\"sk-toggleable__content\"><pre>LogisticRegression(class_weight={0: 1, 1: 2})</pre></div></div></div></div></div>"
      ],
      "text/plain": [
       "LogisticRegression(class_weight={0: 1, 1: 2})"
      ]
     },
     "execution_count": 32,
     "metadata": {},
     "output_type": "execute_result"
    },
    {
     "name": "stdout",
     "output_type": "stream",
     "text": [
      "Fitting estimator with 19 features.\n",
      "Fitting estimator with 18 features.\n",
      "Fitting estimator with 17 features.\n",
      "Fitting estimator with 16 features.\n",
      "Fitting estimator with 15 features.\n",
      "Fitting estimator with 14 features.\n",
      "Fitting estimator with 13 features.\n",
      "Fitting estimator with 12 features.\n"
     ]
    },
    {
     "data": {
      "text/html": [
       "<style>#sk-container-id-5 {color: black;}#sk-container-id-5 pre{padding: 0;}#sk-container-id-5 div.sk-toggleable {background-color: white;}#sk-container-id-5 label.sk-toggleable__label {cursor: pointer;display: block;width: 100%;margin-bottom: 0;padding: 0.3em;box-sizing: border-box;text-align: center;}#sk-container-id-5 label.sk-toggleable__label-arrow:before {content: \"▸\";float: left;margin-right: 0.25em;color: #696969;}#sk-container-id-5 label.sk-toggleable__label-arrow:hover:before {color: black;}#sk-container-id-5 div.sk-estimator:hover label.sk-toggleable__label-arrow:before {color: black;}#sk-container-id-5 div.sk-toggleable__content {max-height: 0;max-width: 0;overflow: hidden;text-align: left;background-color: #f0f8ff;}#sk-container-id-5 div.sk-toggleable__content pre {margin: 0.2em;color: black;border-radius: 0.25em;background-color: #f0f8ff;}#sk-container-id-5 input.sk-toggleable__control:checked~div.sk-toggleable__content {max-height: 200px;max-width: 100%;overflow: auto;}#sk-container-id-5 input.sk-toggleable__control:checked~label.sk-toggleable__label-arrow:before {content: \"▾\";}#sk-container-id-5 div.sk-estimator input.sk-toggleable__control:checked~label.sk-toggleable__label {background-color: #d4ebff;}#sk-container-id-5 div.sk-label input.sk-toggleable__control:checked~label.sk-toggleable__label {background-color: #d4ebff;}#sk-container-id-5 input.sk-hidden--visually {border: 0;clip: rect(1px 1px 1px 1px);clip: rect(1px, 1px, 1px, 1px);height: 1px;margin: -1px;overflow: hidden;padding: 0;position: absolute;width: 1px;}#sk-container-id-5 div.sk-estimator {font-family: monospace;background-color: #f0f8ff;border: 1px dotted black;border-radius: 0.25em;box-sizing: border-box;margin-bottom: 0.5em;}#sk-container-id-5 div.sk-estimator:hover {background-color: #d4ebff;}#sk-container-id-5 div.sk-parallel-item::after {content: \"\";width: 100%;border-bottom: 1px solid gray;flex-grow: 1;}#sk-container-id-5 div.sk-label:hover label.sk-toggleable__label {background-color: #d4ebff;}#sk-container-id-5 div.sk-serial::before {content: \"\";position: absolute;border-left: 1px solid gray;box-sizing: border-box;top: 0;bottom: 0;left: 50%;z-index: 0;}#sk-container-id-5 div.sk-serial {display: flex;flex-direction: column;align-items: center;background-color: white;padding-right: 0.2em;padding-left: 0.2em;position: relative;}#sk-container-id-5 div.sk-item {position: relative;z-index: 1;}#sk-container-id-5 div.sk-parallel {display: flex;align-items: stretch;justify-content: center;background-color: white;position: relative;}#sk-container-id-5 div.sk-item::before, #sk-container-id-5 div.sk-parallel-item::before {content: \"\";position: absolute;border-left: 1px solid gray;box-sizing: border-box;top: 0;bottom: 0;left: 50%;z-index: -1;}#sk-container-id-5 div.sk-parallel-item {display: flex;flex-direction: column;z-index: 1;position: relative;background-color: white;}#sk-container-id-5 div.sk-parallel-item:first-child::after {align-self: flex-end;width: 50%;}#sk-container-id-5 div.sk-parallel-item:last-child::after {align-self: flex-start;width: 50%;}#sk-container-id-5 div.sk-parallel-item:only-child::after {width: 0;}#sk-container-id-5 div.sk-dashed-wrapped {border: 1px dashed gray;margin: 0 0.4em 0.5em 0.4em;box-sizing: border-box;padding-bottom: 0.4em;background-color: white;}#sk-container-id-5 div.sk-label label {font-family: monospace;font-weight: bold;display: inline-block;line-height: 1.2em;}#sk-container-id-5 div.sk-label-container {text-align: center;}#sk-container-id-5 div.sk-container {/* jupyter's `normalize.less` sets `[hidden] { display: none; }` but bootstrap.min.css set `[hidden] { display: none !important; }` so we also need the `!important` here to be able to override the default hidden behavior on the sphinx rendered scikit-learn.org. See: https://github.com/scikit-learn/scikit-learn/issues/21755 */display: inline-block !important;position: relative;}#sk-container-id-5 div.sk-text-repr-fallback {display: none;}</style><div id=\"sk-container-id-5\" class=\"sk-top-container\"><div class=\"sk-text-repr-fallback\"><pre>RFE(estimator=LogisticRegression(class_weight={0: 1, 1: 2}),\n",
       "    n_features_to_select=11, verbose=1)</pre><b>In a Jupyter environment, please rerun this cell to show the HTML representation or trust the notebook. <br />On GitHub, the HTML representation is unable to render, please try loading this page with nbviewer.org.</b></div><div class=\"sk-container\" hidden><div class=\"sk-item sk-dashed-wrapped\"><div class=\"sk-label-container\"><div class=\"sk-label sk-toggleable\"><input class=\"sk-toggleable__control sk-hidden--visually\" id=\"sk-estimator-id-7\" type=\"checkbox\" ><label for=\"sk-estimator-id-7\" class=\"sk-toggleable__label sk-toggleable__label-arrow\">RFE</label><div class=\"sk-toggleable__content\"><pre>RFE(estimator=LogisticRegression(class_weight={0: 1, 1: 2}),\n",
       "    n_features_to_select=11, verbose=1)</pre></div></div></div><div class=\"sk-parallel\"><div class=\"sk-parallel-item\"><div class=\"sk-item\"><div class=\"sk-label-container\"><div class=\"sk-label sk-toggleable\"><input class=\"sk-toggleable__control sk-hidden--visually\" id=\"sk-estimator-id-8\" type=\"checkbox\" ><label for=\"sk-estimator-id-8\" class=\"sk-toggleable__label sk-toggleable__label-arrow\">estimator: LogisticRegression</label><div class=\"sk-toggleable__content\"><pre>LogisticRegression(class_weight={0: 1, 1: 2})</pre></div></div></div><div class=\"sk-serial\"><div class=\"sk-item\"><div class=\"sk-estimator sk-toggleable\"><input class=\"sk-toggleable__control sk-hidden--visually\" id=\"sk-estimator-id-9\" type=\"checkbox\" ><label for=\"sk-estimator-id-9\" class=\"sk-toggleable__label sk-toggleable__label-arrow\">LogisticRegression</label><div class=\"sk-toggleable__content\"><pre>LogisticRegression(class_weight={0: 1, 1: 2})</pre></div></div></div></div></div></div></div></div></div></div>"
      ],
      "text/plain": [
       "RFE(estimator=LogisticRegression(class_weight={0: 1, 1: 2}),\n",
       "    n_features_to_select=11, verbose=1)"
      ]
     },
     "execution_count": 32,
     "metadata": {},
     "output_type": "execute_result"
    },
    {
     "data": {
      "text/html": [
       "<style>#sk-container-id-6 {color: black;}#sk-container-id-6 pre{padding: 0;}#sk-container-id-6 div.sk-toggleable {background-color: white;}#sk-container-id-6 label.sk-toggleable__label {cursor: pointer;display: block;width: 100%;margin-bottom: 0;padding: 0.3em;box-sizing: border-box;text-align: center;}#sk-container-id-6 label.sk-toggleable__label-arrow:before {content: \"▸\";float: left;margin-right: 0.25em;color: #696969;}#sk-container-id-6 label.sk-toggleable__label-arrow:hover:before {color: black;}#sk-container-id-6 div.sk-estimator:hover label.sk-toggleable__label-arrow:before {color: black;}#sk-container-id-6 div.sk-toggleable__content {max-height: 0;max-width: 0;overflow: hidden;text-align: left;background-color: #f0f8ff;}#sk-container-id-6 div.sk-toggleable__content pre {margin: 0.2em;color: black;border-radius: 0.25em;background-color: #f0f8ff;}#sk-container-id-6 input.sk-toggleable__control:checked~div.sk-toggleable__content {max-height: 200px;max-width: 100%;overflow: auto;}#sk-container-id-6 input.sk-toggleable__control:checked~label.sk-toggleable__label-arrow:before {content: \"▾\";}#sk-container-id-6 div.sk-estimator input.sk-toggleable__control:checked~label.sk-toggleable__label {background-color: #d4ebff;}#sk-container-id-6 div.sk-label input.sk-toggleable__control:checked~label.sk-toggleable__label {background-color: #d4ebff;}#sk-container-id-6 input.sk-hidden--visually {border: 0;clip: rect(1px 1px 1px 1px);clip: rect(1px, 1px, 1px, 1px);height: 1px;margin: -1px;overflow: hidden;padding: 0;position: absolute;width: 1px;}#sk-container-id-6 div.sk-estimator {font-family: monospace;background-color: #f0f8ff;border: 1px dotted black;border-radius: 0.25em;box-sizing: border-box;margin-bottom: 0.5em;}#sk-container-id-6 div.sk-estimator:hover {background-color: #d4ebff;}#sk-container-id-6 div.sk-parallel-item::after {content: \"\";width: 100%;border-bottom: 1px solid gray;flex-grow: 1;}#sk-container-id-6 div.sk-label:hover label.sk-toggleable__label {background-color: #d4ebff;}#sk-container-id-6 div.sk-serial::before {content: \"\";position: absolute;border-left: 1px solid gray;box-sizing: border-box;top: 0;bottom: 0;left: 50%;z-index: 0;}#sk-container-id-6 div.sk-serial {display: flex;flex-direction: column;align-items: center;background-color: white;padding-right: 0.2em;padding-left: 0.2em;position: relative;}#sk-container-id-6 div.sk-item {position: relative;z-index: 1;}#sk-container-id-6 div.sk-parallel {display: flex;align-items: stretch;justify-content: center;background-color: white;position: relative;}#sk-container-id-6 div.sk-item::before, #sk-container-id-6 div.sk-parallel-item::before {content: \"\";position: absolute;border-left: 1px solid gray;box-sizing: border-box;top: 0;bottom: 0;left: 50%;z-index: -1;}#sk-container-id-6 div.sk-parallel-item {display: flex;flex-direction: column;z-index: 1;position: relative;background-color: white;}#sk-container-id-6 div.sk-parallel-item:first-child::after {align-self: flex-end;width: 50%;}#sk-container-id-6 div.sk-parallel-item:last-child::after {align-self: flex-start;width: 50%;}#sk-container-id-6 div.sk-parallel-item:only-child::after {width: 0;}#sk-container-id-6 div.sk-dashed-wrapped {border: 1px dashed gray;margin: 0 0.4em 0.5em 0.4em;box-sizing: border-box;padding-bottom: 0.4em;background-color: white;}#sk-container-id-6 div.sk-label label {font-family: monospace;font-weight: bold;display: inline-block;line-height: 1.2em;}#sk-container-id-6 div.sk-label-container {text-align: center;}#sk-container-id-6 div.sk-container {/* jupyter's `normalize.less` sets `[hidden] { display: none; }` but bootstrap.min.css set `[hidden] { display: none !important; }` so we also need the `!important` here to be able to override the default hidden behavior on the sphinx rendered scikit-learn.org. See: https://github.com/scikit-learn/scikit-learn/issues/21755 */display: inline-block !important;position: relative;}#sk-container-id-6 div.sk-text-repr-fallback {display: none;}</style><div id=\"sk-container-id-6\" class=\"sk-top-container\"><div class=\"sk-text-repr-fallback\"><pre>LogisticRegression(class_weight={0: 1, 1: 2})</pre><b>In a Jupyter environment, please rerun this cell to show the HTML representation or trust the notebook. <br />On GitHub, the HTML representation is unable to render, please try loading this page with nbviewer.org.</b></div><div class=\"sk-container\" hidden><div class=\"sk-item\"><div class=\"sk-estimator sk-toggleable\"><input class=\"sk-toggleable__control sk-hidden--visually\" id=\"sk-estimator-id-10\" type=\"checkbox\" checked><label for=\"sk-estimator-id-10\" class=\"sk-toggleable__label sk-toggleable__label-arrow\">LogisticRegression</label><div class=\"sk-toggleable__content\"><pre>LogisticRegression(class_weight={0: 1, 1: 2})</pre></div></div></div></div></div>"
      ],
      "text/plain": [
       "LogisticRegression(class_weight={0: 1, 1: 2})"
      ]
     },
     "execution_count": 32,
     "metadata": {},
     "output_type": "execute_result"
    },
    {
     "name": "stdout",
     "output_type": "stream",
     "text": [
      "Fitting estimator with 19 features.\n",
      "Fitting estimator with 18 features.\n",
      "Fitting estimator with 17 features.\n",
      "Fitting estimator with 16 features.\n",
      "Fitting estimator with 15 features.\n",
      "Fitting estimator with 14 features.\n",
      "Fitting estimator with 13 features.\n"
     ]
    },
    {
     "data": {
      "text/html": [
       "<style>#sk-container-id-7 {color: black;}#sk-container-id-7 pre{padding: 0;}#sk-container-id-7 div.sk-toggleable {background-color: white;}#sk-container-id-7 label.sk-toggleable__label {cursor: pointer;display: block;width: 100%;margin-bottom: 0;padding: 0.3em;box-sizing: border-box;text-align: center;}#sk-container-id-7 label.sk-toggleable__label-arrow:before {content: \"▸\";float: left;margin-right: 0.25em;color: #696969;}#sk-container-id-7 label.sk-toggleable__label-arrow:hover:before {color: black;}#sk-container-id-7 div.sk-estimator:hover label.sk-toggleable__label-arrow:before {color: black;}#sk-container-id-7 div.sk-toggleable__content {max-height: 0;max-width: 0;overflow: hidden;text-align: left;background-color: #f0f8ff;}#sk-container-id-7 div.sk-toggleable__content pre {margin: 0.2em;color: black;border-radius: 0.25em;background-color: #f0f8ff;}#sk-container-id-7 input.sk-toggleable__control:checked~div.sk-toggleable__content {max-height: 200px;max-width: 100%;overflow: auto;}#sk-container-id-7 input.sk-toggleable__control:checked~label.sk-toggleable__label-arrow:before {content: \"▾\";}#sk-container-id-7 div.sk-estimator input.sk-toggleable__control:checked~label.sk-toggleable__label {background-color: #d4ebff;}#sk-container-id-7 div.sk-label input.sk-toggleable__control:checked~label.sk-toggleable__label {background-color: #d4ebff;}#sk-container-id-7 input.sk-hidden--visually {border: 0;clip: rect(1px 1px 1px 1px);clip: rect(1px, 1px, 1px, 1px);height: 1px;margin: -1px;overflow: hidden;padding: 0;position: absolute;width: 1px;}#sk-container-id-7 div.sk-estimator {font-family: monospace;background-color: #f0f8ff;border: 1px dotted black;border-radius: 0.25em;box-sizing: border-box;margin-bottom: 0.5em;}#sk-container-id-7 div.sk-estimator:hover {background-color: #d4ebff;}#sk-container-id-7 div.sk-parallel-item::after {content: \"\";width: 100%;border-bottom: 1px solid gray;flex-grow: 1;}#sk-container-id-7 div.sk-label:hover label.sk-toggleable__label {background-color: #d4ebff;}#sk-container-id-7 div.sk-serial::before {content: \"\";position: absolute;border-left: 1px solid gray;box-sizing: border-box;top: 0;bottom: 0;left: 50%;z-index: 0;}#sk-container-id-7 div.sk-serial {display: flex;flex-direction: column;align-items: center;background-color: white;padding-right: 0.2em;padding-left: 0.2em;position: relative;}#sk-container-id-7 div.sk-item {position: relative;z-index: 1;}#sk-container-id-7 div.sk-parallel {display: flex;align-items: stretch;justify-content: center;background-color: white;position: relative;}#sk-container-id-7 div.sk-item::before, #sk-container-id-7 div.sk-parallel-item::before {content: \"\";position: absolute;border-left: 1px solid gray;box-sizing: border-box;top: 0;bottom: 0;left: 50%;z-index: -1;}#sk-container-id-7 div.sk-parallel-item {display: flex;flex-direction: column;z-index: 1;position: relative;background-color: white;}#sk-container-id-7 div.sk-parallel-item:first-child::after {align-self: flex-end;width: 50%;}#sk-container-id-7 div.sk-parallel-item:last-child::after {align-self: flex-start;width: 50%;}#sk-container-id-7 div.sk-parallel-item:only-child::after {width: 0;}#sk-container-id-7 div.sk-dashed-wrapped {border: 1px dashed gray;margin: 0 0.4em 0.5em 0.4em;box-sizing: border-box;padding-bottom: 0.4em;background-color: white;}#sk-container-id-7 div.sk-label label {font-family: monospace;font-weight: bold;display: inline-block;line-height: 1.2em;}#sk-container-id-7 div.sk-label-container {text-align: center;}#sk-container-id-7 div.sk-container {/* jupyter's `normalize.less` sets `[hidden] { display: none; }` but bootstrap.min.css set `[hidden] { display: none !important; }` so we also need the `!important` here to be able to override the default hidden behavior on the sphinx rendered scikit-learn.org. See: https://github.com/scikit-learn/scikit-learn/issues/21755 */display: inline-block !important;position: relative;}#sk-container-id-7 div.sk-text-repr-fallback {display: none;}</style><div id=\"sk-container-id-7\" class=\"sk-top-container\"><div class=\"sk-text-repr-fallback\"><pre>RFE(estimator=LogisticRegression(class_weight={0: 1, 1: 2}),\n",
       "    n_features_to_select=12, verbose=1)</pre><b>In a Jupyter environment, please rerun this cell to show the HTML representation or trust the notebook. <br />On GitHub, the HTML representation is unable to render, please try loading this page with nbviewer.org.</b></div><div class=\"sk-container\" hidden><div class=\"sk-item sk-dashed-wrapped\"><div class=\"sk-label-container\"><div class=\"sk-label sk-toggleable\"><input class=\"sk-toggleable__control sk-hidden--visually\" id=\"sk-estimator-id-11\" type=\"checkbox\" ><label for=\"sk-estimator-id-11\" class=\"sk-toggleable__label sk-toggleable__label-arrow\">RFE</label><div class=\"sk-toggleable__content\"><pre>RFE(estimator=LogisticRegression(class_weight={0: 1, 1: 2}),\n",
       "    n_features_to_select=12, verbose=1)</pre></div></div></div><div class=\"sk-parallel\"><div class=\"sk-parallel-item\"><div class=\"sk-item\"><div class=\"sk-label-container\"><div class=\"sk-label sk-toggleable\"><input class=\"sk-toggleable__control sk-hidden--visually\" id=\"sk-estimator-id-12\" type=\"checkbox\" ><label for=\"sk-estimator-id-12\" class=\"sk-toggleable__label sk-toggleable__label-arrow\">estimator: LogisticRegression</label><div class=\"sk-toggleable__content\"><pre>LogisticRegression(class_weight={0: 1, 1: 2})</pre></div></div></div><div class=\"sk-serial\"><div class=\"sk-item\"><div class=\"sk-estimator sk-toggleable\"><input class=\"sk-toggleable__control sk-hidden--visually\" id=\"sk-estimator-id-13\" type=\"checkbox\" ><label for=\"sk-estimator-id-13\" class=\"sk-toggleable__label sk-toggleable__label-arrow\">LogisticRegression</label><div class=\"sk-toggleable__content\"><pre>LogisticRegression(class_weight={0: 1, 1: 2})</pre></div></div></div></div></div></div></div></div></div></div>"
      ],
      "text/plain": [
       "RFE(estimator=LogisticRegression(class_weight={0: 1, 1: 2}),\n",
       "    n_features_to_select=12, verbose=1)"
      ]
     },
     "execution_count": 32,
     "metadata": {},
     "output_type": "execute_result"
    },
    {
     "data": {
      "text/html": [
       "<style>#sk-container-id-8 {color: black;}#sk-container-id-8 pre{padding: 0;}#sk-container-id-8 div.sk-toggleable {background-color: white;}#sk-container-id-8 label.sk-toggleable__label {cursor: pointer;display: block;width: 100%;margin-bottom: 0;padding: 0.3em;box-sizing: border-box;text-align: center;}#sk-container-id-8 label.sk-toggleable__label-arrow:before {content: \"▸\";float: left;margin-right: 0.25em;color: #696969;}#sk-container-id-8 label.sk-toggleable__label-arrow:hover:before {color: black;}#sk-container-id-8 div.sk-estimator:hover label.sk-toggleable__label-arrow:before {color: black;}#sk-container-id-8 div.sk-toggleable__content {max-height: 0;max-width: 0;overflow: hidden;text-align: left;background-color: #f0f8ff;}#sk-container-id-8 div.sk-toggleable__content pre {margin: 0.2em;color: black;border-radius: 0.25em;background-color: #f0f8ff;}#sk-container-id-8 input.sk-toggleable__control:checked~div.sk-toggleable__content {max-height: 200px;max-width: 100%;overflow: auto;}#sk-container-id-8 input.sk-toggleable__control:checked~label.sk-toggleable__label-arrow:before {content: \"▾\";}#sk-container-id-8 div.sk-estimator input.sk-toggleable__control:checked~label.sk-toggleable__label {background-color: #d4ebff;}#sk-container-id-8 div.sk-label input.sk-toggleable__control:checked~label.sk-toggleable__label {background-color: #d4ebff;}#sk-container-id-8 input.sk-hidden--visually {border: 0;clip: rect(1px 1px 1px 1px);clip: rect(1px, 1px, 1px, 1px);height: 1px;margin: -1px;overflow: hidden;padding: 0;position: absolute;width: 1px;}#sk-container-id-8 div.sk-estimator {font-family: monospace;background-color: #f0f8ff;border: 1px dotted black;border-radius: 0.25em;box-sizing: border-box;margin-bottom: 0.5em;}#sk-container-id-8 div.sk-estimator:hover {background-color: #d4ebff;}#sk-container-id-8 div.sk-parallel-item::after {content: \"\";width: 100%;border-bottom: 1px solid gray;flex-grow: 1;}#sk-container-id-8 div.sk-label:hover label.sk-toggleable__label {background-color: #d4ebff;}#sk-container-id-8 div.sk-serial::before {content: \"\";position: absolute;border-left: 1px solid gray;box-sizing: border-box;top: 0;bottom: 0;left: 50%;z-index: 0;}#sk-container-id-8 div.sk-serial {display: flex;flex-direction: column;align-items: center;background-color: white;padding-right: 0.2em;padding-left: 0.2em;position: relative;}#sk-container-id-8 div.sk-item {position: relative;z-index: 1;}#sk-container-id-8 div.sk-parallel {display: flex;align-items: stretch;justify-content: center;background-color: white;position: relative;}#sk-container-id-8 div.sk-item::before, #sk-container-id-8 div.sk-parallel-item::before {content: \"\";position: absolute;border-left: 1px solid gray;box-sizing: border-box;top: 0;bottom: 0;left: 50%;z-index: -1;}#sk-container-id-8 div.sk-parallel-item {display: flex;flex-direction: column;z-index: 1;position: relative;background-color: white;}#sk-container-id-8 div.sk-parallel-item:first-child::after {align-self: flex-end;width: 50%;}#sk-container-id-8 div.sk-parallel-item:last-child::after {align-self: flex-start;width: 50%;}#sk-container-id-8 div.sk-parallel-item:only-child::after {width: 0;}#sk-container-id-8 div.sk-dashed-wrapped {border: 1px dashed gray;margin: 0 0.4em 0.5em 0.4em;box-sizing: border-box;padding-bottom: 0.4em;background-color: white;}#sk-container-id-8 div.sk-label label {font-family: monospace;font-weight: bold;display: inline-block;line-height: 1.2em;}#sk-container-id-8 div.sk-label-container {text-align: center;}#sk-container-id-8 div.sk-container {/* jupyter's `normalize.less` sets `[hidden] { display: none; }` but bootstrap.min.css set `[hidden] { display: none !important; }` so we also need the `!important` here to be able to override the default hidden behavior on the sphinx rendered scikit-learn.org. See: https://github.com/scikit-learn/scikit-learn/issues/21755 */display: inline-block !important;position: relative;}#sk-container-id-8 div.sk-text-repr-fallback {display: none;}</style><div id=\"sk-container-id-8\" class=\"sk-top-container\"><div class=\"sk-text-repr-fallback\"><pre>LogisticRegression(class_weight={0: 1, 1: 2})</pre><b>In a Jupyter environment, please rerun this cell to show the HTML representation or trust the notebook. <br />On GitHub, the HTML representation is unable to render, please try loading this page with nbviewer.org.</b></div><div class=\"sk-container\" hidden><div class=\"sk-item\"><div class=\"sk-estimator sk-toggleable\"><input class=\"sk-toggleable__control sk-hidden--visually\" id=\"sk-estimator-id-14\" type=\"checkbox\" checked><label for=\"sk-estimator-id-14\" class=\"sk-toggleable__label sk-toggleable__label-arrow\">LogisticRegression</label><div class=\"sk-toggleable__content\"><pre>LogisticRegression(class_weight={0: 1, 1: 2})</pre></div></div></div></div></div>"
      ],
      "text/plain": [
       "LogisticRegression(class_weight={0: 1, 1: 2})"
      ]
     },
     "execution_count": 32,
     "metadata": {},
     "output_type": "execute_result"
    },
    {
     "name": "stdout",
     "output_type": "stream",
     "text": [
      "Fitting estimator with 19 features.\n",
      "Fitting estimator with 18 features.\n",
      "Fitting estimator with 17 features.\n",
      "Fitting estimator with 16 features.\n",
      "Fitting estimator with 15 features.\n",
      "Fitting estimator with 14 features.\n"
     ]
    },
    {
     "data": {
      "text/html": [
       "<style>#sk-container-id-9 {color: black;}#sk-container-id-9 pre{padding: 0;}#sk-container-id-9 div.sk-toggleable {background-color: white;}#sk-container-id-9 label.sk-toggleable__label {cursor: pointer;display: block;width: 100%;margin-bottom: 0;padding: 0.3em;box-sizing: border-box;text-align: center;}#sk-container-id-9 label.sk-toggleable__label-arrow:before {content: \"▸\";float: left;margin-right: 0.25em;color: #696969;}#sk-container-id-9 label.sk-toggleable__label-arrow:hover:before {color: black;}#sk-container-id-9 div.sk-estimator:hover label.sk-toggleable__label-arrow:before {color: black;}#sk-container-id-9 div.sk-toggleable__content {max-height: 0;max-width: 0;overflow: hidden;text-align: left;background-color: #f0f8ff;}#sk-container-id-9 div.sk-toggleable__content pre {margin: 0.2em;color: black;border-radius: 0.25em;background-color: #f0f8ff;}#sk-container-id-9 input.sk-toggleable__control:checked~div.sk-toggleable__content {max-height: 200px;max-width: 100%;overflow: auto;}#sk-container-id-9 input.sk-toggleable__control:checked~label.sk-toggleable__label-arrow:before {content: \"▾\";}#sk-container-id-9 div.sk-estimator input.sk-toggleable__control:checked~label.sk-toggleable__label {background-color: #d4ebff;}#sk-container-id-9 div.sk-label input.sk-toggleable__control:checked~label.sk-toggleable__label {background-color: #d4ebff;}#sk-container-id-9 input.sk-hidden--visually {border: 0;clip: rect(1px 1px 1px 1px);clip: rect(1px, 1px, 1px, 1px);height: 1px;margin: -1px;overflow: hidden;padding: 0;position: absolute;width: 1px;}#sk-container-id-9 div.sk-estimator {font-family: monospace;background-color: #f0f8ff;border: 1px dotted black;border-radius: 0.25em;box-sizing: border-box;margin-bottom: 0.5em;}#sk-container-id-9 div.sk-estimator:hover {background-color: #d4ebff;}#sk-container-id-9 div.sk-parallel-item::after {content: \"\";width: 100%;border-bottom: 1px solid gray;flex-grow: 1;}#sk-container-id-9 div.sk-label:hover label.sk-toggleable__label {background-color: #d4ebff;}#sk-container-id-9 div.sk-serial::before {content: \"\";position: absolute;border-left: 1px solid gray;box-sizing: border-box;top: 0;bottom: 0;left: 50%;z-index: 0;}#sk-container-id-9 div.sk-serial {display: flex;flex-direction: column;align-items: center;background-color: white;padding-right: 0.2em;padding-left: 0.2em;position: relative;}#sk-container-id-9 div.sk-item {position: relative;z-index: 1;}#sk-container-id-9 div.sk-parallel {display: flex;align-items: stretch;justify-content: center;background-color: white;position: relative;}#sk-container-id-9 div.sk-item::before, #sk-container-id-9 div.sk-parallel-item::before {content: \"\";position: absolute;border-left: 1px solid gray;box-sizing: border-box;top: 0;bottom: 0;left: 50%;z-index: -1;}#sk-container-id-9 div.sk-parallel-item {display: flex;flex-direction: column;z-index: 1;position: relative;background-color: white;}#sk-container-id-9 div.sk-parallel-item:first-child::after {align-self: flex-end;width: 50%;}#sk-container-id-9 div.sk-parallel-item:last-child::after {align-self: flex-start;width: 50%;}#sk-container-id-9 div.sk-parallel-item:only-child::after {width: 0;}#sk-container-id-9 div.sk-dashed-wrapped {border: 1px dashed gray;margin: 0 0.4em 0.5em 0.4em;box-sizing: border-box;padding-bottom: 0.4em;background-color: white;}#sk-container-id-9 div.sk-label label {font-family: monospace;font-weight: bold;display: inline-block;line-height: 1.2em;}#sk-container-id-9 div.sk-label-container {text-align: center;}#sk-container-id-9 div.sk-container {/* jupyter's `normalize.less` sets `[hidden] { display: none; }` but bootstrap.min.css set `[hidden] { display: none !important; }` so we also need the `!important` here to be able to override the default hidden behavior on the sphinx rendered scikit-learn.org. See: https://github.com/scikit-learn/scikit-learn/issues/21755 */display: inline-block !important;position: relative;}#sk-container-id-9 div.sk-text-repr-fallback {display: none;}</style><div id=\"sk-container-id-9\" class=\"sk-top-container\"><div class=\"sk-text-repr-fallback\"><pre>RFE(estimator=LogisticRegression(class_weight={0: 1, 1: 2}),\n",
       "    n_features_to_select=13, verbose=1)</pre><b>In a Jupyter environment, please rerun this cell to show the HTML representation or trust the notebook. <br />On GitHub, the HTML representation is unable to render, please try loading this page with nbviewer.org.</b></div><div class=\"sk-container\" hidden><div class=\"sk-item sk-dashed-wrapped\"><div class=\"sk-label-container\"><div class=\"sk-label sk-toggleable\"><input class=\"sk-toggleable__control sk-hidden--visually\" id=\"sk-estimator-id-15\" type=\"checkbox\" ><label for=\"sk-estimator-id-15\" class=\"sk-toggleable__label sk-toggleable__label-arrow\">RFE</label><div class=\"sk-toggleable__content\"><pre>RFE(estimator=LogisticRegression(class_weight={0: 1, 1: 2}),\n",
       "    n_features_to_select=13, verbose=1)</pre></div></div></div><div class=\"sk-parallel\"><div class=\"sk-parallel-item\"><div class=\"sk-item\"><div class=\"sk-label-container\"><div class=\"sk-label sk-toggleable\"><input class=\"sk-toggleable__control sk-hidden--visually\" id=\"sk-estimator-id-16\" type=\"checkbox\" ><label for=\"sk-estimator-id-16\" class=\"sk-toggleable__label sk-toggleable__label-arrow\">estimator: LogisticRegression</label><div class=\"sk-toggleable__content\"><pre>LogisticRegression(class_weight={0: 1, 1: 2})</pre></div></div></div><div class=\"sk-serial\"><div class=\"sk-item\"><div class=\"sk-estimator sk-toggleable\"><input class=\"sk-toggleable__control sk-hidden--visually\" id=\"sk-estimator-id-17\" type=\"checkbox\" ><label for=\"sk-estimator-id-17\" class=\"sk-toggleable__label sk-toggleable__label-arrow\">LogisticRegression</label><div class=\"sk-toggleable__content\"><pre>LogisticRegression(class_weight={0: 1, 1: 2})</pre></div></div></div></div></div></div></div></div></div></div>"
      ],
      "text/plain": [
       "RFE(estimator=LogisticRegression(class_weight={0: 1, 1: 2}),\n",
       "    n_features_to_select=13, verbose=1)"
      ]
     },
     "execution_count": 32,
     "metadata": {},
     "output_type": "execute_result"
    },
    {
     "data": {
      "text/html": [
       "<style>#sk-container-id-10 {color: black;}#sk-container-id-10 pre{padding: 0;}#sk-container-id-10 div.sk-toggleable {background-color: white;}#sk-container-id-10 label.sk-toggleable__label {cursor: pointer;display: block;width: 100%;margin-bottom: 0;padding: 0.3em;box-sizing: border-box;text-align: center;}#sk-container-id-10 label.sk-toggleable__label-arrow:before {content: \"▸\";float: left;margin-right: 0.25em;color: #696969;}#sk-container-id-10 label.sk-toggleable__label-arrow:hover:before {color: black;}#sk-container-id-10 div.sk-estimator:hover label.sk-toggleable__label-arrow:before {color: black;}#sk-container-id-10 div.sk-toggleable__content {max-height: 0;max-width: 0;overflow: hidden;text-align: left;background-color: #f0f8ff;}#sk-container-id-10 div.sk-toggleable__content pre {margin: 0.2em;color: black;border-radius: 0.25em;background-color: #f0f8ff;}#sk-container-id-10 input.sk-toggleable__control:checked~div.sk-toggleable__content {max-height: 200px;max-width: 100%;overflow: auto;}#sk-container-id-10 input.sk-toggleable__control:checked~label.sk-toggleable__label-arrow:before {content: \"▾\";}#sk-container-id-10 div.sk-estimator input.sk-toggleable__control:checked~label.sk-toggleable__label {background-color: #d4ebff;}#sk-container-id-10 div.sk-label input.sk-toggleable__control:checked~label.sk-toggleable__label {background-color: #d4ebff;}#sk-container-id-10 input.sk-hidden--visually {border: 0;clip: rect(1px 1px 1px 1px);clip: rect(1px, 1px, 1px, 1px);height: 1px;margin: -1px;overflow: hidden;padding: 0;position: absolute;width: 1px;}#sk-container-id-10 div.sk-estimator {font-family: monospace;background-color: #f0f8ff;border: 1px dotted black;border-radius: 0.25em;box-sizing: border-box;margin-bottom: 0.5em;}#sk-container-id-10 div.sk-estimator:hover {background-color: #d4ebff;}#sk-container-id-10 div.sk-parallel-item::after {content: \"\";width: 100%;border-bottom: 1px solid gray;flex-grow: 1;}#sk-container-id-10 div.sk-label:hover label.sk-toggleable__label {background-color: #d4ebff;}#sk-container-id-10 div.sk-serial::before {content: \"\";position: absolute;border-left: 1px solid gray;box-sizing: border-box;top: 0;bottom: 0;left: 50%;z-index: 0;}#sk-container-id-10 div.sk-serial {display: flex;flex-direction: column;align-items: center;background-color: white;padding-right: 0.2em;padding-left: 0.2em;position: relative;}#sk-container-id-10 div.sk-item {position: relative;z-index: 1;}#sk-container-id-10 div.sk-parallel {display: flex;align-items: stretch;justify-content: center;background-color: white;position: relative;}#sk-container-id-10 div.sk-item::before, #sk-container-id-10 div.sk-parallel-item::before {content: \"\";position: absolute;border-left: 1px solid gray;box-sizing: border-box;top: 0;bottom: 0;left: 50%;z-index: -1;}#sk-container-id-10 div.sk-parallel-item {display: flex;flex-direction: column;z-index: 1;position: relative;background-color: white;}#sk-container-id-10 div.sk-parallel-item:first-child::after {align-self: flex-end;width: 50%;}#sk-container-id-10 div.sk-parallel-item:last-child::after {align-self: flex-start;width: 50%;}#sk-container-id-10 div.sk-parallel-item:only-child::after {width: 0;}#sk-container-id-10 div.sk-dashed-wrapped {border: 1px dashed gray;margin: 0 0.4em 0.5em 0.4em;box-sizing: border-box;padding-bottom: 0.4em;background-color: white;}#sk-container-id-10 div.sk-label label {font-family: monospace;font-weight: bold;display: inline-block;line-height: 1.2em;}#sk-container-id-10 div.sk-label-container {text-align: center;}#sk-container-id-10 div.sk-container {/* jupyter's `normalize.less` sets `[hidden] { display: none; }` but bootstrap.min.css set `[hidden] { display: none !important; }` so we also need the `!important` here to be able to override the default hidden behavior on the sphinx rendered scikit-learn.org. See: https://github.com/scikit-learn/scikit-learn/issues/21755 */display: inline-block !important;position: relative;}#sk-container-id-10 div.sk-text-repr-fallback {display: none;}</style><div id=\"sk-container-id-10\" class=\"sk-top-container\"><div class=\"sk-text-repr-fallback\"><pre>LogisticRegression(class_weight={0: 1, 1: 2})</pre><b>In a Jupyter environment, please rerun this cell to show the HTML representation or trust the notebook. <br />On GitHub, the HTML representation is unable to render, please try loading this page with nbviewer.org.</b></div><div class=\"sk-container\" hidden><div class=\"sk-item\"><div class=\"sk-estimator sk-toggleable\"><input class=\"sk-toggleable__control sk-hidden--visually\" id=\"sk-estimator-id-18\" type=\"checkbox\" checked><label for=\"sk-estimator-id-18\" class=\"sk-toggleable__label sk-toggleable__label-arrow\">LogisticRegression</label><div class=\"sk-toggleable__content\"><pre>LogisticRegression(class_weight={0: 1, 1: 2})</pre></div></div></div></div></div>"
      ],
      "text/plain": [
       "LogisticRegression(class_weight={0: 1, 1: 2})"
      ]
     },
     "execution_count": 32,
     "metadata": {},
     "output_type": "execute_result"
    },
    {
     "name": "stdout",
     "output_type": "stream",
     "text": [
      "Fitting estimator with 19 features.\n",
      "Fitting estimator with 18 features.\n",
      "Fitting estimator with 17 features.\n",
      "Fitting estimator with 16 features.\n",
      "Fitting estimator with 15 features.\n"
     ]
    },
    {
     "data": {
      "text/html": [
       "<style>#sk-container-id-11 {color: black;}#sk-container-id-11 pre{padding: 0;}#sk-container-id-11 div.sk-toggleable {background-color: white;}#sk-container-id-11 label.sk-toggleable__label {cursor: pointer;display: block;width: 100%;margin-bottom: 0;padding: 0.3em;box-sizing: border-box;text-align: center;}#sk-container-id-11 label.sk-toggleable__label-arrow:before {content: \"▸\";float: left;margin-right: 0.25em;color: #696969;}#sk-container-id-11 label.sk-toggleable__label-arrow:hover:before {color: black;}#sk-container-id-11 div.sk-estimator:hover label.sk-toggleable__label-arrow:before {color: black;}#sk-container-id-11 div.sk-toggleable__content {max-height: 0;max-width: 0;overflow: hidden;text-align: left;background-color: #f0f8ff;}#sk-container-id-11 div.sk-toggleable__content pre {margin: 0.2em;color: black;border-radius: 0.25em;background-color: #f0f8ff;}#sk-container-id-11 input.sk-toggleable__control:checked~div.sk-toggleable__content {max-height: 200px;max-width: 100%;overflow: auto;}#sk-container-id-11 input.sk-toggleable__control:checked~label.sk-toggleable__label-arrow:before {content: \"▾\";}#sk-container-id-11 div.sk-estimator input.sk-toggleable__control:checked~label.sk-toggleable__label {background-color: #d4ebff;}#sk-container-id-11 div.sk-label input.sk-toggleable__control:checked~label.sk-toggleable__label {background-color: #d4ebff;}#sk-container-id-11 input.sk-hidden--visually {border: 0;clip: rect(1px 1px 1px 1px);clip: rect(1px, 1px, 1px, 1px);height: 1px;margin: -1px;overflow: hidden;padding: 0;position: absolute;width: 1px;}#sk-container-id-11 div.sk-estimator {font-family: monospace;background-color: #f0f8ff;border: 1px dotted black;border-radius: 0.25em;box-sizing: border-box;margin-bottom: 0.5em;}#sk-container-id-11 div.sk-estimator:hover {background-color: #d4ebff;}#sk-container-id-11 div.sk-parallel-item::after {content: \"\";width: 100%;border-bottom: 1px solid gray;flex-grow: 1;}#sk-container-id-11 div.sk-label:hover label.sk-toggleable__label {background-color: #d4ebff;}#sk-container-id-11 div.sk-serial::before {content: \"\";position: absolute;border-left: 1px solid gray;box-sizing: border-box;top: 0;bottom: 0;left: 50%;z-index: 0;}#sk-container-id-11 div.sk-serial {display: flex;flex-direction: column;align-items: center;background-color: white;padding-right: 0.2em;padding-left: 0.2em;position: relative;}#sk-container-id-11 div.sk-item {position: relative;z-index: 1;}#sk-container-id-11 div.sk-parallel {display: flex;align-items: stretch;justify-content: center;background-color: white;position: relative;}#sk-container-id-11 div.sk-item::before, #sk-container-id-11 div.sk-parallel-item::before {content: \"\";position: absolute;border-left: 1px solid gray;box-sizing: border-box;top: 0;bottom: 0;left: 50%;z-index: -1;}#sk-container-id-11 div.sk-parallel-item {display: flex;flex-direction: column;z-index: 1;position: relative;background-color: white;}#sk-container-id-11 div.sk-parallel-item:first-child::after {align-self: flex-end;width: 50%;}#sk-container-id-11 div.sk-parallel-item:last-child::after {align-self: flex-start;width: 50%;}#sk-container-id-11 div.sk-parallel-item:only-child::after {width: 0;}#sk-container-id-11 div.sk-dashed-wrapped {border: 1px dashed gray;margin: 0 0.4em 0.5em 0.4em;box-sizing: border-box;padding-bottom: 0.4em;background-color: white;}#sk-container-id-11 div.sk-label label {font-family: monospace;font-weight: bold;display: inline-block;line-height: 1.2em;}#sk-container-id-11 div.sk-label-container {text-align: center;}#sk-container-id-11 div.sk-container {/* jupyter's `normalize.less` sets `[hidden] { display: none; }` but bootstrap.min.css set `[hidden] { display: none !important; }` so we also need the `!important` here to be able to override the default hidden behavior on the sphinx rendered scikit-learn.org. See: https://github.com/scikit-learn/scikit-learn/issues/21755 */display: inline-block !important;position: relative;}#sk-container-id-11 div.sk-text-repr-fallback {display: none;}</style><div id=\"sk-container-id-11\" class=\"sk-top-container\"><div class=\"sk-text-repr-fallback\"><pre>RFE(estimator=LogisticRegression(class_weight={0: 1, 1: 2}),\n",
       "    n_features_to_select=14, verbose=1)</pre><b>In a Jupyter environment, please rerun this cell to show the HTML representation or trust the notebook. <br />On GitHub, the HTML representation is unable to render, please try loading this page with nbviewer.org.</b></div><div class=\"sk-container\" hidden><div class=\"sk-item sk-dashed-wrapped\"><div class=\"sk-label-container\"><div class=\"sk-label sk-toggleable\"><input class=\"sk-toggleable__control sk-hidden--visually\" id=\"sk-estimator-id-19\" type=\"checkbox\" ><label for=\"sk-estimator-id-19\" class=\"sk-toggleable__label sk-toggleable__label-arrow\">RFE</label><div class=\"sk-toggleable__content\"><pre>RFE(estimator=LogisticRegression(class_weight={0: 1, 1: 2}),\n",
       "    n_features_to_select=14, verbose=1)</pre></div></div></div><div class=\"sk-parallel\"><div class=\"sk-parallel-item\"><div class=\"sk-item\"><div class=\"sk-label-container\"><div class=\"sk-label sk-toggleable\"><input class=\"sk-toggleable__control sk-hidden--visually\" id=\"sk-estimator-id-20\" type=\"checkbox\" ><label for=\"sk-estimator-id-20\" class=\"sk-toggleable__label sk-toggleable__label-arrow\">estimator: LogisticRegression</label><div class=\"sk-toggleable__content\"><pre>LogisticRegression(class_weight={0: 1, 1: 2})</pre></div></div></div><div class=\"sk-serial\"><div class=\"sk-item\"><div class=\"sk-estimator sk-toggleable\"><input class=\"sk-toggleable__control sk-hidden--visually\" id=\"sk-estimator-id-21\" type=\"checkbox\" ><label for=\"sk-estimator-id-21\" class=\"sk-toggleable__label sk-toggleable__label-arrow\">LogisticRegression</label><div class=\"sk-toggleable__content\"><pre>LogisticRegression(class_weight={0: 1, 1: 2})</pre></div></div></div></div></div></div></div></div></div></div>"
      ],
      "text/plain": [
       "RFE(estimator=LogisticRegression(class_weight={0: 1, 1: 2}),\n",
       "    n_features_to_select=14, verbose=1)"
      ]
     },
     "execution_count": 32,
     "metadata": {},
     "output_type": "execute_result"
    },
    {
     "data": {
      "text/html": [
       "<style>#sk-container-id-12 {color: black;}#sk-container-id-12 pre{padding: 0;}#sk-container-id-12 div.sk-toggleable {background-color: white;}#sk-container-id-12 label.sk-toggleable__label {cursor: pointer;display: block;width: 100%;margin-bottom: 0;padding: 0.3em;box-sizing: border-box;text-align: center;}#sk-container-id-12 label.sk-toggleable__label-arrow:before {content: \"▸\";float: left;margin-right: 0.25em;color: #696969;}#sk-container-id-12 label.sk-toggleable__label-arrow:hover:before {color: black;}#sk-container-id-12 div.sk-estimator:hover label.sk-toggleable__label-arrow:before {color: black;}#sk-container-id-12 div.sk-toggleable__content {max-height: 0;max-width: 0;overflow: hidden;text-align: left;background-color: #f0f8ff;}#sk-container-id-12 div.sk-toggleable__content pre {margin: 0.2em;color: black;border-radius: 0.25em;background-color: #f0f8ff;}#sk-container-id-12 input.sk-toggleable__control:checked~div.sk-toggleable__content {max-height: 200px;max-width: 100%;overflow: auto;}#sk-container-id-12 input.sk-toggleable__control:checked~label.sk-toggleable__label-arrow:before {content: \"▾\";}#sk-container-id-12 div.sk-estimator input.sk-toggleable__control:checked~label.sk-toggleable__label {background-color: #d4ebff;}#sk-container-id-12 div.sk-label input.sk-toggleable__control:checked~label.sk-toggleable__label {background-color: #d4ebff;}#sk-container-id-12 input.sk-hidden--visually {border: 0;clip: rect(1px 1px 1px 1px);clip: rect(1px, 1px, 1px, 1px);height: 1px;margin: -1px;overflow: hidden;padding: 0;position: absolute;width: 1px;}#sk-container-id-12 div.sk-estimator {font-family: monospace;background-color: #f0f8ff;border: 1px dotted black;border-radius: 0.25em;box-sizing: border-box;margin-bottom: 0.5em;}#sk-container-id-12 div.sk-estimator:hover {background-color: #d4ebff;}#sk-container-id-12 div.sk-parallel-item::after {content: \"\";width: 100%;border-bottom: 1px solid gray;flex-grow: 1;}#sk-container-id-12 div.sk-label:hover label.sk-toggleable__label {background-color: #d4ebff;}#sk-container-id-12 div.sk-serial::before {content: \"\";position: absolute;border-left: 1px solid gray;box-sizing: border-box;top: 0;bottom: 0;left: 50%;z-index: 0;}#sk-container-id-12 div.sk-serial {display: flex;flex-direction: column;align-items: center;background-color: white;padding-right: 0.2em;padding-left: 0.2em;position: relative;}#sk-container-id-12 div.sk-item {position: relative;z-index: 1;}#sk-container-id-12 div.sk-parallel {display: flex;align-items: stretch;justify-content: center;background-color: white;position: relative;}#sk-container-id-12 div.sk-item::before, #sk-container-id-12 div.sk-parallel-item::before {content: \"\";position: absolute;border-left: 1px solid gray;box-sizing: border-box;top: 0;bottom: 0;left: 50%;z-index: -1;}#sk-container-id-12 div.sk-parallel-item {display: flex;flex-direction: column;z-index: 1;position: relative;background-color: white;}#sk-container-id-12 div.sk-parallel-item:first-child::after {align-self: flex-end;width: 50%;}#sk-container-id-12 div.sk-parallel-item:last-child::after {align-self: flex-start;width: 50%;}#sk-container-id-12 div.sk-parallel-item:only-child::after {width: 0;}#sk-container-id-12 div.sk-dashed-wrapped {border: 1px dashed gray;margin: 0 0.4em 0.5em 0.4em;box-sizing: border-box;padding-bottom: 0.4em;background-color: white;}#sk-container-id-12 div.sk-label label {font-family: monospace;font-weight: bold;display: inline-block;line-height: 1.2em;}#sk-container-id-12 div.sk-label-container {text-align: center;}#sk-container-id-12 div.sk-container {/* jupyter's `normalize.less` sets `[hidden] { display: none; }` but bootstrap.min.css set `[hidden] { display: none !important; }` so we also need the `!important` here to be able to override the default hidden behavior on the sphinx rendered scikit-learn.org. See: https://github.com/scikit-learn/scikit-learn/issues/21755 */display: inline-block !important;position: relative;}#sk-container-id-12 div.sk-text-repr-fallback {display: none;}</style><div id=\"sk-container-id-12\" class=\"sk-top-container\"><div class=\"sk-text-repr-fallback\"><pre>LogisticRegression(class_weight={0: 1, 1: 2})</pre><b>In a Jupyter environment, please rerun this cell to show the HTML representation or trust the notebook. <br />On GitHub, the HTML representation is unable to render, please try loading this page with nbviewer.org.</b></div><div class=\"sk-container\" hidden><div class=\"sk-item\"><div class=\"sk-estimator sk-toggleable\"><input class=\"sk-toggleable__control sk-hidden--visually\" id=\"sk-estimator-id-22\" type=\"checkbox\" checked><label for=\"sk-estimator-id-22\" class=\"sk-toggleable__label sk-toggleable__label-arrow\">LogisticRegression</label><div class=\"sk-toggleable__content\"><pre>LogisticRegression(class_weight={0: 1, 1: 2})</pre></div></div></div></div></div>"
      ],
      "text/plain": [
       "LogisticRegression(class_weight={0: 1, 1: 2})"
      ]
     },
     "execution_count": 32,
     "metadata": {},
     "output_type": "execute_result"
    },
    {
     "name": "stdout",
     "output_type": "stream",
     "text": [
      "Fitting estimator with 19 features.\n",
      "Fitting estimator with 18 features.\n",
      "Fitting estimator with 17 features.\n",
      "Fitting estimator with 16 features.\n"
     ]
    },
    {
     "data": {
      "text/html": [
       "<style>#sk-container-id-13 {color: black;}#sk-container-id-13 pre{padding: 0;}#sk-container-id-13 div.sk-toggleable {background-color: white;}#sk-container-id-13 label.sk-toggleable__label {cursor: pointer;display: block;width: 100%;margin-bottom: 0;padding: 0.3em;box-sizing: border-box;text-align: center;}#sk-container-id-13 label.sk-toggleable__label-arrow:before {content: \"▸\";float: left;margin-right: 0.25em;color: #696969;}#sk-container-id-13 label.sk-toggleable__label-arrow:hover:before {color: black;}#sk-container-id-13 div.sk-estimator:hover label.sk-toggleable__label-arrow:before {color: black;}#sk-container-id-13 div.sk-toggleable__content {max-height: 0;max-width: 0;overflow: hidden;text-align: left;background-color: #f0f8ff;}#sk-container-id-13 div.sk-toggleable__content pre {margin: 0.2em;color: black;border-radius: 0.25em;background-color: #f0f8ff;}#sk-container-id-13 input.sk-toggleable__control:checked~div.sk-toggleable__content {max-height: 200px;max-width: 100%;overflow: auto;}#sk-container-id-13 input.sk-toggleable__control:checked~label.sk-toggleable__label-arrow:before {content: \"▾\";}#sk-container-id-13 div.sk-estimator input.sk-toggleable__control:checked~label.sk-toggleable__label {background-color: #d4ebff;}#sk-container-id-13 div.sk-label input.sk-toggleable__control:checked~label.sk-toggleable__label {background-color: #d4ebff;}#sk-container-id-13 input.sk-hidden--visually {border: 0;clip: rect(1px 1px 1px 1px);clip: rect(1px, 1px, 1px, 1px);height: 1px;margin: -1px;overflow: hidden;padding: 0;position: absolute;width: 1px;}#sk-container-id-13 div.sk-estimator {font-family: monospace;background-color: #f0f8ff;border: 1px dotted black;border-radius: 0.25em;box-sizing: border-box;margin-bottom: 0.5em;}#sk-container-id-13 div.sk-estimator:hover {background-color: #d4ebff;}#sk-container-id-13 div.sk-parallel-item::after {content: \"\";width: 100%;border-bottom: 1px solid gray;flex-grow: 1;}#sk-container-id-13 div.sk-label:hover label.sk-toggleable__label {background-color: #d4ebff;}#sk-container-id-13 div.sk-serial::before {content: \"\";position: absolute;border-left: 1px solid gray;box-sizing: border-box;top: 0;bottom: 0;left: 50%;z-index: 0;}#sk-container-id-13 div.sk-serial {display: flex;flex-direction: column;align-items: center;background-color: white;padding-right: 0.2em;padding-left: 0.2em;position: relative;}#sk-container-id-13 div.sk-item {position: relative;z-index: 1;}#sk-container-id-13 div.sk-parallel {display: flex;align-items: stretch;justify-content: center;background-color: white;position: relative;}#sk-container-id-13 div.sk-item::before, #sk-container-id-13 div.sk-parallel-item::before {content: \"\";position: absolute;border-left: 1px solid gray;box-sizing: border-box;top: 0;bottom: 0;left: 50%;z-index: -1;}#sk-container-id-13 div.sk-parallel-item {display: flex;flex-direction: column;z-index: 1;position: relative;background-color: white;}#sk-container-id-13 div.sk-parallel-item:first-child::after {align-self: flex-end;width: 50%;}#sk-container-id-13 div.sk-parallel-item:last-child::after {align-self: flex-start;width: 50%;}#sk-container-id-13 div.sk-parallel-item:only-child::after {width: 0;}#sk-container-id-13 div.sk-dashed-wrapped {border: 1px dashed gray;margin: 0 0.4em 0.5em 0.4em;box-sizing: border-box;padding-bottom: 0.4em;background-color: white;}#sk-container-id-13 div.sk-label label {font-family: monospace;font-weight: bold;display: inline-block;line-height: 1.2em;}#sk-container-id-13 div.sk-label-container {text-align: center;}#sk-container-id-13 div.sk-container {/* jupyter's `normalize.less` sets `[hidden] { display: none; }` but bootstrap.min.css set `[hidden] { display: none !important; }` so we also need the `!important` here to be able to override the default hidden behavior on the sphinx rendered scikit-learn.org. See: https://github.com/scikit-learn/scikit-learn/issues/21755 */display: inline-block !important;position: relative;}#sk-container-id-13 div.sk-text-repr-fallback {display: none;}</style><div id=\"sk-container-id-13\" class=\"sk-top-container\"><div class=\"sk-text-repr-fallback\"><pre>RFE(estimator=LogisticRegression(class_weight={0: 1, 1: 2}),\n",
       "    n_features_to_select=15, verbose=1)</pre><b>In a Jupyter environment, please rerun this cell to show the HTML representation or trust the notebook. <br />On GitHub, the HTML representation is unable to render, please try loading this page with nbviewer.org.</b></div><div class=\"sk-container\" hidden><div class=\"sk-item sk-dashed-wrapped\"><div class=\"sk-label-container\"><div class=\"sk-label sk-toggleable\"><input class=\"sk-toggleable__control sk-hidden--visually\" id=\"sk-estimator-id-23\" type=\"checkbox\" ><label for=\"sk-estimator-id-23\" class=\"sk-toggleable__label sk-toggleable__label-arrow\">RFE</label><div class=\"sk-toggleable__content\"><pre>RFE(estimator=LogisticRegression(class_weight={0: 1, 1: 2}),\n",
       "    n_features_to_select=15, verbose=1)</pre></div></div></div><div class=\"sk-parallel\"><div class=\"sk-parallel-item\"><div class=\"sk-item\"><div class=\"sk-label-container\"><div class=\"sk-label sk-toggleable\"><input class=\"sk-toggleable__control sk-hidden--visually\" id=\"sk-estimator-id-24\" type=\"checkbox\" ><label for=\"sk-estimator-id-24\" class=\"sk-toggleable__label sk-toggleable__label-arrow\">estimator: LogisticRegression</label><div class=\"sk-toggleable__content\"><pre>LogisticRegression(class_weight={0: 1, 1: 2})</pre></div></div></div><div class=\"sk-serial\"><div class=\"sk-item\"><div class=\"sk-estimator sk-toggleable\"><input class=\"sk-toggleable__control sk-hidden--visually\" id=\"sk-estimator-id-25\" type=\"checkbox\" ><label for=\"sk-estimator-id-25\" class=\"sk-toggleable__label sk-toggleable__label-arrow\">LogisticRegression</label><div class=\"sk-toggleable__content\"><pre>LogisticRegression(class_weight={0: 1, 1: 2})</pre></div></div></div></div></div></div></div></div></div></div>"
      ],
      "text/plain": [
       "RFE(estimator=LogisticRegression(class_weight={0: 1, 1: 2}),\n",
       "    n_features_to_select=15, verbose=1)"
      ]
     },
     "execution_count": 32,
     "metadata": {},
     "output_type": "execute_result"
    },
    {
     "data": {
      "text/html": [
       "<style>#sk-container-id-14 {color: black;}#sk-container-id-14 pre{padding: 0;}#sk-container-id-14 div.sk-toggleable {background-color: white;}#sk-container-id-14 label.sk-toggleable__label {cursor: pointer;display: block;width: 100%;margin-bottom: 0;padding: 0.3em;box-sizing: border-box;text-align: center;}#sk-container-id-14 label.sk-toggleable__label-arrow:before {content: \"▸\";float: left;margin-right: 0.25em;color: #696969;}#sk-container-id-14 label.sk-toggleable__label-arrow:hover:before {color: black;}#sk-container-id-14 div.sk-estimator:hover label.sk-toggleable__label-arrow:before {color: black;}#sk-container-id-14 div.sk-toggleable__content {max-height: 0;max-width: 0;overflow: hidden;text-align: left;background-color: #f0f8ff;}#sk-container-id-14 div.sk-toggleable__content pre {margin: 0.2em;color: black;border-radius: 0.25em;background-color: #f0f8ff;}#sk-container-id-14 input.sk-toggleable__control:checked~div.sk-toggleable__content {max-height: 200px;max-width: 100%;overflow: auto;}#sk-container-id-14 input.sk-toggleable__control:checked~label.sk-toggleable__label-arrow:before {content: \"▾\";}#sk-container-id-14 div.sk-estimator input.sk-toggleable__control:checked~label.sk-toggleable__label {background-color: #d4ebff;}#sk-container-id-14 div.sk-label input.sk-toggleable__control:checked~label.sk-toggleable__label {background-color: #d4ebff;}#sk-container-id-14 input.sk-hidden--visually {border: 0;clip: rect(1px 1px 1px 1px);clip: rect(1px, 1px, 1px, 1px);height: 1px;margin: -1px;overflow: hidden;padding: 0;position: absolute;width: 1px;}#sk-container-id-14 div.sk-estimator {font-family: monospace;background-color: #f0f8ff;border: 1px dotted black;border-radius: 0.25em;box-sizing: border-box;margin-bottom: 0.5em;}#sk-container-id-14 div.sk-estimator:hover {background-color: #d4ebff;}#sk-container-id-14 div.sk-parallel-item::after {content: \"\";width: 100%;border-bottom: 1px solid gray;flex-grow: 1;}#sk-container-id-14 div.sk-label:hover label.sk-toggleable__label {background-color: #d4ebff;}#sk-container-id-14 div.sk-serial::before {content: \"\";position: absolute;border-left: 1px solid gray;box-sizing: border-box;top: 0;bottom: 0;left: 50%;z-index: 0;}#sk-container-id-14 div.sk-serial {display: flex;flex-direction: column;align-items: center;background-color: white;padding-right: 0.2em;padding-left: 0.2em;position: relative;}#sk-container-id-14 div.sk-item {position: relative;z-index: 1;}#sk-container-id-14 div.sk-parallel {display: flex;align-items: stretch;justify-content: center;background-color: white;position: relative;}#sk-container-id-14 div.sk-item::before, #sk-container-id-14 div.sk-parallel-item::before {content: \"\";position: absolute;border-left: 1px solid gray;box-sizing: border-box;top: 0;bottom: 0;left: 50%;z-index: -1;}#sk-container-id-14 div.sk-parallel-item {display: flex;flex-direction: column;z-index: 1;position: relative;background-color: white;}#sk-container-id-14 div.sk-parallel-item:first-child::after {align-self: flex-end;width: 50%;}#sk-container-id-14 div.sk-parallel-item:last-child::after {align-self: flex-start;width: 50%;}#sk-container-id-14 div.sk-parallel-item:only-child::after {width: 0;}#sk-container-id-14 div.sk-dashed-wrapped {border: 1px dashed gray;margin: 0 0.4em 0.5em 0.4em;box-sizing: border-box;padding-bottom: 0.4em;background-color: white;}#sk-container-id-14 div.sk-label label {font-family: monospace;font-weight: bold;display: inline-block;line-height: 1.2em;}#sk-container-id-14 div.sk-label-container {text-align: center;}#sk-container-id-14 div.sk-container {/* jupyter's `normalize.less` sets `[hidden] { display: none; }` but bootstrap.min.css set `[hidden] { display: none !important; }` so we also need the `!important` here to be able to override the default hidden behavior on the sphinx rendered scikit-learn.org. See: https://github.com/scikit-learn/scikit-learn/issues/21755 */display: inline-block !important;position: relative;}#sk-container-id-14 div.sk-text-repr-fallback {display: none;}</style><div id=\"sk-container-id-14\" class=\"sk-top-container\"><div class=\"sk-text-repr-fallback\"><pre>LogisticRegression(class_weight={0: 1, 1: 2})</pre><b>In a Jupyter environment, please rerun this cell to show the HTML representation or trust the notebook. <br />On GitHub, the HTML representation is unable to render, please try loading this page with nbviewer.org.</b></div><div class=\"sk-container\" hidden><div class=\"sk-item\"><div class=\"sk-estimator sk-toggleable\"><input class=\"sk-toggleable__control sk-hidden--visually\" id=\"sk-estimator-id-26\" type=\"checkbox\" checked><label for=\"sk-estimator-id-26\" class=\"sk-toggleable__label sk-toggleable__label-arrow\">LogisticRegression</label><div class=\"sk-toggleable__content\"><pre>LogisticRegression(class_weight={0: 1, 1: 2})</pre></div></div></div></div></div>"
      ],
      "text/plain": [
       "LogisticRegression(class_weight={0: 1, 1: 2})"
      ]
     },
     "execution_count": 32,
     "metadata": {},
     "output_type": "execute_result"
    },
    {
     "name": "stdout",
     "output_type": "stream",
     "text": [
      "Fitting estimator with 19 features.\n",
      "Fitting estimator with 18 features.\n",
      "Fitting estimator with 17 features.\n"
     ]
    },
    {
     "data": {
      "text/html": [
       "<style>#sk-container-id-15 {color: black;}#sk-container-id-15 pre{padding: 0;}#sk-container-id-15 div.sk-toggleable {background-color: white;}#sk-container-id-15 label.sk-toggleable__label {cursor: pointer;display: block;width: 100%;margin-bottom: 0;padding: 0.3em;box-sizing: border-box;text-align: center;}#sk-container-id-15 label.sk-toggleable__label-arrow:before {content: \"▸\";float: left;margin-right: 0.25em;color: #696969;}#sk-container-id-15 label.sk-toggleable__label-arrow:hover:before {color: black;}#sk-container-id-15 div.sk-estimator:hover label.sk-toggleable__label-arrow:before {color: black;}#sk-container-id-15 div.sk-toggleable__content {max-height: 0;max-width: 0;overflow: hidden;text-align: left;background-color: #f0f8ff;}#sk-container-id-15 div.sk-toggleable__content pre {margin: 0.2em;color: black;border-radius: 0.25em;background-color: #f0f8ff;}#sk-container-id-15 input.sk-toggleable__control:checked~div.sk-toggleable__content {max-height: 200px;max-width: 100%;overflow: auto;}#sk-container-id-15 input.sk-toggleable__control:checked~label.sk-toggleable__label-arrow:before {content: \"▾\";}#sk-container-id-15 div.sk-estimator input.sk-toggleable__control:checked~label.sk-toggleable__label {background-color: #d4ebff;}#sk-container-id-15 div.sk-label input.sk-toggleable__control:checked~label.sk-toggleable__label {background-color: #d4ebff;}#sk-container-id-15 input.sk-hidden--visually {border: 0;clip: rect(1px 1px 1px 1px);clip: rect(1px, 1px, 1px, 1px);height: 1px;margin: -1px;overflow: hidden;padding: 0;position: absolute;width: 1px;}#sk-container-id-15 div.sk-estimator {font-family: monospace;background-color: #f0f8ff;border: 1px dotted black;border-radius: 0.25em;box-sizing: border-box;margin-bottom: 0.5em;}#sk-container-id-15 div.sk-estimator:hover {background-color: #d4ebff;}#sk-container-id-15 div.sk-parallel-item::after {content: \"\";width: 100%;border-bottom: 1px solid gray;flex-grow: 1;}#sk-container-id-15 div.sk-label:hover label.sk-toggleable__label {background-color: #d4ebff;}#sk-container-id-15 div.sk-serial::before {content: \"\";position: absolute;border-left: 1px solid gray;box-sizing: border-box;top: 0;bottom: 0;left: 50%;z-index: 0;}#sk-container-id-15 div.sk-serial {display: flex;flex-direction: column;align-items: center;background-color: white;padding-right: 0.2em;padding-left: 0.2em;position: relative;}#sk-container-id-15 div.sk-item {position: relative;z-index: 1;}#sk-container-id-15 div.sk-parallel {display: flex;align-items: stretch;justify-content: center;background-color: white;position: relative;}#sk-container-id-15 div.sk-item::before, #sk-container-id-15 div.sk-parallel-item::before {content: \"\";position: absolute;border-left: 1px solid gray;box-sizing: border-box;top: 0;bottom: 0;left: 50%;z-index: -1;}#sk-container-id-15 div.sk-parallel-item {display: flex;flex-direction: column;z-index: 1;position: relative;background-color: white;}#sk-container-id-15 div.sk-parallel-item:first-child::after {align-self: flex-end;width: 50%;}#sk-container-id-15 div.sk-parallel-item:last-child::after {align-self: flex-start;width: 50%;}#sk-container-id-15 div.sk-parallel-item:only-child::after {width: 0;}#sk-container-id-15 div.sk-dashed-wrapped {border: 1px dashed gray;margin: 0 0.4em 0.5em 0.4em;box-sizing: border-box;padding-bottom: 0.4em;background-color: white;}#sk-container-id-15 div.sk-label label {font-family: monospace;font-weight: bold;display: inline-block;line-height: 1.2em;}#sk-container-id-15 div.sk-label-container {text-align: center;}#sk-container-id-15 div.sk-container {/* jupyter's `normalize.less` sets `[hidden] { display: none; }` but bootstrap.min.css set `[hidden] { display: none !important; }` so we also need the `!important` here to be able to override the default hidden behavior on the sphinx rendered scikit-learn.org. See: https://github.com/scikit-learn/scikit-learn/issues/21755 */display: inline-block !important;position: relative;}#sk-container-id-15 div.sk-text-repr-fallback {display: none;}</style><div id=\"sk-container-id-15\" class=\"sk-top-container\"><div class=\"sk-text-repr-fallback\"><pre>RFE(estimator=LogisticRegression(class_weight={0: 1, 1: 2}),\n",
       "    n_features_to_select=16, verbose=1)</pre><b>In a Jupyter environment, please rerun this cell to show the HTML representation or trust the notebook. <br />On GitHub, the HTML representation is unable to render, please try loading this page with nbviewer.org.</b></div><div class=\"sk-container\" hidden><div class=\"sk-item sk-dashed-wrapped\"><div class=\"sk-label-container\"><div class=\"sk-label sk-toggleable\"><input class=\"sk-toggleable__control sk-hidden--visually\" id=\"sk-estimator-id-27\" type=\"checkbox\" ><label for=\"sk-estimator-id-27\" class=\"sk-toggleable__label sk-toggleable__label-arrow\">RFE</label><div class=\"sk-toggleable__content\"><pre>RFE(estimator=LogisticRegression(class_weight={0: 1, 1: 2}),\n",
       "    n_features_to_select=16, verbose=1)</pre></div></div></div><div class=\"sk-parallel\"><div class=\"sk-parallel-item\"><div class=\"sk-item\"><div class=\"sk-label-container\"><div class=\"sk-label sk-toggleable\"><input class=\"sk-toggleable__control sk-hidden--visually\" id=\"sk-estimator-id-28\" type=\"checkbox\" ><label for=\"sk-estimator-id-28\" class=\"sk-toggleable__label sk-toggleable__label-arrow\">estimator: LogisticRegression</label><div class=\"sk-toggleable__content\"><pre>LogisticRegression(class_weight={0: 1, 1: 2})</pre></div></div></div><div class=\"sk-serial\"><div class=\"sk-item\"><div class=\"sk-estimator sk-toggleable\"><input class=\"sk-toggleable__control sk-hidden--visually\" id=\"sk-estimator-id-29\" type=\"checkbox\" ><label for=\"sk-estimator-id-29\" class=\"sk-toggleable__label sk-toggleable__label-arrow\">LogisticRegression</label><div class=\"sk-toggleable__content\"><pre>LogisticRegression(class_weight={0: 1, 1: 2})</pre></div></div></div></div></div></div></div></div></div></div>"
      ],
      "text/plain": [
       "RFE(estimator=LogisticRegression(class_weight={0: 1, 1: 2}),\n",
       "    n_features_to_select=16, verbose=1)"
      ]
     },
     "execution_count": 32,
     "metadata": {},
     "output_type": "execute_result"
    },
    {
     "data": {
      "text/html": [
       "<style>#sk-container-id-16 {color: black;}#sk-container-id-16 pre{padding: 0;}#sk-container-id-16 div.sk-toggleable {background-color: white;}#sk-container-id-16 label.sk-toggleable__label {cursor: pointer;display: block;width: 100%;margin-bottom: 0;padding: 0.3em;box-sizing: border-box;text-align: center;}#sk-container-id-16 label.sk-toggleable__label-arrow:before {content: \"▸\";float: left;margin-right: 0.25em;color: #696969;}#sk-container-id-16 label.sk-toggleable__label-arrow:hover:before {color: black;}#sk-container-id-16 div.sk-estimator:hover label.sk-toggleable__label-arrow:before {color: black;}#sk-container-id-16 div.sk-toggleable__content {max-height: 0;max-width: 0;overflow: hidden;text-align: left;background-color: #f0f8ff;}#sk-container-id-16 div.sk-toggleable__content pre {margin: 0.2em;color: black;border-radius: 0.25em;background-color: #f0f8ff;}#sk-container-id-16 input.sk-toggleable__control:checked~div.sk-toggleable__content {max-height: 200px;max-width: 100%;overflow: auto;}#sk-container-id-16 input.sk-toggleable__control:checked~label.sk-toggleable__label-arrow:before {content: \"▾\";}#sk-container-id-16 div.sk-estimator input.sk-toggleable__control:checked~label.sk-toggleable__label {background-color: #d4ebff;}#sk-container-id-16 div.sk-label input.sk-toggleable__control:checked~label.sk-toggleable__label {background-color: #d4ebff;}#sk-container-id-16 input.sk-hidden--visually {border: 0;clip: rect(1px 1px 1px 1px);clip: rect(1px, 1px, 1px, 1px);height: 1px;margin: -1px;overflow: hidden;padding: 0;position: absolute;width: 1px;}#sk-container-id-16 div.sk-estimator {font-family: monospace;background-color: #f0f8ff;border: 1px dotted black;border-radius: 0.25em;box-sizing: border-box;margin-bottom: 0.5em;}#sk-container-id-16 div.sk-estimator:hover {background-color: #d4ebff;}#sk-container-id-16 div.sk-parallel-item::after {content: \"\";width: 100%;border-bottom: 1px solid gray;flex-grow: 1;}#sk-container-id-16 div.sk-label:hover label.sk-toggleable__label {background-color: #d4ebff;}#sk-container-id-16 div.sk-serial::before {content: \"\";position: absolute;border-left: 1px solid gray;box-sizing: border-box;top: 0;bottom: 0;left: 50%;z-index: 0;}#sk-container-id-16 div.sk-serial {display: flex;flex-direction: column;align-items: center;background-color: white;padding-right: 0.2em;padding-left: 0.2em;position: relative;}#sk-container-id-16 div.sk-item {position: relative;z-index: 1;}#sk-container-id-16 div.sk-parallel {display: flex;align-items: stretch;justify-content: center;background-color: white;position: relative;}#sk-container-id-16 div.sk-item::before, #sk-container-id-16 div.sk-parallel-item::before {content: \"\";position: absolute;border-left: 1px solid gray;box-sizing: border-box;top: 0;bottom: 0;left: 50%;z-index: -1;}#sk-container-id-16 div.sk-parallel-item {display: flex;flex-direction: column;z-index: 1;position: relative;background-color: white;}#sk-container-id-16 div.sk-parallel-item:first-child::after {align-self: flex-end;width: 50%;}#sk-container-id-16 div.sk-parallel-item:last-child::after {align-self: flex-start;width: 50%;}#sk-container-id-16 div.sk-parallel-item:only-child::after {width: 0;}#sk-container-id-16 div.sk-dashed-wrapped {border: 1px dashed gray;margin: 0 0.4em 0.5em 0.4em;box-sizing: border-box;padding-bottom: 0.4em;background-color: white;}#sk-container-id-16 div.sk-label label {font-family: monospace;font-weight: bold;display: inline-block;line-height: 1.2em;}#sk-container-id-16 div.sk-label-container {text-align: center;}#sk-container-id-16 div.sk-container {/* jupyter's `normalize.less` sets `[hidden] { display: none; }` but bootstrap.min.css set `[hidden] { display: none !important; }` so we also need the `!important` here to be able to override the default hidden behavior on the sphinx rendered scikit-learn.org. See: https://github.com/scikit-learn/scikit-learn/issues/21755 */display: inline-block !important;position: relative;}#sk-container-id-16 div.sk-text-repr-fallback {display: none;}</style><div id=\"sk-container-id-16\" class=\"sk-top-container\"><div class=\"sk-text-repr-fallback\"><pre>LogisticRegression(class_weight={0: 1, 1: 2})</pre><b>In a Jupyter environment, please rerun this cell to show the HTML representation or trust the notebook. <br />On GitHub, the HTML representation is unable to render, please try loading this page with nbviewer.org.</b></div><div class=\"sk-container\" hidden><div class=\"sk-item\"><div class=\"sk-estimator sk-toggleable\"><input class=\"sk-toggleable__control sk-hidden--visually\" id=\"sk-estimator-id-30\" type=\"checkbox\" checked><label for=\"sk-estimator-id-30\" class=\"sk-toggleable__label sk-toggleable__label-arrow\">LogisticRegression</label><div class=\"sk-toggleable__content\"><pre>LogisticRegression(class_weight={0: 1, 1: 2})</pre></div></div></div></div></div>"
      ],
      "text/plain": [
       "LogisticRegression(class_weight={0: 1, 1: 2})"
      ]
     },
     "execution_count": 32,
     "metadata": {},
     "output_type": "execute_result"
    },
    {
     "name": "stdout",
     "output_type": "stream",
     "text": [
      "Fitting estimator with 19 features.\n",
      "Fitting estimator with 18 features.\n"
     ]
    },
    {
     "data": {
      "text/html": [
       "<style>#sk-container-id-17 {color: black;}#sk-container-id-17 pre{padding: 0;}#sk-container-id-17 div.sk-toggleable {background-color: white;}#sk-container-id-17 label.sk-toggleable__label {cursor: pointer;display: block;width: 100%;margin-bottom: 0;padding: 0.3em;box-sizing: border-box;text-align: center;}#sk-container-id-17 label.sk-toggleable__label-arrow:before {content: \"▸\";float: left;margin-right: 0.25em;color: #696969;}#sk-container-id-17 label.sk-toggleable__label-arrow:hover:before {color: black;}#sk-container-id-17 div.sk-estimator:hover label.sk-toggleable__label-arrow:before {color: black;}#sk-container-id-17 div.sk-toggleable__content {max-height: 0;max-width: 0;overflow: hidden;text-align: left;background-color: #f0f8ff;}#sk-container-id-17 div.sk-toggleable__content pre {margin: 0.2em;color: black;border-radius: 0.25em;background-color: #f0f8ff;}#sk-container-id-17 input.sk-toggleable__control:checked~div.sk-toggleable__content {max-height: 200px;max-width: 100%;overflow: auto;}#sk-container-id-17 input.sk-toggleable__control:checked~label.sk-toggleable__label-arrow:before {content: \"▾\";}#sk-container-id-17 div.sk-estimator input.sk-toggleable__control:checked~label.sk-toggleable__label {background-color: #d4ebff;}#sk-container-id-17 div.sk-label input.sk-toggleable__control:checked~label.sk-toggleable__label {background-color: #d4ebff;}#sk-container-id-17 input.sk-hidden--visually {border: 0;clip: rect(1px 1px 1px 1px);clip: rect(1px, 1px, 1px, 1px);height: 1px;margin: -1px;overflow: hidden;padding: 0;position: absolute;width: 1px;}#sk-container-id-17 div.sk-estimator {font-family: monospace;background-color: #f0f8ff;border: 1px dotted black;border-radius: 0.25em;box-sizing: border-box;margin-bottom: 0.5em;}#sk-container-id-17 div.sk-estimator:hover {background-color: #d4ebff;}#sk-container-id-17 div.sk-parallel-item::after {content: \"\";width: 100%;border-bottom: 1px solid gray;flex-grow: 1;}#sk-container-id-17 div.sk-label:hover label.sk-toggleable__label {background-color: #d4ebff;}#sk-container-id-17 div.sk-serial::before {content: \"\";position: absolute;border-left: 1px solid gray;box-sizing: border-box;top: 0;bottom: 0;left: 50%;z-index: 0;}#sk-container-id-17 div.sk-serial {display: flex;flex-direction: column;align-items: center;background-color: white;padding-right: 0.2em;padding-left: 0.2em;position: relative;}#sk-container-id-17 div.sk-item {position: relative;z-index: 1;}#sk-container-id-17 div.sk-parallel {display: flex;align-items: stretch;justify-content: center;background-color: white;position: relative;}#sk-container-id-17 div.sk-item::before, #sk-container-id-17 div.sk-parallel-item::before {content: \"\";position: absolute;border-left: 1px solid gray;box-sizing: border-box;top: 0;bottom: 0;left: 50%;z-index: -1;}#sk-container-id-17 div.sk-parallel-item {display: flex;flex-direction: column;z-index: 1;position: relative;background-color: white;}#sk-container-id-17 div.sk-parallel-item:first-child::after {align-self: flex-end;width: 50%;}#sk-container-id-17 div.sk-parallel-item:last-child::after {align-self: flex-start;width: 50%;}#sk-container-id-17 div.sk-parallel-item:only-child::after {width: 0;}#sk-container-id-17 div.sk-dashed-wrapped {border: 1px dashed gray;margin: 0 0.4em 0.5em 0.4em;box-sizing: border-box;padding-bottom: 0.4em;background-color: white;}#sk-container-id-17 div.sk-label label {font-family: monospace;font-weight: bold;display: inline-block;line-height: 1.2em;}#sk-container-id-17 div.sk-label-container {text-align: center;}#sk-container-id-17 div.sk-container {/* jupyter's `normalize.less` sets `[hidden] { display: none; }` but bootstrap.min.css set `[hidden] { display: none !important; }` so we also need the `!important` here to be able to override the default hidden behavior on the sphinx rendered scikit-learn.org. See: https://github.com/scikit-learn/scikit-learn/issues/21755 */display: inline-block !important;position: relative;}#sk-container-id-17 div.sk-text-repr-fallback {display: none;}</style><div id=\"sk-container-id-17\" class=\"sk-top-container\"><div class=\"sk-text-repr-fallback\"><pre>RFE(estimator=LogisticRegression(class_weight={0: 1, 1: 2}),\n",
       "    n_features_to_select=17, verbose=1)</pre><b>In a Jupyter environment, please rerun this cell to show the HTML representation or trust the notebook. <br />On GitHub, the HTML representation is unable to render, please try loading this page with nbviewer.org.</b></div><div class=\"sk-container\" hidden><div class=\"sk-item sk-dashed-wrapped\"><div class=\"sk-label-container\"><div class=\"sk-label sk-toggleable\"><input class=\"sk-toggleable__control sk-hidden--visually\" id=\"sk-estimator-id-31\" type=\"checkbox\" ><label for=\"sk-estimator-id-31\" class=\"sk-toggleable__label sk-toggleable__label-arrow\">RFE</label><div class=\"sk-toggleable__content\"><pre>RFE(estimator=LogisticRegression(class_weight={0: 1, 1: 2}),\n",
       "    n_features_to_select=17, verbose=1)</pre></div></div></div><div class=\"sk-parallel\"><div class=\"sk-parallel-item\"><div class=\"sk-item\"><div class=\"sk-label-container\"><div class=\"sk-label sk-toggleable\"><input class=\"sk-toggleable__control sk-hidden--visually\" id=\"sk-estimator-id-32\" type=\"checkbox\" ><label for=\"sk-estimator-id-32\" class=\"sk-toggleable__label sk-toggleable__label-arrow\">estimator: LogisticRegression</label><div class=\"sk-toggleable__content\"><pre>LogisticRegression(class_weight={0: 1, 1: 2})</pre></div></div></div><div class=\"sk-serial\"><div class=\"sk-item\"><div class=\"sk-estimator sk-toggleable\"><input class=\"sk-toggleable__control sk-hidden--visually\" id=\"sk-estimator-id-33\" type=\"checkbox\" ><label for=\"sk-estimator-id-33\" class=\"sk-toggleable__label sk-toggleable__label-arrow\">LogisticRegression</label><div class=\"sk-toggleable__content\"><pre>LogisticRegression(class_weight={0: 1, 1: 2})</pre></div></div></div></div></div></div></div></div></div></div>"
      ],
      "text/plain": [
       "RFE(estimator=LogisticRegression(class_weight={0: 1, 1: 2}),\n",
       "    n_features_to_select=17, verbose=1)"
      ]
     },
     "execution_count": 32,
     "metadata": {},
     "output_type": "execute_result"
    },
    {
     "data": {
      "text/html": [
       "<style>#sk-container-id-18 {color: black;}#sk-container-id-18 pre{padding: 0;}#sk-container-id-18 div.sk-toggleable {background-color: white;}#sk-container-id-18 label.sk-toggleable__label {cursor: pointer;display: block;width: 100%;margin-bottom: 0;padding: 0.3em;box-sizing: border-box;text-align: center;}#sk-container-id-18 label.sk-toggleable__label-arrow:before {content: \"▸\";float: left;margin-right: 0.25em;color: #696969;}#sk-container-id-18 label.sk-toggleable__label-arrow:hover:before {color: black;}#sk-container-id-18 div.sk-estimator:hover label.sk-toggleable__label-arrow:before {color: black;}#sk-container-id-18 div.sk-toggleable__content {max-height: 0;max-width: 0;overflow: hidden;text-align: left;background-color: #f0f8ff;}#sk-container-id-18 div.sk-toggleable__content pre {margin: 0.2em;color: black;border-radius: 0.25em;background-color: #f0f8ff;}#sk-container-id-18 input.sk-toggleable__control:checked~div.sk-toggleable__content {max-height: 200px;max-width: 100%;overflow: auto;}#sk-container-id-18 input.sk-toggleable__control:checked~label.sk-toggleable__label-arrow:before {content: \"▾\";}#sk-container-id-18 div.sk-estimator input.sk-toggleable__control:checked~label.sk-toggleable__label {background-color: #d4ebff;}#sk-container-id-18 div.sk-label input.sk-toggleable__control:checked~label.sk-toggleable__label {background-color: #d4ebff;}#sk-container-id-18 input.sk-hidden--visually {border: 0;clip: rect(1px 1px 1px 1px);clip: rect(1px, 1px, 1px, 1px);height: 1px;margin: -1px;overflow: hidden;padding: 0;position: absolute;width: 1px;}#sk-container-id-18 div.sk-estimator {font-family: monospace;background-color: #f0f8ff;border: 1px dotted black;border-radius: 0.25em;box-sizing: border-box;margin-bottom: 0.5em;}#sk-container-id-18 div.sk-estimator:hover {background-color: #d4ebff;}#sk-container-id-18 div.sk-parallel-item::after {content: \"\";width: 100%;border-bottom: 1px solid gray;flex-grow: 1;}#sk-container-id-18 div.sk-label:hover label.sk-toggleable__label {background-color: #d4ebff;}#sk-container-id-18 div.sk-serial::before {content: \"\";position: absolute;border-left: 1px solid gray;box-sizing: border-box;top: 0;bottom: 0;left: 50%;z-index: 0;}#sk-container-id-18 div.sk-serial {display: flex;flex-direction: column;align-items: center;background-color: white;padding-right: 0.2em;padding-left: 0.2em;position: relative;}#sk-container-id-18 div.sk-item {position: relative;z-index: 1;}#sk-container-id-18 div.sk-parallel {display: flex;align-items: stretch;justify-content: center;background-color: white;position: relative;}#sk-container-id-18 div.sk-item::before, #sk-container-id-18 div.sk-parallel-item::before {content: \"\";position: absolute;border-left: 1px solid gray;box-sizing: border-box;top: 0;bottom: 0;left: 50%;z-index: -1;}#sk-container-id-18 div.sk-parallel-item {display: flex;flex-direction: column;z-index: 1;position: relative;background-color: white;}#sk-container-id-18 div.sk-parallel-item:first-child::after {align-self: flex-end;width: 50%;}#sk-container-id-18 div.sk-parallel-item:last-child::after {align-self: flex-start;width: 50%;}#sk-container-id-18 div.sk-parallel-item:only-child::after {width: 0;}#sk-container-id-18 div.sk-dashed-wrapped {border: 1px dashed gray;margin: 0 0.4em 0.5em 0.4em;box-sizing: border-box;padding-bottom: 0.4em;background-color: white;}#sk-container-id-18 div.sk-label label {font-family: monospace;font-weight: bold;display: inline-block;line-height: 1.2em;}#sk-container-id-18 div.sk-label-container {text-align: center;}#sk-container-id-18 div.sk-container {/* jupyter's `normalize.less` sets `[hidden] { display: none; }` but bootstrap.min.css set `[hidden] { display: none !important; }` so we also need the `!important` here to be able to override the default hidden behavior on the sphinx rendered scikit-learn.org. See: https://github.com/scikit-learn/scikit-learn/issues/21755 */display: inline-block !important;position: relative;}#sk-container-id-18 div.sk-text-repr-fallback {display: none;}</style><div id=\"sk-container-id-18\" class=\"sk-top-container\"><div class=\"sk-text-repr-fallback\"><pre>LogisticRegression(class_weight={0: 1, 1: 2})</pre><b>In a Jupyter environment, please rerun this cell to show the HTML representation or trust the notebook. <br />On GitHub, the HTML representation is unable to render, please try loading this page with nbviewer.org.</b></div><div class=\"sk-container\" hidden><div class=\"sk-item\"><div class=\"sk-estimator sk-toggleable\"><input class=\"sk-toggleable__control sk-hidden--visually\" id=\"sk-estimator-id-34\" type=\"checkbox\" checked><label for=\"sk-estimator-id-34\" class=\"sk-toggleable__label sk-toggleable__label-arrow\">LogisticRegression</label><div class=\"sk-toggleable__content\"><pre>LogisticRegression(class_weight={0: 1, 1: 2})</pre></div></div></div></div></div>"
      ],
      "text/plain": [
       "LogisticRegression(class_weight={0: 1, 1: 2})"
      ]
     },
     "execution_count": 32,
     "metadata": {},
     "output_type": "execute_result"
    },
    {
     "name": "stdout",
     "output_type": "stream",
     "text": [
      "Fitting estimator with 19 features.\n"
     ]
    },
    {
     "data": {
      "text/html": [
       "<style>#sk-container-id-19 {color: black;}#sk-container-id-19 pre{padding: 0;}#sk-container-id-19 div.sk-toggleable {background-color: white;}#sk-container-id-19 label.sk-toggleable__label {cursor: pointer;display: block;width: 100%;margin-bottom: 0;padding: 0.3em;box-sizing: border-box;text-align: center;}#sk-container-id-19 label.sk-toggleable__label-arrow:before {content: \"▸\";float: left;margin-right: 0.25em;color: #696969;}#sk-container-id-19 label.sk-toggleable__label-arrow:hover:before {color: black;}#sk-container-id-19 div.sk-estimator:hover label.sk-toggleable__label-arrow:before {color: black;}#sk-container-id-19 div.sk-toggleable__content {max-height: 0;max-width: 0;overflow: hidden;text-align: left;background-color: #f0f8ff;}#sk-container-id-19 div.sk-toggleable__content pre {margin: 0.2em;color: black;border-radius: 0.25em;background-color: #f0f8ff;}#sk-container-id-19 input.sk-toggleable__control:checked~div.sk-toggleable__content {max-height: 200px;max-width: 100%;overflow: auto;}#sk-container-id-19 input.sk-toggleable__control:checked~label.sk-toggleable__label-arrow:before {content: \"▾\";}#sk-container-id-19 div.sk-estimator input.sk-toggleable__control:checked~label.sk-toggleable__label {background-color: #d4ebff;}#sk-container-id-19 div.sk-label input.sk-toggleable__control:checked~label.sk-toggleable__label {background-color: #d4ebff;}#sk-container-id-19 input.sk-hidden--visually {border: 0;clip: rect(1px 1px 1px 1px);clip: rect(1px, 1px, 1px, 1px);height: 1px;margin: -1px;overflow: hidden;padding: 0;position: absolute;width: 1px;}#sk-container-id-19 div.sk-estimator {font-family: monospace;background-color: #f0f8ff;border: 1px dotted black;border-radius: 0.25em;box-sizing: border-box;margin-bottom: 0.5em;}#sk-container-id-19 div.sk-estimator:hover {background-color: #d4ebff;}#sk-container-id-19 div.sk-parallel-item::after {content: \"\";width: 100%;border-bottom: 1px solid gray;flex-grow: 1;}#sk-container-id-19 div.sk-label:hover label.sk-toggleable__label {background-color: #d4ebff;}#sk-container-id-19 div.sk-serial::before {content: \"\";position: absolute;border-left: 1px solid gray;box-sizing: border-box;top: 0;bottom: 0;left: 50%;z-index: 0;}#sk-container-id-19 div.sk-serial {display: flex;flex-direction: column;align-items: center;background-color: white;padding-right: 0.2em;padding-left: 0.2em;position: relative;}#sk-container-id-19 div.sk-item {position: relative;z-index: 1;}#sk-container-id-19 div.sk-parallel {display: flex;align-items: stretch;justify-content: center;background-color: white;position: relative;}#sk-container-id-19 div.sk-item::before, #sk-container-id-19 div.sk-parallel-item::before {content: \"\";position: absolute;border-left: 1px solid gray;box-sizing: border-box;top: 0;bottom: 0;left: 50%;z-index: -1;}#sk-container-id-19 div.sk-parallel-item {display: flex;flex-direction: column;z-index: 1;position: relative;background-color: white;}#sk-container-id-19 div.sk-parallel-item:first-child::after {align-self: flex-end;width: 50%;}#sk-container-id-19 div.sk-parallel-item:last-child::after {align-self: flex-start;width: 50%;}#sk-container-id-19 div.sk-parallel-item:only-child::after {width: 0;}#sk-container-id-19 div.sk-dashed-wrapped {border: 1px dashed gray;margin: 0 0.4em 0.5em 0.4em;box-sizing: border-box;padding-bottom: 0.4em;background-color: white;}#sk-container-id-19 div.sk-label label {font-family: monospace;font-weight: bold;display: inline-block;line-height: 1.2em;}#sk-container-id-19 div.sk-label-container {text-align: center;}#sk-container-id-19 div.sk-container {/* jupyter's `normalize.less` sets `[hidden] { display: none; }` but bootstrap.min.css set `[hidden] { display: none !important; }` so we also need the `!important` here to be able to override the default hidden behavior on the sphinx rendered scikit-learn.org. See: https://github.com/scikit-learn/scikit-learn/issues/21755 */display: inline-block !important;position: relative;}#sk-container-id-19 div.sk-text-repr-fallback {display: none;}</style><div id=\"sk-container-id-19\" class=\"sk-top-container\"><div class=\"sk-text-repr-fallback\"><pre>RFE(estimator=LogisticRegression(class_weight={0: 1, 1: 2}),\n",
       "    n_features_to_select=18, verbose=1)</pre><b>In a Jupyter environment, please rerun this cell to show the HTML representation or trust the notebook. <br />On GitHub, the HTML representation is unable to render, please try loading this page with nbviewer.org.</b></div><div class=\"sk-container\" hidden><div class=\"sk-item sk-dashed-wrapped\"><div class=\"sk-label-container\"><div class=\"sk-label sk-toggleable\"><input class=\"sk-toggleable__control sk-hidden--visually\" id=\"sk-estimator-id-35\" type=\"checkbox\" ><label for=\"sk-estimator-id-35\" class=\"sk-toggleable__label sk-toggleable__label-arrow\">RFE</label><div class=\"sk-toggleable__content\"><pre>RFE(estimator=LogisticRegression(class_weight={0: 1, 1: 2}),\n",
       "    n_features_to_select=18, verbose=1)</pre></div></div></div><div class=\"sk-parallel\"><div class=\"sk-parallel-item\"><div class=\"sk-item\"><div class=\"sk-label-container\"><div class=\"sk-label sk-toggleable\"><input class=\"sk-toggleable__control sk-hidden--visually\" id=\"sk-estimator-id-36\" type=\"checkbox\" ><label for=\"sk-estimator-id-36\" class=\"sk-toggleable__label sk-toggleable__label-arrow\">estimator: LogisticRegression</label><div class=\"sk-toggleable__content\"><pre>LogisticRegression(class_weight={0: 1, 1: 2})</pre></div></div></div><div class=\"sk-serial\"><div class=\"sk-item\"><div class=\"sk-estimator sk-toggleable\"><input class=\"sk-toggleable__control sk-hidden--visually\" id=\"sk-estimator-id-37\" type=\"checkbox\" ><label for=\"sk-estimator-id-37\" class=\"sk-toggleable__label sk-toggleable__label-arrow\">LogisticRegression</label><div class=\"sk-toggleable__content\"><pre>LogisticRegression(class_weight={0: 1, 1: 2})</pre></div></div></div></div></div></div></div></div></div></div>"
      ],
      "text/plain": [
       "RFE(estimator=LogisticRegression(class_weight={0: 1, 1: 2}),\n",
       "    n_features_to_select=18, verbose=1)"
      ]
     },
     "execution_count": 32,
     "metadata": {},
     "output_type": "execute_result"
    },
    {
     "data": {
      "text/html": [
       "<style>#sk-container-id-20 {color: black;}#sk-container-id-20 pre{padding: 0;}#sk-container-id-20 div.sk-toggleable {background-color: white;}#sk-container-id-20 label.sk-toggleable__label {cursor: pointer;display: block;width: 100%;margin-bottom: 0;padding: 0.3em;box-sizing: border-box;text-align: center;}#sk-container-id-20 label.sk-toggleable__label-arrow:before {content: \"▸\";float: left;margin-right: 0.25em;color: #696969;}#sk-container-id-20 label.sk-toggleable__label-arrow:hover:before {color: black;}#sk-container-id-20 div.sk-estimator:hover label.sk-toggleable__label-arrow:before {color: black;}#sk-container-id-20 div.sk-toggleable__content {max-height: 0;max-width: 0;overflow: hidden;text-align: left;background-color: #f0f8ff;}#sk-container-id-20 div.sk-toggleable__content pre {margin: 0.2em;color: black;border-radius: 0.25em;background-color: #f0f8ff;}#sk-container-id-20 input.sk-toggleable__control:checked~div.sk-toggleable__content {max-height: 200px;max-width: 100%;overflow: auto;}#sk-container-id-20 input.sk-toggleable__control:checked~label.sk-toggleable__label-arrow:before {content: \"▾\";}#sk-container-id-20 div.sk-estimator input.sk-toggleable__control:checked~label.sk-toggleable__label {background-color: #d4ebff;}#sk-container-id-20 div.sk-label input.sk-toggleable__control:checked~label.sk-toggleable__label {background-color: #d4ebff;}#sk-container-id-20 input.sk-hidden--visually {border: 0;clip: rect(1px 1px 1px 1px);clip: rect(1px, 1px, 1px, 1px);height: 1px;margin: -1px;overflow: hidden;padding: 0;position: absolute;width: 1px;}#sk-container-id-20 div.sk-estimator {font-family: monospace;background-color: #f0f8ff;border: 1px dotted black;border-radius: 0.25em;box-sizing: border-box;margin-bottom: 0.5em;}#sk-container-id-20 div.sk-estimator:hover {background-color: #d4ebff;}#sk-container-id-20 div.sk-parallel-item::after {content: \"\";width: 100%;border-bottom: 1px solid gray;flex-grow: 1;}#sk-container-id-20 div.sk-label:hover label.sk-toggleable__label {background-color: #d4ebff;}#sk-container-id-20 div.sk-serial::before {content: \"\";position: absolute;border-left: 1px solid gray;box-sizing: border-box;top: 0;bottom: 0;left: 50%;z-index: 0;}#sk-container-id-20 div.sk-serial {display: flex;flex-direction: column;align-items: center;background-color: white;padding-right: 0.2em;padding-left: 0.2em;position: relative;}#sk-container-id-20 div.sk-item {position: relative;z-index: 1;}#sk-container-id-20 div.sk-parallel {display: flex;align-items: stretch;justify-content: center;background-color: white;position: relative;}#sk-container-id-20 div.sk-item::before, #sk-container-id-20 div.sk-parallel-item::before {content: \"\";position: absolute;border-left: 1px solid gray;box-sizing: border-box;top: 0;bottom: 0;left: 50%;z-index: -1;}#sk-container-id-20 div.sk-parallel-item {display: flex;flex-direction: column;z-index: 1;position: relative;background-color: white;}#sk-container-id-20 div.sk-parallel-item:first-child::after {align-self: flex-end;width: 50%;}#sk-container-id-20 div.sk-parallel-item:last-child::after {align-self: flex-start;width: 50%;}#sk-container-id-20 div.sk-parallel-item:only-child::after {width: 0;}#sk-container-id-20 div.sk-dashed-wrapped {border: 1px dashed gray;margin: 0 0.4em 0.5em 0.4em;box-sizing: border-box;padding-bottom: 0.4em;background-color: white;}#sk-container-id-20 div.sk-label label {font-family: monospace;font-weight: bold;display: inline-block;line-height: 1.2em;}#sk-container-id-20 div.sk-label-container {text-align: center;}#sk-container-id-20 div.sk-container {/* jupyter's `normalize.less` sets `[hidden] { display: none; }` but bootstrap.min.css set `[hidden] { display: none !important; }` so we also need the `!important` here to be able to override the default hidden behavior on the sphinx rendered scikit-learn.org. See: https://github.com/scikit-learn/scikit-learn/issues/21755 */display: inline-block !important;position: relative;}#sk-container-id-20 div.sk-text-repr-fallback {display: none;}</style><div id=\"sk-container-id-20\" class=\"sk-top-container\"><div class=\"sk-text-repr-fallback\"><pre>LogisticRegression(class_weight={0: 1, 1: 2})</pre><b>In a Jupyter environment, please rerun this cell to show the HTML representation or trust the notebook. <br />On GitHub, the HTML representation is unable to render, please try loading this page with nbviewer.org.</b></div><div class=\"sk-container\" hidden><div class=\"sk-item\"><div class=\"sk-estimator sk-toggleable\"><input class=\"sk-toggleable__control sk-hidden--visually\" id=\"sk-estimator-id-38\" type=\"checkbox\" checked><label for=\"sk-estimator-id-38\" class=\"sk-toggleable__label sk-toggleable__label-arrow\">LogisticRegression</label><div class=\"sk-toggleable__content\"><pre>LogisticRegression(class_weight={0: 1, 1: 2})</pre></div></div></div></div></div>"
      ],
      "text/plain": [
       "LogisticRegression(class_weight={0: 1, 1: 2})"
      ]
     },
     "execution_count": 32,
     "metadata": {},
     "output_type": "execute_result"
    },
    {
     "data": {
      "text/html": [
       "<style>#sk-container-id-21 {color: black;}#sk-container-id-21 pre{padding: 0;}#sk-container-id-21 div.sk-toggleable {background-color: white;}#sk-container-id-21 label.sk-toggleable__label {cursor: pointer;display: block;width: 100%;margin-bottom: 0;padding: 0.3em;box-sizing: border-box;text-align: center;}#sk-container-id-21 label.sk-toggleable__label-arrow:before {content: \"▸\";float: left;margin-right: 0.25em;color: #696969;}#sk-container-id-21 label.sk-toggleable__label-arrow:hover:before {color: black;}#sk-container-id-21 div.sk-estimator:hover label.sk-toggleable__label-arrow:before {color: black;}#sk-container-id-21 div.sk-toggleable__content {max-height: 0;max-width: 0;overflow: hidden;text-align: left;background-color: #f0f8ff;}#sk-container-id-21 div.sk-toggleable__content pre {margin: 0.2em;color: black;border-radius: 0.25em;background-color: #f0f8ff;}#sk-container-id-21 input.sk-toggleable__control:checked~div.sk-toggleable__content {max-height: 200px;max-width: 100%;overflow: auto;}#sk-container-id-21 input.sk-toggleable__control:checked~label.sk-toggleable__label-arrow:before {content: \"▾\";}#sk-container-id-21 div.sk-estimator input.sk-toggleable__control:checked~label.sk-toggleable__label {background-color: #d4ebff;}#sk-container-id-21 div.sk-label input.sk-toggleable__control:checked~label.sk-toggleable__label {background-color: #d4ebff;}#sk-container-id-21 input.sk-hidden--visually {border: 0;clip: rect(1px 1px 1px 1px);clip: rect(1px, 1px, 1px, 1px);height: 1px;margin: -1px;overflow: hidden;padding: 0;position: absolute;width: 1px;}#sk-container-id-21 div.sk-estimator {font-family: monospace;background-color: #f0f8ff;border: 1px dotted black;border-radius: 0.25em;box-sizing: border-box;margin-bottom: 0.5em;}#sk-container-id-21 div.sk-estimator:hover {background-color: #d4ebff;}#sk-container-id-21 div.sk-parallel-item::after {content: \"\";width: 100%;border-bottom: 1px solid gray;flex-grow: 1;}#sk-container-id-21 div.sk-label:hover label.sk-toggleable__label {background-color: #d4ebff;}#sk-container-id-21 div.sk-serial::before {content: \"\";position: absolute;border-left: 1px solid gray;box-sizing: border-box;top: 0;bottom: 0;left: 50%;z-index: 0;}#sk-container-id-21 div.sk-serial {display: flex;flex-direction: column;align-items: center;background-color: white;padding-right: 0.2em;padding-left: 0.2em;position: relative;}#sk-container-id-21 div.sk-item {position: relative;z-index: 1;}#sk-container-id-21 div.sk-parallel {display: flex;align-items: stretch;justify-content: center;background-color: white;position: relative;}#sk-container-id-21 div.sk-item::before, #sk-container-id-21 div.sk-parallel-item::before {content: \"\";position: absolute;border-left: 1px solid gray;box-sizing: border-box;top: 0;bottom: 0;left: 50%;z-index: -1;}#sk-container-id-21 div.sk-parallel-item {display: flex;flex-direction: column;z-index: 1;position: relative;background-color: white;}#sk-container-id-21 div.sk-parallel-item:first-child::after {align-self: flex-end;width: 50%;}#sk-container-id-21 div.sk-parallel-item:last-child::after {align-self: flex-start;width: 50%;}#sk-container-id-21 div.sk-parallel-item:only-child::after {width: 0;}#sk-container-id-21 div.sk-dashed-wrapped {border: 1px dashed gray;margin: 0 0.4em 0.5em 0.4em;box-sizing: border-box;padding-bottom: 0.4em;background-color: white;}#sk-container-id-21 div.sk-label label {font-family: monospace;font-weight: bold;display: inline-block;line-height: 1.2em;}#sk-container-id-21 div.sk-label-container {text-align: center;}#sk-container-id-21 div.sk-container {/* jupyter's `normalize.less` sets `[hidden] { display: none; }` but bootstrap.min.css set `[hidden] { display: none !important; }` so we also need the `!important` here to be able to override the default hidden behavior on the sphinx rendered scikit-learn.org. See: https://github.com/scikit-learn/scikit-learn/issues/21755 */display: inline-block !important;position: relative;}#sk-container-id-21 div.sk-text-repr-fallback {display: none;}</style><div id=\"sk-container-id-21\" class=\"sk-top-container\"><div class=\"sk-text-repr-fallback\"><pre>RFE(estimator=LogisticRegression(class_weight={0: 1, 1: 2}),\n",
       "    n_features_to_select=19, verbose=1)</pre><b>In a Jupyter environment, please rerun this cell to show the HTML representation or trust the notebook. <br />On GitHub, the HTML representation is unable to render, please try loading this page with nbviewer.org.</b></div><div class=\"sk-container\" hidden><div class=\"sk-item sk-dashed-wrapped\"><div class=\"sk-label-container\"><div class=\"sk-label sk-toggleable\"><input class=\"sk-toggleable__control sk-hidden--visually\" id=\"sk-estimator-id-39\" type=\"checkbox\" ><label for=\"sk-estimator-id-39\" class=\"sk-toggleable__label sk-toggleable__label-arrow\">RFE</label><div class=\"sk-toggleable__content\"><pre>RFE(estimator=LogisticRegression(class_weight={0: 1, 1: 2}),\n",
       "    n_features_to_select=19, verbose=1)</pre></div></div></div><div class=\"sk-parallel\"><div class=\"sk-parallel-item\"><div class=\"sk-item\"><div class=\"sk-label-container\"><div class=\"sk-label sk-toggleable\"><input class=\"sk-toggleable__control sk-hidden--visually\" id=\"sk-estimator-id-40\" type=\"checkbox\" ><label for=\"sk-estimator-id-40\" class=\"sk-toggleable__label sk-toggleable__label-arrow\">estimator: LogisticRegression</label><div class=\"sk-toggleable__content\"><pre>LogisticRegression(class_weight={0: 1, 1: 2})</pre></div></div></div><div class=\"sk-serial\"><div class=\"sk-item\"><div class=\"sk-estimator sk-toggleable\"><input class=\"sk-toggleable__control sk-hidden--visually\" id=\"sk-estimator-id-41\" type=\"checkbox\" ><label for=\"sk-estimator-id-41\" class=\"sk-toggleable__label sk-toggleable__label-arrow\">LogisticRegression</label><div class=\"sk-toggleable__content\"><pre>LogisticRegression(class_weight={0: 1, 1: 2})</pre></div></div></div></div></div></div></div></div></div></div>"
      ],
      "text/plain": [
       "RFE(estimator=LogisticRegression(class_weight={0: 1, 1: 2}),\n",
       "    n_features_to_select=19, verbose=1)"
      ]
     },
     "execution_count": 32,
     "metadata": {},
     "output_type": "execute_result"
    },
    {
     "data": {
      "text/html": [
       "<style>#sk-container-id-22 {color: black;}#sk-container-id-22 pre{padding: 0;}#sk-container-id-22 div.sk-toggleable {background-color: white;}#sk-container-id-22 label.sk-toggleable__label {cursor: pointer;display: block;width: 100%;margin-bottom: 0;padding: 0.3em;box-sizing: border-box;text-align: center;}#sk-container-id-22 label.sk-toggleable__label-arrow:before {content: \"▸\";float: left;margin-right: 0.25em;color: #696969;}#sk-container-id-22 label.sk-toggleable__label-arrow:hover:before {color: black;}#sk-container-id-22 div.sk-estimator:hover label.sk-toggleable__label-arrow:before {color: black;}#sk-container-id-22 div.sk-toggleable__content {max-height: 0;max-width: 0;overflow: hidden;text-align: left;background-color: #f0f8ff;}#sk-container-id-22 div.sk-toggleable__content pre {margin: 0.2em;color: black;border-radius: 0.25em;background-color: #f0f8ff;}#sk-container-id-22 input.sk-toggleable__control:checked~div.sk-toggleable__content {max-height: 200px;max-width: 100%;overflow: auto;}#sk-container-id-22 input.sk-toggleable__control:checked~label.sk-toggleable__label-arrow:before {content: \"▾\";}#sk-container-id-22 div.sk-estimator input.sk-toggleable__control:checked~label.sk-toggleable__label {background-color: #d4ebff;}#sk-container-id-22 div.sk-label input.sk-toggleable__control:checked~label.sk-toggleable__label {background-color: #d4ebff;}#sk-container-id-22 input.sk-hidden--visually {border: 0;clip: rect(1px 1px 1px 1px);clip: rect(1px, 1px, 1px, 1px);height: 1px;margin: -1px;overflow: hidden;padding: 0;position: absolute;width: 1px;}#sk-container-id-22 div.sk-estimator {font-family: monospace;background-color: #f0f8ff;border: 1px dotted black;border-radius: 0.25em;box-sizing: border-box;margin-bottom: 0.5em;}#sk-container-id-22 div.sk-estimator:hover {background-color: #d4ebff;}#sk-container-id-22 div.sk-parallel-item::after {content: \"\";width: 100%;border-bottom: 1px solid gray;flex-grow: 1;}#sk-container-id-22 div.sk-label:hover label.sk-toggleable__label {background-color: #d4ebff;}#sk-container-id-22 div.sk-serial::before {content: \"\";position: absolute;border-left: 1px solid gray;box-sizing: border-box;top: 0;bottom: 0;left: 50%;z-index: 0;}#sk-container-id-22 div.sk-serial {display: flex;flex-direction: column;align-items: center;background-color: white;padding-right: 0.2em;padding-left: 0.2em;position: relative;}#sk-container-id-22 div.sk-item {position: relative;z-index: 1;}#sk-container-id-22 div.sk-parallel {display: flex;align-items: stretch;justify-content: center;background-color: white;position: relative;}#sk-container-id-22 div.sk-item::before, #sk-container-id-22 div.sk-parallel-item::before {content: \"\";position: absolute;border-left: 1px solid gray;box-sizing: border-box;top: 0;bottom: 0;left: 50%;z-index: -1;}#sk-container-id-22 div.sk-parallel-item {display: flex;flex-direction: column;z-index: 1;position: relative;background-color: white;}#sk-container-id-22 div.sk-parallel-item:first-child::after {align-self: flex-end;width: 50%;}#sk-container-id-22 div.sk-parallel-item:last-child::after {align-self: flex-start;width: 50%;}#sk-container-id-22 div.sk-parallel-item:only-child::after {width: 0;}#sk-container-id-22 div.sk-dashed-wrapped {border: 1px dashed gray;margin: 0 0.4em 0.5em 0.4em;box-sizing: border-box;padding-bottom: 0.4em;background-color: white;}#sk-container-id-22 div.sk-label label {font-family: monospace;font-weight: bold;display: inline-block;line-height: 1.2em;}#sk-container-id-22 div.sk-label-container {text-align: center;}#sk-container-id-22 div.sk-container {/* jupyter's `normalize.less` sets `[hidden] { display: none; }` but bootstrap.min.css set `[hidden] { display: none !important; }` so we also need the `!important` here to be able to override the default hidden behavior on the sphinx rendered scikit-learn.org. See: https://github.com/scikit-learn/scikit-learn/issues/21755 */display: inline-block !important;position: relative;}#sk-container-id-22 div.sk-text-repr-fallback {display: none;}</style><div id=\"sk-container-id-22\" class=\"sk-top-container\"><div class=\"sk-text-repr-fallback\"><pre>LogisticRegression(class_weight={0: 1, 1: 2})</pre><b>In a Jupyter environment, please rerun this cell to show the HTML representation or trust the notebook. <br />On GitHub, the HTML representation is unable to render, please try loading this page with nbviewer.org.</b></div><div class=\"sk-container\" hidden><div class=\"sk-item\"><div class=\"sk-estimator sk-toggleable\"><input class=\"sk-toggleable__control sk-hidden--visually\" id=\"sk-estimator-id-42\" type=\"checkbox\" checked><label for=\"sk-estimator-id-42\" class=\"sk-toggleable__label sk-toggleable__label-arrow\">LogisticRegression</label><div class=\"sk-toggleable__content\"><pre>LogisticRegression(class_weight={0: 1, 1: 2})</pre></div></div></div></div></div>"
      ],
      "text/plain": [
       "LogisticRegression(class_weight={0: 1, 1: 2})"
      ]
     },
     "execution_count": 32,
     "metadata": {},
     "output_type": "execute_result"
    },
    {
     "data": {
      "text/html": [
       "<style>#sk-container-id-23 {color: black;}#sk-container-id-23 pre{padding: 0;}#sk-container-id-23 div.sk-toggleable {background-color: white;}#sk-container-id-23 label.sk-toggleable__label {cursor: pointer;display: block;width: 100%;margin-bottom: 0;padding: 0.3em;box-sizing: border-box;text-align: center;}#sk-container-id-23 label.sk-toggleable__label-arrow:before {content: \"▸\";float: left;margin-right: 0.25em;color: #696969;}#sk-container-id-23 label.sk-toggleable__label-arrow:hover:before {color: black;}#sk-container-id-23 div.sk-estimator:hover label.sk-toggleable__label-arrow:before {color: black;}#sk-container-id-23 div.sk-toggleable__content {max-height: 0;max-width: 0;overflow: hidden;text-align: left;background-color: #f0f8ff;}#sk-container-id-23 div.sk-toggleable__content pre {margin: 0.2em;color: black;border-radius: 0.25em;background-color: #f0f8ff;}#sk-container-id-23 input.sk-toggleable__control:checked~div.sk-toggleable__content {max-height: 200px;max-width: 100%;overflow: auto;}#sk-container-id-23 input.sk-toggleable__control:checked~label.sk-toggleable__label-arrow:before {content: \"▾\";}#sk-container-id-23 div.sk-estimator input.sk-toggleable__control:checked~label.sk-toggleable__label {background-color: #d4ebff;}#sk-container-id-23 div.sk-label input.sk-toggleable__control:checked~label.sk-toggleable__label {background-color: #d4ebff;}#sk-container-id-23 input.sk-hidden--visually {border: 0;clip: rect(1px 1px 1px 1px);clip: rect(1px, 1px, 1px, 1px);height: 1px;margin: -1px;overflow: hidden;padding: 0;position: absolute;width: 1px;}#sk-container-id-23 div.sk-estimator {font-family: monospace;background-color: #f0f8ff;border: 1px dotted black;border-radius: 0.25em;box-sizing: border-box;margin-bottom: 0.5em;}#sk-container-id-23 div.sk-estimator:hover {background-color: #d4ebff;}#sk-container-id-23 div.sk-parallel-item::after {content: \"\";width: 100%;border-bottom: 1px solid gray;flex-grow: 1;}#sk-container-id-23 div.sk-label:hover label.sk-toggleable__label {background-color: #d4ebff;}#sk-container-id-23 div.sk-serial::before {content: \"\";position: absolute;border-left: 1px solid gray;box-sizing: border-box;top: 0;bottom: 0;left: 50%;z-index: 0;}#sk-container-id-23 div.sk-serial {display: flex;flex-direction: column;align-items: center;background-color: white;padding-right: 0.2em;padding-left: 0.2em;position: relative;}#sk-container-id-23 div.sk-item {position: relative;z-index: 1;}#sk-container-id-23 div.sk-parallel {display: flex;align-items: stretch;justify-content: center;background-color: white;position: relative;}#sk-container-id-23 div.sk-item::before, #sk-container-id-23 div.sk-parallel-item::before {content: \"\";position: absolute;border-left: 1px solid gray;box-sizing: border-box;top: 0;bottom: 0;left: 50%;z-index: -1;}#sk-container-id-23 div.sk-parallel-item {display: flex;flex-direction: column;z-index: 1;position: relative;background-color: white;}#sk-container-id-23 div.sk-parallel-item:first-child::after {align-self: flex-end;width: 50%;}#sk-container-id-23 div.sk-parallel-item:last-child::after {align-self: flex-start;width: 50%;}#sk-container-id-23 div.sk-parallel-item:only-child::after {width: 0;}#sk-container-id-23 div.sk-dashed-wrapped {border: 1px dashed gray;margin: 0 0.4em 0.5em 0.4em;box-sizing: border-box;padding-bottom: 0.4em;background-color: white;}#sk-container-id-23 div.sk-label label {font-family: monospace;font-weight: bold;display: inline-block;line-height: 1.2em;}#sk-container-id-23 div.sk-label-container {text-align: center;}#sk-container-id-23 div.sk-container {/* jupyter's `normalize.less` sets `[hidden] { display: none; }` but bootstrap.min.css set `[hidden] { display: none !important; }` so we also need the `!important` here to be able to override the default hidden behavior on the sphinx rendered scikit-learn.org. See: https://github.com/scikit-learn/scikit-learn/issues/21755 */display: inline-block !important;position: relative;}#sk-container-id-23 div.sk-text-repr-fallback {display: none;}</style><div id=\"sk-container-id-23\" class=\"sk-top-container\"><div class=\"sk-text-repr-fallback\"><pre>RFE(estimator=LogisticRegression(class_weight={0: 1, 1: 2}),\n",
       "    n_features_to_select=20, verbose=1)</pre><b>In a Jupyter environment, please rerun this cell to show the HTML representation or trust the notebook. <br />On GitHub, the HTML representation is unable to render, please try loading this page with nbviewer.org.</b></div><div class=\"sk-container\" hidden><div class=\"sk-item sk-dashed-wrapped\"><div class=\"sk-label-container\"><div class=\"sk-label sk-toggleable\"><input class=\"sk-toggleable__control sk-hidden--visually\" id=\"sk-estimator-id-43\" type=\"checkbox\" ><label for=\"sk-estimator-id-43\" class=\"sk-toggleable__label sk-toggleable__label-arrow\">RFE</label><div class=\"sk-toggleable__content\"><pre>RFE(estimator=LogisticRegression(class_weight={0: 1, 1: 2}),\n",
       "    n_features_to_select=20, verbose=1)</pre></div></div></div><div class=\"sk-parallel\"><div class=\"sk-parallel-item\"><div class=\"sk-item\"><div class=\"sk-label-container\"><div class=\"sk-label sk-toggleable\"><input class=\"sk-toggleable__control sk-hidden--visually\" id=\"sk-estimator-id-44\" type=\"checkbox\" ><label for=\"sk-estimator-id-44\" class=\"sk-toggleable__label sk-toggleable__label-arrow\">estimator: LogisticRegression</label><div class=\"sk-toggleable__content\"><pre>LogisticRegression(class_weight={0: 1, 1: 2})</pre></div></div></div><div class=\"sk-serial\"><div class=\"sk-item\"><div class=\"sk-estimator sk-toggleable\"><input class=\"sk-toggleable__control sk-hidden--visually\" id=\"sk-estimator-id-45\" type=\"checkbox\" ><label for=\"sk-estimator-id-45\" class=\"sk-toggleable__label sk-toggleable__label-arrow\">LogisticRegression</label><div class=\"sk-toggleable__content\"><pre>LogisticRegression(class_weight={0: 1, 1: 2})</pre></div></div></div></div></div></div></div></div></div></div>"
      ],
      "text/plain": [
       "RFE(estimator=LogisticRegression(class_weight={0: 1, 1: 2}),\n",
       "    n_features_to_select=20, verbose=1)"
      ]
     },
     "execution_count": 32,
     "metadata": {},
     "output_type": "execute_result"
    },
    {
     "data": {
      "text/html": [
       "<style>#sk-container-id-24 {color: black;}#sk-container-id-24 pre{padding: 0;}#sk-container-id-24 div.sk-toggleable {background-color: white;}#sk-container-id-24 label.sk-toggleable__label {cursor: pointer;display: block;width: 100%;margin-bottom: 0;padding: 0.3em;box-sizing: border-box;text-align: center;}#sk-container-id-24 label.sk-toggleable__label-arrow:before {content: \"▸\";float: left;margin-right: 0.25em;color: #696969;}#sk-container-id-24 label.sk-toggleable__label-arrow:hover:before {color: black;}#sk-container-id-24 div.sk-estimator:hover label.sk-toggleable__label-arrow:before {color: black;}#sk-container-id-24 div.sk-toggleable__content {max-height: 0;max-width: 0;overflow: hidden;text-align: left;background-color: #f0f8ff;}#sk-container-id-24 div.sk-toggleable__content pre {margin: 0.2em;color: black;border-radius: 0.25em;background-color: #f0f8ff;}#sk-container-id-24 input.sk-toggleable__control:checked~div.sk-toggleable__content {max-height: 200px;max-width: 100%;overflow: auto;}#sk-container-id-24 input.sk-toggleable__control:checked~label.sk-toggleable__label-arrow:before {content: \"▾\";}#sk-container-id-24 div.sk-estimator input.sk-toggleable__control:checked~label.sk-toggleable__label {background-color: #d4ebff;}#sk-container-id-24 div.sk-label input.sk-toggleable__control:checked~label.sk-toggleable__label {background-color: #d4ebff;}#sk-container-id-24 input.sk-hidden--visually {border: 0;clip: rect(1px 1px 1px 1px);clip: rect(1px, 1px, 1px, 1px);height: 1px;margin: -1px;overflow: hidden;padding: 0;position: absolute;width: 1px;}#sk-container-id-24 div.sk-estimator {font-family: monospace;background-color: #f0f8ff;border: 1px dotted black;border-radius: 0.25em;box-sizing: border-box;margin-bottom: 0.5em;}#sk-container-id-24 div.sk-estimator:hover {background-color: #d4ebff;}#sk-container-id-24 div.sk-parallel-item::after {content: \"\";width: 100%;border-bottom: 1px solid gray;flex-grow: 1;}#sk-container-id-24 div.sk-label:hover label.sk-toggleable__label {background-color: #d4ebff;}#sk-container-id-24 div.sk-serial::before {content: \"\";position: absolute;border-left: 1px solid gray;box-sizing: border-box;top: 0;bottom: 0;left: 50%;z-index: 0;}#sk-container-id-24 div.sk-serial {display: flex;flex-direction: column;align-items: center;background-color: white;padding-right: 0.2em;padding-left: 0.2em;position: relative;}#sk-container-id-24 div.sk-item {position: relative;z-index: 1;}#sk-container-id-24 div.sk-parallel {display: flex;align-items: stretch;justify-content: center;background-color: white;position: relative;}#sk-container-id-24 div.sk-item::before, #sk-container-id-24 div.sk-parallel-item::before {content: \"\";position: absolute;border-left: 1px solid gray;box-sizing: border-box;top: 0;bottom: 0;left: 50%;z-index: -1;}#sk-container-id-24 div.sk-parallel-item {display: flex;flex-direction: column;z-index: 1;position: relative;background-color: white;}#sk-container-id-24 div.sk-parallel-item:first-child::after {align-self: flex-end;width: 50%;}#sk-container-id-24 div.sk-parallel-item:last-child::after {align-self: flex-start;width: 50%;}#sk-container-id-24 div.sk-parallel-item:only-child::after {width: 0;}#sk-container-id-24 div.sk-dashed-wrapped {border: 1px dashed gray;margin: 0 0.4em 0.5em 0.4em;box-sizing: border-box;padding-bottom: 0.4em;background-color: white;}#sk-container-id-24 div.sk-label label {font-family: monospace;font-weight: bold;display: inline-block;line-height: 1.2em;}#sk-container-id-24 div.sk-label-container {text-align: center;}#sk-container-id-24 div.sk-container {/* jupyter's `normalize.less` sets `[hidden] { display: none; }` but bootstrap.min.css set `[hidden] { display: none !important; }` so we also need the `!important` here to be able to override the default hidden behavior on the sphinx rendered scikit-learn.org. See: https://github.com/scikit-learn/scikit-learn/issues/21755 */display: inline-block !important;position: relative;}#sk-container-id-24 div.sk-text-repr-fallback {display: none;}</style><div id=\"sk-container-id-24\" class=\"sk-top-container\"><div class=\"sk-text-repr-fallback\"><pre>LogisticRegression(class_weight={0: 1, 1: 2})</pre><b>In a Jupyter environment, please rerun this cell to show the HTML representation or trust the notebook. <br />On GitHub, the HTML representation is unable to render, please try loading this page with nbviewer.org.</b></div><div class=\"sk-container\" hidden><div class=\"sk-item\"><div class=\"sk-estimator sk-toggleable\"><input class=\"sk-toggleable__control sk-hidden--visually\" id=\"sk-estimator-id-46\" type=\"checkbox\" checked><label for=\"sk-estimator-id-46\" class=\"sk-toggleable__label sk-toggleable__label-arrow\">LogisticRegression</label><div class=\"sk-toggleable__content\"><pre>LogisticRegression(class_weight={0: 1, 1: 2})</pre></div></div></div></div></div>"
      ],
      "text/plain": [
       "LogisticRegression(class_weight={0: 1, 1: 2})"
      ]
     },
     "execution_count": 32,
     "metadata": {},
     "output_type": "execute_result"
    },
    {
     "name": "stdout",
     "output_type": "stream",
     "text": [
      "Number of Features: 10, Accuracy: 0.7944636458762723, Precision: 0.06007951700780445, Recall: 0.8047337278106509\n",
      "Number of Features: 11, Accuracy: 0.7965564257855852, Precision: 0.059752644911339595, Recall: 0.7909270216962525\n",
      "Number of Features: 12, Accuracy: 0.8123791102514507, Precision: 0.06581059390048154, Recall: 0.8086785009861933\n",
      "Number of Features: 13, Accuracy: 0.8234771855281099, Precision: 0.07074991516796743, Recall: 0.8224852071005917\n",
      "Number of Features: 14, Accuracy: 0.8303262834131337, Precision: 0.07344135258893977, Recall: 0.8224852071005917\n",
      "Number of Features: 15, Accuracy: 0.8297872340425532, Precision: 0.07307219392236079, Recall: 0.8205128205128205\n",
      "Number of Features: 16, Accuracy: 0.8300409043345911, Precision: 0.07332512748373483, Recall: 0.8224852071005917\n",
      "Number of Features: 17, Accuracy: 0.8297555252560485, Precision: 0.07335907335907337, Recall: 0.8244575936883629\n",
      "Number of Features: 18, Accuracy: 0.8298823604020674, Precision: 0.073410607657183, Recall: 0.8244575936883629\n",
      "Number of Features: 19, Accuracy: 0.8298506516155627, Precision: 0.07294779398839867, Recall: 0.8185404339250493\n",
      "Number of Features: 20, Accuracy: 0.8298506516155627, Precision: 0.07294779398839867, Recall: 0.8185404339250493\n"
     ]
    }
   ],
   "source": [
    "# Filtering out DataConversionWarning\n",
    "warnings.filterwarnings(\"ignore\", category=DataConversionWarning)\n",
    "\n",
    "accuracy = {}  # Dictionary to store best accuracies\n",
    "precision = {} # Dictionary to store best precision\n",
    "recall={} # Dictionary to store best recalls\n",
    "\n",
    "# Iterating over different numbers of selected features\n",
    "for num_features in range(10, 21):  # Considering up to 10 features\n",
    "    \n",
    "    selector = RFE(log_model, n_features_to_select=num_features, step=1, verbose=1)\n",
    "    selector.fit(X_train_pt, y_train_sm)\n",
    "    \n",
    "    weights = {0: 1, 1: 2}\n",
    "    log_model = LogisticRegression(class_weight=weights)\n",
    "    \n",
    "    # Transforming the data\n",
    "    X_train_RFE = selector.transform(X_train_pt)\n",
    "    X_test_RFE = selector.transform(X_test_pt)\n",
    "    \n",
    "    # Fitting the model\n",
    "    log_model.fit(X_train_RFE, y_train_sm)\n",
    "    \n",
    "    # Predicting and calculating R2 score\n",
    "    y_pred_test= log_model.predict(X_test_RFE)\n",
    "    acc=accuracy_score(y_test, y_pred_test)\n",
    "    rec=recall_score(y_test, y_pred_test)\n",
    "    prec=precision_score(y_test, y_pred_test)\n",
    "    \n",
    "    # Storing the best R2 score for each number of selected features\n",
    "    accuracy[num_features] = acc\n",
    "    precision[num_features]=prec\n",
    "    recall[num_features]=rec\n",
    "\n",
    "# Printing the best R2 score for each number of selected features\n",
    "for num_features, acc in accuracy.items():\n",
    "    prec = precision[num_features]\n",
    "    rec = recall[num_features]\n",
    "    print(f\"Number of Features: {num_features}, Accuracy: {acc}, Precision: {prec}, Recall: {rec}\")"
   ]
  },
  {
   "cell_type": "markdown",
   "id": "b97b3edc-591e-4ee0-93ce-f42487bf220d",
   "metadata": {},
   "source": [
    "### best decision according to RFE is keeping all 20 features\n",
    "##### Accuracy: 0.750642102926721, Precision: 0.05739381542533991, Recall: 0.9408284023668639"
   ]
  },
  {
   "cell_type": "markdown",
   "id": "7aff3a34-5453-4c70-8096-8e2d08da2397",
   "metadata": {},
   "source": [
    "## LASSO, RIDGE, ELASTICNET"
   ]
  },
  {
   "cell_type": "markdown",
   "id": "ebfdaba2",
   "metadata": {},
   "source": [
    "- LASSO"
   ]
  },
  {
   "cell_type": "code",
   "execution_count": 33,
   "id": "2accb00c-8cd1-44df-a03b-da6bb79282b7",
   "metadata": {
    "scrolled": true,
    "tags": []
   },
   "outputs": [
    {
     "data": {
      "text/html": [
       "<style>#sk-container-id-25 {color: black;}#sk-container-id-25 pre{padding: 0;}#sk-container-id-25 div.sk-toggleable {background-color: white;}#sk-container-id-25 label.sk-toggleable__label {cursor: pointer;display: block;width: 100%;margin-bottom: 0;padding: 0.3em;box-sizing: border-box;text-align: center;}#sk-container-id-25 label.sk-toggleable__label-arrow:before {content: \"▸\";float: left;margin-right: 0.25em;color: #696969;}#sk-container-id-25 label.sk-toggleable__label-arrow:hover:before {color: black;}#sk-container-id-25 div.sk-estimator:hover label.sk-toggleable__label-arrow:before {color: black;}#sk-container-id-25 div.sk-toggleable__content {max-height: 0;max-width: 0;overflow: hidden;text-align: left;background-color: #f0f8ff;}#sk-container-id-25 div.sk-toggleable__content pre {margin: 0.2em;color: black;border-radius: 0.25em;background-color: #f0f8ff;}#sk-container-id-25 input.sk-toggleable__control:checked~div.sk-toggleable__content {max-height: 200px;max-width: 100%;overflow: auto;}#sk-container-id-25 input.sk-toggleable__control:checked~label.sk-toggleable__label-arrow:before {content: \"▾\";}#sk-container-id-25 div.sk-estimator input.sk-toggleable__control:checked~label.sk-toggleable__label {background-color: #d4ebff;}#sk-container-id-25 div.sk-label input.sk-toggleable__control:checked~label.sk-toggleable__label {background-color: #d4ebff;}#sk-container-id-25 input.sk-hidden--visually {border: 0;clip: rect(1px 1px 1px 1px);clip: rect(1px, 1px, 1px, 1px);height: 1px;margin: -1px;overflow: hidden;padding: 0;position: absolute;width: 1px;}#sk-container-id-25 div.sk-estimator {font-family: monospace;background-color: #f0f8ff;border: 1px dotted black;border-radius: 0.25em;box-sizing: border-box;margin-bottom: 0.5em;}#sk-container-id-25 div.sk-estimator:hover {background-color: #d4ebff;}#sk-container-id-25 div.sk-parallel-item::after {content: \"\";width: 100%;border-bottom: 1px solid gray;flex-grow: 1;}#sk-container-id-25 div.sk-label:hover label.sk-toggleable__label {background-color: #d4ebff;}#sk-container-id-25 div.sk-serial::before {content: \"\";position: absolute;border-left: 1px solid gray;box-sizing: border-box;top: 0;bottom: 0;left: 50%;z-index: 0;}#sk-container-id-25 div.sk-serial {display: flex;flex-direction: column;align-items: center;background-color: white;padding-right: 0.2em;padding-left: 0.2em;position: relative;}#sk-container-id-25 div.sk-item {position: relative;z-index: 1;}#sk-container-id-25 div.sk-parallel {display: flex;align-items: stretch;justify-content: center;background-color: white;position: relative;}#sk-container-id-25 div.sk-item::before, #sk-container-id-25 div.sk-parallel-item::before {content: \"\";position: absolute;border-left: 1px solid gray;box-sizing: border-box;top: 0;bottom: 0;left: 50%;z-index: -1;}#sk-container-id-25 div.sk-parallel-item {display: flex;flex-direction: column;z-index: 1;position: relative;background-color: white;}#sk-container-id-25 div.sk-parallel-item:first-child::after {align-self: flex-end;width: 50%;}#sk-container-id-25 div.sk-parallel-item:last-child::after {align-self: flex-start;width: 50%;}#sk-container-id-25 div.sk-parallel-item:only-child::after {width: 0;}#sk-container-id-25 div.sk-dashed-wrapped {border: 1px dashed gray;margin: 0 0.4em 0.5em 0.4em;box-sizing: border-box;padding-bottom: 0.4em;background-color: white;}#sk-container-id-25 div.sk-label label {font-family: monospace;font-weight: bold;display: inline-block;line-height: 1.2em;}#sk-container-id-25 div.sk-label-container {text-align: center;}#sk-container-id-25 div.sk-container {/* jupyter's `normalize.less` sets `[hidden] { display: none; }` but bootstrap.min.css set `[hidden] { display: none !important; }` so we also need the `!important` here to be able to override the default hidden behavior on the sphinx rendered scikit-learn.org. See: https://github.com/scikit-learn/scikit-learn/issues/21755 */display: inline-block !important;position: relative;}#sk-container-id-25 div.sk-text-repr-fallback {display: none;}</style><div id=\"sk-container-id-25\" class=\"sk-top-container\"><div class=\"sk-text-repr-fallback\"><pre>LogisticRegression(class_weight={0: 1, 1: 2}, penalty=&#x27;l1&#x27;, solver=&#x27;liblinear&#x27;)</pre><b>In a Jupyter environment, please rerun this cell to show the HTML representation or trust the notebook. <br />On GitHub, the HTML representation is unable to render, please try loading this page with nbviewer.org.</b></div><div class=\"sk-container\" hidden><div class=\"sk-item\"><div class=\"sk-estimator sk-toggleable\"><input class=\"sk-toggleable__control sk-hidden--visually\" id=\"sk-estimator-id-47\" type=\"checkbox\" checked><label for=\"sk-estimator-id-47\" class=\"sk-toggleable__label sk-toggleable__label-arrow\">LogisticRegression</label><div class=\"sk-toggleable__content\"><pre>LogisticRegression(class_weight={0: 1, 1: 2}, penalty=&#x27;l1&#x27;, solver=&#x27;liblinear&#x27;)</pre></div></div></div></div></div>"
      ],
      "text/plain": [
       "LogisticRegression(class_weight={0: 1, 1: 2}, penalty='l1', solver='liblinear')"
      ]
     },
     "execution_count": 33,
     "metadata": {},
     "output_type": "execute_result"
    },
    {
     "name": "stdout",
     "output_type": "stream",
     "text": [
      "Accuracy: 0.8299774867615817\n",
      "Precision: 0.07269846857947544\n",
      "Recall: 0.814595660749507\n"
     ]
    }
   ],
   "source": [
    "\n",
    "# Initializing Logistic Regression model with Lasso regularization\n",
    "log_model_lasso = LogisticRegression(penalty='l1', solver='liblinear', class_weight=weights)\n",
    "\n",
    "# Fitting the model to your data\n",
    "log_model_lasso.fit(X_train_pt, y_train_sm)\n",
    "\n",
    "# Predicting on the test set\n",
    "y_pred_lasso = log_model_lasso.predict(X_test_pt)\n",
    "\n",
    "# Evaluating the model\n",
    "accuracy = accuracy_score(y_test, y_pred_lasso)\n",
    "precision = precision_score(y_test, y_pred_lasso)\n",
    "recall = recall_score(y_test, y_pred_lasso)\n",
    "\n",
    "# Printing evaluation metrics\n",
    "print(\"Accuracy:\", accuracy)\n",
    "print(\"Precision:\", precision)\n",
    "print(\"Recall:\", recall)"
   ]
  },
  {
   "cell_type": "markdown",
   "id": "f3a32253",
   "metadata": {},
   "source": [
    "- RIDGE"
   ]
  },
  {
   "cell_type": "code",
   "execution_count": 34,
   "id": "c4eb1cd7-2216-45ba-b076-863ae6839c40",
   "metadata": {
    "tags": []
   },
   "outputs": [
    {
     "data": {
      "text/html": [
       "<style>#sk-container-id-26 {color: black;}#sk-container-id-26 pre{padding: 0;}#sk-container-id-26 div.sk-toggleable {background-color: white;}#sk-container-id-26 label.sk-toggleable__label {cursor: pointer;display: block;width: 100%;margin-bottom: 0;padding: 0.3em;box-sizing: border-box;text-align: center;}#sk-container-id-26 label.sk-toggleable__label-arrow:before {content: \"▸\";float: left;margin-right: 0.25em;color: #696969;}#sk-container-id-26 label.sk-toggleable__label-arrow:hover:before {color: black;}#sk-container-id-26 div.sk-estimator:hover label.sk-toggleable__label-arrow:before {color: black;}#sk-container-id-26 div.sk-toggleable__content {max-height: 0;max-width: 0;overflow: hidden;text-align: left;background-color: #f0f8ff;}#sk-container-id-26 div.sk-toggleable__content pre {margin: 0.2em;color: black;border-radius: 0.25em;background-color: #f0f8ff;}#sk-container-id-26 input.sk-toggleable__control:checked~div.sk-toggleable__content {max-height: 200px;max-width: 100%;overflow: auto;}#sk-container-id-26 input.sk-toggleable__control:checked~label.sk-toggleable__label-arrow:before {content: \"▾\";}#sk-container-id-26 div.sk-estimator input.sk-toggleable__control:checked~label.sk-toggleable__label {background-color: #d4ebff;}#sk-container-id-26 div.sk-label input.sk-toggleable__control:checked~label.sk-toggleable__label {background-color: #d4ebff;}#sk-container-id-26 input.sk-hidden--visually {border: 0;clip: rect(1px 1px 1px 1px);clip: rect(1px, 1px, 1px, 1px);height: 1px;margin: -1px;overflow: hidden;padding: 0;position: absolute;width: 1px;}#sk-container-id-26 div.sk-estimator {font-family: monospace;background-color: #f0f8ff;border: 1px dotted black;border-radius: 0.25em;box-sizing: border-box;margin-bottom: 0.5em;}#sk-container-id-26 div.sk-estimator:hover {background-color: #d4ebff;}#sk-container-id-26 div.sk-parallel-item::after {content: \"\";width: 100%;border-bottom: 1px solid gray;flex-grow: 1;}#sk-container-id-26 div.sk-label:hover label.sk-toggleable__label {background-color: #d4ebff;}#sk-container-id-26 div.sk-serial::before {content: \"\";position: absolute;border-left: 1px solid gray;box-sizing: border-box;top: 0;bottom: 0;left: 50%;z-index: 0;}#sk-container-id-26 div.sk-serial {display: flex;flex-direction: column;align-items: center;background-color: white;padding-right: 0.2em;padding-left: 0.2em;position: relative;}#sk-container-id-26 div.sk-item {position: relative;z-index: 1;}#sk-container-id-26 div.sk-parallel {display: flex;align-items: stretch;justify-content: center;background-color: white;position: relative;}#sk-container-id-26 div.sk-item::before, #sk-container-id-26 div.sk-parallel-item::before {content: \"\";position: absolute;border-left: 1px solid gray;box-sizing: border-box;top: 0;bottom: 0;left: 50%;z-index: -1;}#sk-container-id-26 div.sk-parallel-item {display: flex;flex-direction: column;z-index: 1;position: relative;background-color: white;}#sk-container-id-26 div.sk-parallel-item:first-child::after {align-self: flex-end;width: 50%;}#sk-container-id-26 div.sk-parallel-item:last-child::after {align-self: flex-start;width: 50%;}#sk-container-id-26 div.sk-parallel-item:only-child::after {width: 0;}#sk-container-id-26 div.sk-dashed-wrapped {border: 1px dashed gray;margin: 0 0.4em 0.5em 0.4em;box-sizing: border-box;padding-bottom: 0.4em;background-color: white;}#sk-container-id-26 div.sk-label label {font-family: monospace;font-weight: bold;display: inline-block;line-height: 1.2em;}#sk-container-id-26 div.sk-label-container {text-align: center;}#sk-container-id-26 div.sk-container {/* jupyter's `normalize.less` sets `[hidden] { display: none; }` but bootstrap.min.css set `[hidden] { display: none !important; }` so we also need the `!important` here to be able to override the default hidden behavior on the sphinx rendered scikit-learn.org. See: https://github.com/scikit-learn/scikit-learn/issues/21755 */display: inline-block !important;position: relative;}#sk-container-id-26 div.sk-text-repr-fallback {display: none;}</style><div id=\"sk-container-id-26\" class=\"sk-top-container\"><div class=\"sk-text-repr-fallback\"><pre>LogisticRegression(class_weight={0: 1, 1: 2}, solver=&#x27;liblinear&#x27;)</pre><b>In a Jupyter environment, please rerun this cell to show the HTML representation or trust the notebook. <br />On GitHub, the HTML representation is unable to render, please try loading this page with nbviewer.org.</b></div><div class=\"sk-container\" hidden><div class=\"sk-item\"><div class=\"sk-estimator sk-toggleable\"><input class=\"sk-toggleable__control sk-hidden--visually\" id=\"sk-estimator-id-48\" type=\"checkbox\" checked><label for=\"sk-estimator-id-48\" class=\"sk-toggleable__label sk-toggleable__label-arrow\">LogisticRegression</label><div class=\"sk-toggleable__content\"><pre>LogisticRegression(class_weight={0: 1, 1: 2}, solver=&#x27;liblinear&#x27;)</pre></div></div></div></div></div>"
      ],
      "text/plain": [
       "LogisticRegression(class_weight={0: 1, 1: 2}, solver='liblinear')"
      ]
     },
     "execution_count": 34,
     "metadata": {},
     "output_type": "execute_result"
    },
    {
     "name": "stdout",
     "output_type": "stream",
     "text": [
      "Accuracy: 0.8296286901100295\n",
      "Precision: 0.07300807300807301\n",
      "Recall: 0.8205128205128205\n"
     ]
    }
   ],
   "source": [
    "\n",
    "# Initializing Logistic Regression model with Lasso regularization\n",
    "log_model_ridge = LogisticRegression(penalty='l2', solver='liblinear', class_weight=weights)\n",
    "\n",
    "# Fitting the model to your data\n",
    "log_model_ridge.fit(X_train_pt, y_train_sm)\n",
    "\n",
    "# Predicting on the test set\n",
    "y_pred_ridge = log_model_ridge.predict(X_test_pt)\n",
    "\n",
    "# Evaluating the model\n",
    "accuracy = accuracy_score(y_test, y_pred_ridge)\n",
    "precision = precision_score(y_test, y_pred_ridge)\n",
    "recall = recall_score(y_test, y_pred_ridge)\n",
    "\n",
    "# Printing evaluation metrics\n",
    "print(\"Accuracy:\", accuracy)\n",
    "print(\"Precision:\", precision)\n",
    "print(\"Recall:\", recall)"
   ]
  },
  {
   "cell_type": "markdown",
   "id": "e54e72e7",
   "metadata": {},
   "source": [
    "- ELASTICNET"
   ]
  },
  {
   "cell_type": "code",
   "execution_count": 35,
   "id": "0ae95a25-15e9-4979-a0d9-66d156529117",
   "metadata": {
    "scrolled": true,
    "tags": []
   },
   "outputs": [
    {
     "data": {
      "text/html": [
       "<style>#sk-container-id-27 {color: black;}#sk-container-id-27 pre{padding: 0;}#sk-container-id-27 div.sk-toggleable {background-color: white;}#sk-container-id-27 label.sk-toggleable__label {cursor: pointer;display: block;width: 100%;margin-bottom: 0;padding: 0.3em;box-sizing: border-box;text-align: center;}#sk-container-id-27 label.sk-toggleable__label-arrow:before {content: \"▸\";float: left;margin-right: 0.25em;color: #696969;}#sk-container-id-27 label.sk-toggleable__label-arrow:hover:before {color: black;}#sk-container-id-27 div.sk-estimator:hover label.sk-toggleable__label-arrow:before {color: black;}#sk-container-id-27 div.sk-toggleable__content {max-height: 0;max-width: 0;overflow: hidden;text-align: left;background-color: #f0f8ff;}#sk-container-id-27 div.sk-toggleable__content pre {margin: 0.2em;color: black;border-radius: 0.25em;background-color: #f0f8ff;}#sk-container-id-27 input.sk-toggleable__control:checked~div.sk-toggleable__content {max-height: 200px;max-width: 100%;overflow: auto;}#sk-container-id-27 input.sk-toggleable__control:checked~label.sk-toggleable__label-arrow:before {content: \"▾\";}#sk-container-id-27 div.sk-estimator input.sk-toggleable__control:checked~label.sk-toggleable__label {background-color: #d4ebff;}#sk-container-id-27 div.sk-label input.sk-toggleable__control:checked~label.sk-toggleable__label {background-color: #d4ebff;}#sk-container-id-27 input.sk-hidden--visually {border: 0;clip: rect(1px 1px 1px 1px);clip: rect(1px, 1px, 1px, 1px);height: 1px;margin: -1px;overflow: hidden;padding: 0;position: absolute;width: 1px;}#sk-container-id-27 div.sk-estimator {font-family: monospace;background-color: #f0f8ff;border: 1px dotted black;border-radius: 0.25em;box-sizing: border-box;margin-bottom: 0.5em;}#sk-container-id-27 div.sk-estimator:hover {background-color: #d4ebff;}#sk-container-id-27 div.sk-parallel-item::after {content: \"\";width: 100%;border-bottom: 1px solid gray;flex-grow: 1;}#sk-container-id-27 div.sk-label:hover label.sk-toggleable__label {background-color: #d4ebff;}#sk-container-id-27 div.sk-serial::before {content: \"\";position: absolute;border-left: 1px solid gray;box-sizing: border-box;top: 0;bottom: 0;left: 50%;z-index: 0;}#sk-container-id-27 div.sk-serial {display: flex;flex-direction: column;align-items: center;background-color: white;padding-right: 0.2em;padding-left: 0.2em;position: relative;}#sk-container-id-27 div.sk-item {position: relative;z-index: 1;}#sk-container-id-27 div.sk-parallel {display: flex;align-items: stretch;justify-content: center;background-color: white;position: relative;}#sk-container-id-27 div.sk-item::before, #sk-container-id-27 div.sk-parallel-item::before {content: \"\";position: absolute;border-left: 1px solid gray;box-sizing: border-box;top: 0;bottom: 0;left: 50%;z-index: -1;}#sk-container-id-27 div.sk-parallel-item {display: flex;flex-direction: column;z-index: 1;position: relative;background-color: white;}#sk-container-id-27 div.sk-parallel-item:first-child::after {align-self: flex-end;width: 50%;}#sk-container-id-27 div.sk-parallel-item:last-child::after {align-self: flex-start;width: 50%;}#sk-container-id-27 div.sk-parallel-item:only-child::after {width: 0;}#sk-container-id-27 div.sk-dashed-wrapped {border: 1px dashed gray;margin: 0 0.4em 0.5em 0.4em;box-sizing: border-box;padding-bottom: 0.4em;background-color: white;}#sk-container-id-27 div.sk-label label {font-family: monospace;font-weight: bold;display: inline-block;line-height: 1.2em;}#sk-container-id-27 div.sk-label-container {text-align: center;}#sk-container-id-27 div.sk-container {/* jupyter's `normalize.less` sets `[hidden] { display: none; }` but bootstrap.min.css set `[hidden] { display: none !important; }` so we also need the `!important` here to be able to override the default hidden behavior on the sphinx rendered scikit-learn.org. See: https://github.com/scikit-learn/scikit-learn/issues/21755 */display: inline-block !important;position: relative;}#sk-container-id-27 div.sk-text-repr-fallback {display: none;}</style><div id=\"sk-container-id-27\" class=\"sk-top-container\"><div class=\"sk-text-repr-fallback\"><pre>LogisticRegression(class_weight={0: 1, 1: 2}, l1_ratio=0.5,\n",
       "                   penalty=&#x27;elasticnet&#x27;, solver=&#x27;saga&#x27;)</pre><b>In a Jupyter environment, please rerun this cell to show the HTML representation or trust the notebook. <br />On GitHub, the HTML representation is unable to render, please try loading this page with nbviewer.org.</b></div><div class=\"sk-container\" hidden><div class=\"sk-item\"><div class=\"sk-estimator sk-toggleable\"><input class=\"sk-toggleable__control sk-hidden--visually\" id=\"sk-estimator-id-49\" type=\"checkbox\" checked><label for=\"sk-estimator-id-49\" class=\"sk-toggleable__label sk-toggleable__label-arrow\">LogisticRegression</label><div class=\"sk-toggleable__content\"><pre>LogisticRegression(class_weight={0: 1, 1: 2}, l1_ratio=0.5,\n",
       "                   penalty=&#x27;elasticnet&#x27;, solver=&#x27;saga&#x27;)</pre></div></div></div></div></div>"
      ],
      "text/plain": [
       "LogisticRegression(class_weight={0: 1, 1: 2}, l1_ratio=0.5,\n",
       "                   penalty='elasticnet', solver='saga')"
      ]
     },
     "execution_count": 35,
     "metadata": {},
     "output_type": "execute_result"
    },
    {
     "name": "stdout",
     "output_type": "stream",
     "text": [
      "Accuracy: 0.8298506516155627\n",
      "Precision: 0.07279760858097416\n",
      "Recall: 0.8165680473372781\n"
     ]
    }
   ],
   "source": [
    "\n",
    "# Initializing Logistic Regression model with Lasso regularization\n",
    "log_model_elasticnet = LogisticRegression(penalty='elasticnet', solver='saga',l1_ratio=0.5, class_weight=weights)\n",
    "\n",
    "# Fitting the model to your data\n",
    "log_model_elasticnet.fit(X_train_pt, y_train_sm)\n",
    "\n",
    "# Predicting on the test set\n",
    "y_pred_elasticnet = log_model_elasticnet.predict(X_test_pt)\n",
    "\n",
    "# Evaluating the model\n",
    "accuracy = accuracy_score(y_test, y_pred_elasticnet)\n",
    "precision = precision_score(y_test, y_pred_elasticnet)\n",
    "recall = recall_score(y_test, y_pred_elasticnet)\n",
    "\n",
    "# Printing evaluation metrics\n",
    "print(\"Accuracy:\", accuracy)\n",
    "print(\"Precision:\", precision)\n",
    "print(\"Recall:\", recall)"
   ]
  },
  {
   "cell_type": "markdown",
   "id": "3fe8f532",
   "metadata": {},
   "source": [
    "## Fit a KNN Classifier model "
   ]
  },
  {
   "cell_type": "code",
   "execution_count": 36,
   "id": "74c76e35",
   "metadata": {},
   "outputs": [],
   "source": [
    "# Instantiating KNN Classifier model\n",
    "\n",
    "model = KNeighborsClassifier()"
   ]
  },
  {
   "cell_type": "markdown",
   "id": "080b2c74",
   "metadata": {},
   "source": [
    "### Optimizing the Weighting Scheme for K-Nearest Neighbors (KNN)"
   ]
  },
  {
   "cell_type": "code",
   "execution_count": 37,
   "id": "e1144199",
   "metadata": {},
   "outputs": [],
   "source": [
    "# Defining a custom weight function\n",
    "\n",
    "def custom_weight_function(distances):\n",
    "    \n",
    "    #Giving more weight to class 1\n",
    "    \n",
    "    weights = np.where(distances == 0, 5, 0.5)\n",
    "    return weights"
   ]
  },
  {
   "cell_type": "markdown",
   "id": "9c190924",
   "metadata": {},
   "source": [
    "### Implementing Grid Searching for Number of Neighbors Optimization in KNN"
   ]
  },
  {
   "cell_type": "code",
   "execution_count": 38,
   "id": "855bbd00",
   "metadata": {},
   "outputs": [
    {
     "data": {
      "text/html": [
       "<style>#sk-container-id-28 {color: black;}#sk-container-id-28 pre{padding: 0;}#sk-container-id-28 div.sk-toggleable {background-color: white;}#sk-container-id-28 label.sk-toggleable__label {cursor: pointer;display: block;width: 100%;margin-bottom: 0;padding: 0.3em;box-sizing: border-box;text-align: center;}#sk-container-id-28 label.sk-toggleable__label-arrow:before {content: \"▸\";float: left;margin-right: 0.25em;color: #696969;}#sk-container-id-28 label.sk-toggleable__label-arrow:hover:before {color: black;}#sk-container-id-28 div.sk-estimator:hover label.sk-toggleable__label-arrow:before {color: black;}#sk-container-id-28 div.sk-toggleable__content {max-height: 0;max-width: 0;overflow: hidden;text-align: left;background-color: #f0f8ff;}#sk-container-id-28 div.sk-toggleable__content pre {margin: 0.2em;color: black;border-radius: 0.25em;background-color: #f0f8ff;}#sk-container-id-28 input.sk-toggleable__control:checked~div.sk-toggleable__content {max-height: 200px;max-width: 100%;overflow: auto;}#sk-container-id-28 input.sk-toggleable__control:checked~label.sk-toggleable__label-arrow:before {content: \"▾\";}#sk-container-id-28 div.sk-estimator input.sk-toggleable__control:checked~label.sk-toggleable__label {background-color: #d4ebff;}#sk-container-id-28 div.sk-label input.sk-toggleable__control:checked~label.sk-toggleable__label {background-color: #d4ebff;}#sk-container-id-28 input.sk-hidden--visually {border: 0;clip: rect(1px 1px 1px 1px);clip: rect(1px, 1px, 1px, 1px);height: 1px;margin: -1px;overflow: hidden;padding: 0;position: absolute;width: 1px;}#sk-container-id-28 div.sk-estimator {font-family: monospace;background-color: #f0f8ff;border: 1px dotted black;border-radius: 0.25em;box-sizing: border-box;margin-bottom: 0.5em;}#sk-container-id-28 div.sk-estimator:hover {background-color: #d4ebff;}#sk-container-id-28 div.sk-parallel-item::after {content: \"\";width: 100%;border-bottom: 1px solid gray;flex-grow: 1;}#sk-container-id-28 div.sk-label:hover label.sk-toggleable__label {background-color: #d4ebff;}#sk-container-id-28 div.sk-serial::before {content: \"\";position: absolute;border-left: 1px solid gray;box-sizing: border-box;top: 0;bottom: 0;left: 50%;z-index: 0;}#sk-container-id-28 div.sk-serial {display: flex;flex-direction: column;align-items: center;background-color: white;padding-right: 0.2em;padding-left: 0.2em;position: relative;}#sk-container-id-28 div.sk-item {position: relative;z-index: 1;}#sk-container-id-28 div.sk-parallel {display: flex;align-items: stretch;justify-content: center;background-color: white;position: relative;}#sk-container-id-28 div.sk-item::before, #sk-container-id-28 div.sk-parallel-item::before {content: \"\";position: absolute;border-left: 1px solid gray;box-sizing: border-box;top: 0;bottom: 0;left: 50%;z-index: -1;}#sk-container-id-28 div.sk-parallel-item {display: flex;flex-direction: column;z-index: 1;position: relative;background-color: white;}#sk-container-id-28 div.sk-parallel-item:first-child::after {align-self: flex-end;width: 50%;}#sk-container-id-28 div.sk-parallel-item:last-child::after {align-self: flex-start;width: 50%;}#sk-container-id-28 div.sk-parallel-item:only-child::after {width: 0;}#sk-container-id-28 div.sk-dashed-wrapped {border: 1px dashed gray;margin: 0 0.4em 0.5em 0.4em;box-sizing: border-box;padding-bottom: 0.4em;background-color: white;}#sk-container-id-28 div.sk-label label {font-family: monospace;font-weight: bold;display: inline-block;line-height: 1.2em;}#sk-container-id-28 div.sk-label-container {text-align: center;}#sk-container-id-28 div.sk-container {/* jupyter's `normalize.less` sets `[hidden] { display: none; }` but bootstrap.min.css set `[hidden] { display: none !important; }` so we also need the `!important` here to be able to override the default hidden behavior on the sphinx rendered scikit-learn.org. See: https://github.com/scikit-learn/scikit-learn/issues/21755 */display: inline-block !important;position: relative;}#sk-container-id-28 div.sk-text-repr-fallback {display: none;}</style><div id=\"sk-container-id-28\" class=\"sk-top-container\"><div class=\"sk-text-repr-fallback\"><pre>GridSearchCV(cv=5, estimator=KNeighborsClassifier(),\n",
       "             param_grid={&#x27;n_neighbors&#x27;: [2, 3, 4, 5, 6, 7, 8, 9, 10, 11, 12, 13,\n",
       "                                         14, 15, 16, 17, 18, 19, 20],\n",
       "                         &#x27;weights&#x27;: [&lt;function custom_weight_function at 0x00000143A32DACA0&gt;,\n",
       "                                     &#x27;uniform&#x27;, &#x27;distance&#x27;]},\n",
       "             scoring=&#x27;recall&#x27;)</pre><b>In a Jupyter environment, please rerun this cell to show the HTML representation or trust the notebook. <br />On GitHub, the HTML representation is unable to render, please try loading this page with nbviewer.org.</b></div><div class=\"sk-container\" hidden><div class=\"sk-item sk-dashed-wrapped\"><div class=\"sk-label-container\"><div class=\"sk-label sk-toggleable\"><input class=\"sk-toggleable__control sk-hidden--visually\" id=\"sk-estimator-id-50\" type=\"checkbox\" ><label for=\"sk-estimator-id-50\" class=\"sk-toggleable__label sk-toggleable__label-arrow\">GridSearchCV</label><div class=\"sk-toggleable__content\"><pre>GridSearchCV(cv=5, estimator=KNeighborsClassifier(),\n",
       "             param_grid={&#x27;n_neighbors&#x27;: [2, 3, 4, 5, 6, 7, 8, 9, 10, 11, 12, 13,\n",
       "                                         14, 15, 16, 17, 18, 19, 20],\n",
       "                         &#x27;weights&#x27;: [&lt;function custom_weight_function at 0x00000143A32DACA0&gt;,\n",
       "                                     &#x27;uniform&#x27;, &#x27;distance&#x27;]},\n",
       "             scoring=&#x27;recall&#x27;)</pre></div></div></div><div class=\"sk-parallel\"><div class=\"sk-parallel-item\"><div class=\"sk-item\"><div class=\"sk-label-container\"><div class=\"sk-label sk-toggleable\"><input class=\"sk-toggleable__control sk-hidden--visually\" id=\"sk-estimator-id-51\" type=\"checkbox\" ><label for=\"sk-estimator-id-51\" class=\"sk-toggleable__label sk-toggleable__label-arrow\">estimator: KNeighborsClassifier</label><div class=\"sk-toggleable__content\"><pre>KNeighborsClassifier()</pre></div></div></div><div class=\"sk-serial\"><div class=\"sk-item\"><div class=\"sk-estimator sk-toggleable\"><input class=\"sk-toggleable__control sk-hidden--visually\" id=\"sk-estimator-id-52\" type=\"checkbox\" ><label for=\"sk-estimator-id-52\" class=\"sk-toggleable__label sk-toggleable__label-arrow\">KNeighborsClassifier</label><div class=\"sk-toggleable__content\"><pre>KNeighborsClassifier()</pre></div></div></div></div></div></div></div></div></div></div>"
      ],
      "text/plain": [
       "GridSearchCV(cv=5, estimator=KNeighborsClassifier(),\n",
       "             param_grid={'n_neighbors': [2, 3, 4, 5, 6, 7, 8, 9, 10, 11, 12, 13,\n",
       "                                         14, 15, 16, 17, 18, 19, 20],\n",
       "                         'weights': [<function custom_weight_function at 0x00000143A32DACA0>,\n",
       "                                     'uniform', 'distance']},\n",
       "             scoring='recall')"
      ]
     },
     "execution_count": 38,
     "metadata": {},
     "output_type": "execute_result"
    },
    {
     "name": "stdout",
     "output_type": "stream",
     "text": [
      "Best parameters: {'n_neighbors': 2, 'weights': 'distance'}\n"
     ]
    },
    {
     "name": "stderr",
     "output_type": "stream",
     "text": [
      "C:\\Users\\user\\anaconda3\\Lib\\site-packages\\sklearn\\base.py:457: UserWarning: X has feature names, but KNeighborsClassifier was fitted without feature names\n",
      "  warnings.warn(\n"
     ]
    },
    {
     "data": {
      "text/html": [
       "<style>#sk-container-id-29 {color: black;}#sk-container-id-29 pre{padding: 0;}#sk-container-id-29 div.sk-toggleable {background-color: white;}#sk-container-id-29 label.sk-toggleable__label {cursor: pointer;display: block;width: 100%;margin-bottom: 0;padding: 0.3em;box-sizing: border-box;text-align: center;}#sk-container-id-29 label.sk-toggleable__label-arrow:before {content: \"▸\";float: left;margin-right: 0.25em;color: #696969;}#sk-container-id-29 label.sk-toggleable__label-arrow:hover:before {color: black;}#sk-container-id-29 div.sk-estimator:hover label.sk-toggleable__label-arrow:before {color: black;}#sk-container-id-29 div.sk-toggleable__content {max-height: 0;max-width: 0;overflow: hidden;text-align: left;background-color: #f0f8ff;}#sk-container-id-29 div.sk-toggleable__content pre {margin: 0.2em;color: black;border-radius: 0.25em;background-color: #f0f8ff;}#sk-container-id-29 input.sk-toggleable__control:checked~div.sk-toggleable__content {max-height: 200px;max-width: 100%;overflow: auto;}#sk-container-id-29 input.sk-toggleable__control:checked~label.sk-toggleable__label-arrow:before {content: \"▾\";}#sk-container-id-29 div.sk-estimator input.sk-toggleable__control:checked~label.sk-toggleable__label {background-color: #d4ebff;}#sk-container-id-29 div.sk-label input.sk-toggleable__control:checked~label.sk-toggleable__label {background-color: #d4ebff;}#sk-container-id-29 input.sk-hidden--visually {border: 0;clip: rect(1px 1px 1px 1px);clip: rect(1px, 1px, 1px, 1px);height: 1px;margin: -1px;overflow: hidden;padding: 0;position: absolute;width: 1px;}#sk-container-id-29 div.sk-estimator {font-family: monospace;background-color: #f0f8ff;border: 1px dotted black;border-radius: 0.25em;box-sizing: border-box;margin-bottom: 0.5em;}#sk-container-id-29 div.sk-estimator:hover {background-color: #d4ebff;}#sk-container-id-29 div.sk-parallel-item::after {content: \"\";width: 100%;border-bottom: 1px solid gray;flex-grow: 1;}#sk-container-id-29 div.sk-label:hover label.sk-toggleable__label {background-color: #d4ebff;}#sk-container-id-29 div.sk-serial::before {content: \"\";position: absolute;border-left: 1px solid gray;box-sizing: border-box;top: 0;bottom: 0;left: 50%;z-index: 0;}#sk-container-id-29 div.sk-serial {display: flex;flex-direction: column;align-items: center;background-color: white;padding-right: 0.2em;padding-left: 0.2em;position: relative;}#sk-container-id-29 div.sk-item {position: relative;z-index: 1;}#sk-container-id-29 div.sk-parallel {display: flex;align-items: stretch;justify-content: center;background-color: white;position: relative;}#sk-container-id-29 div.sk-item::before, #sk-container-id-29 div.sk-parallel-item::before {content: \"\";position: absolute;border-left: 1px solid gray;box-sizing: border-box;top: 0;bottom: 0;left: 50%;z-index: -1;}#sk-container-id-29 div.sk-parallel-item {display: flex;flex-direction: column;z-index: 1;position: relative;background-color: white;}#sk-container-id-29 div.sk-parallel-item:first-child::after {align-self: flex-end;width: 50%;}#sk-container-id-29 div.sk-parallel-item:last-child::after {align-self: flex-start;width: 50%;}#sk-container-id-29 div.sk-parallel-item:only-child::after {width: 0;}#sk-container-id-29 div.sk-dashed-wrapped {border: 1px dashed gray;margin: 0 0.4em 0.5em 0.4em;box-sizing: border-box;padding-bottom: 0.4em;background-color: white;}#sk-container-id-29 div.sk-label label {font-family: monospace;font-weight: bold;display: inline-block;line-height: 1.2em;}#sk-container-id-29 div.sk-label-container {text-align: center;}#sk-container-id-29 div.sk-container {/* jupyter's `normalize.less` sets `[hidden] { display: none; }` but bootstrap.min.css set `[hidden] { display: none !important; }` so we also need the `!important` here to be able to override the default hidden behavior on the sphinx rendered scikit-learn.org. See: https://github.com/scikit-learn/scikit-learn/issues/21755 */display: inline-block !important;position: relative;}#sk-container-id-29 div.sk-text-repr-fallback {display: none;}</style><div id=\"sk-container-id-29\" class=\"sk-top-container\"><div class=\"sk-text-repr-fallback\"><pre>KNeighborsClassifier()</pre><b>In a Jupyter environment, please rerun this cell to show the HTML representation or trust the notebook. <br />On GitHub, the HTML representation is unable to render, please try loading this page with nbviewer.org.</b></div><div class=\"sk-container\" hidden><div class=\"sk-item\"><div class=\"sk-estimator sk-toggleable\"><input class=\"sk-toggleable__control sk-hidden--visually\" id=\"sk-estimator-id-53\" type=\"checkbox\" checked><label for=\"sk-estimator-id-53\" class=\"sk-toggleable__label sk-toggleable__label-arrow\">KNeighborsClassifier</label><div class=\"sk-toggleable__content\"><pre>KNeighborsClassifier()</pre></div></div></div></div></div>"
      ],
      "text/plain": [
       "KNeighborsClassifier()"
      ]
     },
     "execution_count": 38,
     "metadata": {},
     "output_type": "execute_result"
    }
   ],
   "source": [
    "# Defining the parameter grid for grid search and get the best model and fit the model\n",
    "\n",
    "param_grid = {\n",
    "    'n_neighbors': list(range(2, 21)),  # Range from 2 to 20\n",
    "    'weights': [custom_weight_function, 'uniform', 'distance']\n",
    "}\n",
    "\n",
    "# Create the GridSearchCV object\n",
    "grid_search = GridSearchCV(model, param_grid, cv=5, scoring='recall')\n",
    "\n",
    "# Fit the model\n",
    "grid_search.fit(X_train_pt, y_train_sm)  # Assuming X_train and y_sm are your training data\n",
    "\n",
    "# Print the best parameters\n",
    "print(\"Best parameters:\", grid_search.best_params_)\n",
    "\n",
    "# Get the best model\n",
    "best_model = grid_search.best_estimator_\n",
    "\n",
    "# Now, best_model is the KNeighborsClassifier with the best hyperparameters\n",
    "# You can use it for predictions on the test set\n",
    "y_pred = best_model.predict(X_test)  # Assuming X_test is your test data\n",
    "\n",
    "\n",
    "# Fit the model\n",
    "model.fit(X_train_pt, y_train_sm)"
   ]
  },
  {
   "cell_type": "code",
   "execution_count": 39,
   "id": "fccc9acc",
   "metadata": {},
   "outputs": [
    {
     "data": {
      "text/html": [
       "<style>#sk-container-id-30 {color: black;}#sk-container-id-30 pre{padding: 0;}#sk-container-id-30 div.sk-toggleable {background-color: white;}#sk-container-id-30 label.sk-toggleable__label {cursor: pointer;display: block;width: 100%;margin-bottom: 0;padding: 0.3em;box-sizing: border-box;text-align: center;}#sk-container-id-30 label.sk-toggleable__label-arrow:before {content: \"▸\";float: left;margin-right: 0.25em;color: #696969;}#sk-container-id-30 label.sk-toggleable__label-arrow:hover:before {color: black;}#sk-container-id-30 div.sk-estimator:hover label.sk-toggleable__label-arrow:before {color: black;}#sk-container-id-30 div.sk-toggleable__content {max-height: 0;max-width: 0;overflow: hidden;text-align: left;background-color: #f0f8ff;}#sk-container-id-30 div.sk-toggleable__content pre {margin: 0.2em;color: black;border-radius: 0.25em;background-color: #f0f8ff;}#sk-container-id-30 input.sk-toggleable__control:checked~div.sk-toggleable__content {max-height: 200px;max-width: 100%;overflow: auto;}#sk-container-id-30 input.sk-toggleable__control:checked~label.sk-toggleable__label-arrow:before {content: \"▾\";}#sk-container-id-30 div.sk-estimator input.sk-toggleable__control:checked~label.sk-toggleable__label {background-color: #d4ebff;}#sk-container-id-30 div.sk-label input.sk-toggleable__control:checked~label.sk-toggleable__label {background-color: #d4ebff;}#sk-container-id-30 input.sk-hidden--visually {border: 0;clip: rect(1px 1px 1px 1px);clip: rect(1px, 1px, 1px, 1px);height: 1px;margin: -1px;overflow: hidden;padding: 0;position: absolute;width: 1px;}#sk-container-id-30 div.sk-estimator {font-family: monospace;background-color: #f0f8ff;border: 1px dotted black;border-radius: 0.25em;box-sizing: border-box;margin-bottom: 0.5em;}#sk-container-id-30 div.sk-estimator:hover {background-color: #d4ebff;}#sk-container-id-30 div.sk-parallel-item::after {content: \"\";width: 100%;border-bottom: 1px solid gray;flex-grow: 1;}#sk-container-id-30 div.sk-label:hover label.sk-toggleable__label {background-color: #d4ebff;}#sk-container-id-30 div.sk-serial::before {content: \"\";position: absolute;border-left: 1px solid gray;box-sizing: border-box;top: 0;bottom: 0;left: 50%;z-index: 0;}#sk-container-id-30 div.sk-serial {display: flex;flex-direction: column;align-items: center;background-color: white;padding-right: 0.2em;padding-left: 0.2em;position: relative;}#sk-container-id-30 div.sk-item {position: relative;z-index: 1;}#sk-container-id-30 div.sk-parallel {display: flex;align-items: stretch;justify-content: center;background-color: white;position: relative;}#sk-container-id-30 div.sk-item::before, #sk-container-id-30 div.sk-parallel-item::before {content: \"\";position: absolute;border-left: 1px solid gray;box-sizing: border-box;top: 0;bottom: 0;left: 50%;z-index: -1;}#sk-container-id-30 div.sk-parallel-item {display: flex;flex-direction: column;z-index: 1;position: relative;background-color: white;}#sk-container-id-30 div.sk-parallel-item:first-child::after {align-self: flex-end;width: 50%;}#sk-container-id-30 div.sk-parallel-item:last-child::after {align-self: flex-start;width: 50%;}#sk-container-id-30 div.sk-parallel-item:only-child::after {width: 0;}#sk-container-id-30 div.sk-dashed-wrapped {border: 1px dashed gray;margin: 0 0.4em 0.5em 0.4em;box-sizing: border-box;padding-bottom: 0.4em;background-color: white;}#sk-container-id-30 div.sk-label label {font-family: monospace;font-weight: bold;display: inline-block;line-height: 1.2em;}#sk-container-id-30 div.sk-label-container {text-align: center;}#sk-container-id-30 div.sk-container {/* jupyter's `normalize.less` sets `[hidden] { display: none; }` but bootstrap.min.css set `[hidden] { display: none !important; }` so we also need the `!important` here to be able to override the default hidden behavior on the sphinx rendered scikit-learn.org. See: https://github.com/scikit-learn/scikit-learn/issues/21755 */display: inline-block !important;position: relative;}#sk-container-id-30 div.sk-text-repr-fallback {display: none;}</style><div id=\"sk-container-id-30\" class=\"sk-top-container\"><div class=\"sk-text-repr-fallback\"><pre>KNeighborsClassifier(n_neighbors=19, weights=&#x27;distance&#x27;)</pre><b>In a Jupyter environment, please rerun this cell to show the HTML representation or trust the notebook. <br />On GitHub, the HTML representation is unable to render, please try loading this page with nbviewer.org.</b></div><div class=\"sk-container\" hidden><div class=\"sk-item\"><div class=\"sk-estimator sk-toggleable\"><input class=\"sk-toggleable__control sk-hidden--visually\" id=\"sk-estimator-id-54\" type=\"checkbox\" checked><label for=\"sk-estimator-id-54\" class=\"sk-toggleable__label sk-toggleable__label-arrow\">KNeighborsClassifier</label><div class=\"sk-toggleable__content\"><pre>KNeighborsClassifier(n_neighbors=19, weights=&#x27;distance&#x27;)</pre></div></div></div></div></div>"
      ],
      "text/plain": [
       "KNeighborsClassifier(n_neighbors=19, weights='distance')"
      ]
     },
     "execution_count": 39,
     "metadata": {},
     "output_type": "execute_result"
    }
   ],
   "source": [
    "# Instantiate KNN Classifier model\n",
    "model = KNeighborsClassifier(n_neighbors=19,weights='distance')\n",
    "\n",
    "# Fit the model\n",
    "model.fit(X_train_pt, y_train_sm)\n"
   ]
  },
  {
   "cell_type": "markdown",
   "id": "092219e8",
   "metadata": {},
   "source": [
    "### Predicting on the test and train set"
   ]
  },
  {
   "cell_type": "code",
   "execution_count": 40,
   "id": "79bc38c4",
   "metadata": {
    "scrolled": true
   },
   "outputs": [
    {
     "name": "stderr",
     "output_type": "stream",
     "text": [
      "C:\\Users\\user\\anaconda3\\Lib\\site-packages\\sklearn\\base.py:457: UserWarning: X has feature names, but KNeighborsClassifier was fitted without feature names\n",
      "  warnings.warn(\n"
     ]
    },
    {
     "data": {
      "text/html": [
       "<div>\n",
       "<style scoped>\n",
       "    .dataframe tbody tr th:only-of-type {\n",
       "        vertical-align: middle;\n",
       "    }\n",
       "\n",
       "    .dataframe tbody tr th {\n",
       "        vertical-align: top;\n",
       "    }\n",
       "\n",
       "    .dataframe thead th {\n",
       "        text-align: right;\n",
       "    }\n",
       "</style>\n",
       "<table border=\"1\" class=\"dataframe\">\n",
       "  <thead>\n",
       "    <tr style=\"text-align: right;\">\n",
       "      <th></th>\n",
       "      <th>Error_metric</th>\n",
       "      <th>Train</th>\n",
       "      <th>Test</th>\n",
       "    </tr>\n",
       "  </thead>\n",
       "  <tbody>\n",
       "    <tr>\n",
       "      <th>0</th>\n",
       "      <td>Accuracy</td>\n",
       "      <td>1.0</td>\n",
       "      <td>0.829851</td>\n",
       "    </tr>\n",
       "    <tr>\n",
       "      <th>1</th>\n",
       "      <td>Precision</td>\n",
       "      <td>1.0</td>\n",
       "      <td>0.072948</td>\n",
       "    </tr>\n",
       "    <tr>\n",
       "      <th>2</th>\n",
       "      <td>Recall</td>\n",
       "      <td>1.0</td>\n",
       "      <td>0.818540</td>\n",
       "    </tr>\n",
       "  </tbody>\n",
       "</table>\n",
       "</div>"
      ],
      "text/plain": [
       "  Error_metric  Train      Test\n",
       "0     Accuracy    1.0  0.829851\n",
       "1    Precision    1.0  0.072948\n",
       "2       Recall    1.0  0.818540"
      ]
     },
     "metadata": {},
     "output_type": "display_data"
    }
   ],
   "source": [
    "\n",
    "y_pred = model.predict(X_test) # predict test\n",
    "y_pred_train=model.predict(X_train_pt) # predict train (for sanity checks)\n",
    "\n",
    "# Evaluate performance\n",
    "performance_log = pd.DataFrame({'Error_metric': ['Accuracy','Precision','Recall'],\n",
    "                               'Train': [accuracy_score(y_train_sm, y_pred_train),\n",
    "                                         precision_score(y_train_sm, y_pred_train),\n",
    "                                         recall_score(y_train_sm, y_pred_train)],\n",
    "                               'Test': [accuracy_score(y_test, y_pred_test),\n",
    "                                        precision_score(y_test, y_pred_test),\n",
    "                                        recall_score(y_test, y_pred_test)]})\n",
    "\n",
    "display(performance_log)"
   ]
  },
  {
   "cell_type": "code",
   "execution_count": 41,
   "id": "659f5ce7",
   "metadata": {},
   "outputs": [],
   "source": [
    "performance_log.to_csv('KNN.csv', index=False)"
   ]
  },
  {
   "cell_type": "markdown",
   "id": "2507ea32",
   "metadata": {},
   "source": [
    "### TRAIN SET CONFUSION MATRIX"
   ]
  },
  {
   "cell_type": "code",
   "execution_count": 42,
   "id": "15e06b99",
   "metadata": {
    "scrolled": true
   },
   "outputs": [
    {
     "data": {
      "text/plain": [
       "<sklearn.metrics._plot.confusion_matrix.ConfusionMatrixDisplay at 0x1439fdcec90>"
      ]
     },
     "execution_count": 42,
     "metadata": {},
     "output_type": "execute_result"
    },
    {
     "data": {
      "image/png": "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",
      "text/plain": [
       "<Figure size 640x480 with 2 Axes>"
      ]
     },
     "metadata": {},
     "output_type": "display_data"
    }
   ],
   "source": [
    "cm = confusion_matrix(y_train_sm, y_pred_train, labels= model.classes_)\n",
    "disp = ConfusionMatrixDisplay(cm)\n",
    "disp.plot()"
   ]
  },
  {
   "cell_type": "markdown",
   "id": "793921f9",
   "metadata": {},
   "source": [
    "### TEST SET CONFUSION MATRIX"
   ]
  },
  {
   "cell_type": "code",
   "execution_count": 43,
   "id": "7b9ec61c",
   "metadata": {
    "scrolled": true
   },
   "outputs": [
    {
     "data": {
      "text/plain": [
       "<sklearn.metrics._plot.confusion_matrix.ConfusionMatrixDisplay at 0x143a332d850>"
      ]
     },
     "execution_count": 43,
     "metadata": {},
     "output_type": "execute_result"
    },
    {
     "data": {
      "image/png": "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",
      "text/plain": [
       "<Figure size 640x480 with 2 Axes>"
      ]
     },
     "metadata": {},
     "output_type": "display_data"
    }
   ],
   "source": [
    "cm = confusion_matrix(y_test, y_pred_test, labels = model.classes_)\n",
    "disp = ConfusionMatrixDisplay(cm)\n",
    "disp.plot()"
   ]
  },
  {
   "cell_type": "markdown",
   "id": "56c8879c",
   "metadata": {},
   "source": [
    "## RandomForest Model"
   ]
  },
  {
   "cell_type": "code",
   "execution_count": 44,
   "id": "7734a0bd",
   "metadata": {},
   "outputs": [],
   "source": [
    "# for reproducible shuffling\n",
    "RAND_STATE = 42\n",
    "\n",
    "# test/train\n",
    "TT_RATIO = 0.25 "
   ]
  },
  {
   "cell_type": "code",
   "execution_count": 45,
   "id": "24a403a8",
   "metadata": {},
   "outputs": [
    {
     "data": {
      "text/html": [
       "<style>#sk-container-id-31 {color: black;}#sk-container-id-31 pre{padding: 0;}#sk-container-id-31 div.sk-toggleable {background-color: white;}#sk-container-id-31 label.sk-toggleable__label {cursor: pointer;display: block;width: 100%;margin-bottom: 0;padding: 0.3em;box-sizing: border-box;text-align: center;}#sk-container-id-31 label.sk-toggleable__label-arrow:before {content: \"▸\";float: left;margin-right: 0.25em;color: #696969;}#sk-container-id-31 label.sk-toggleable__label-arrow:hover:before {color: black;}#sk-container-id-31 div.sk-estimator:hover label.sk-toggleable__label-arrow:before {color: black;}#sk-container-id-31 div.sk-toggleable__content {max-height: 0;max-width: 0;overflow: hidden;text-align: left;background-color: #f0f8ff;}#sk-container-id-31 div.sk-toggleable__content pre {margin: 0.2em;color: black;border-radius: 0.25em;background-color: #f0f8ff;}#sk-container-id-31 input.sk-toggleable__control:checked~div.sk-toggleable__content {max-height: 200px;max-width: 100%;overflow: auto;}#sk-container-id-31 input.sk-toggleable__control:checked~label.sk-toggleable__label-arrow:before {content: \"▾\";}#sk-container-id-31 div.sk-estimator input.sk-toggleable__control:checked~label.sk-toggleable__label {background-color: #d4ebff;}#sk-container-id-31 div.sk-label input.sk-toggleable__control:checked~label.sk-toggleable__label {background-color: #d4ebff;}#sk-container-id-31 input.sk-hidden--visually {border: 0;clip: rect(1px 1px 1px 1px);clip: rect(1px, 1px, 1px, 1px);height: 1px;margin: -1px;overflow: hidden;padding: 0;position: absolute;width: 1px;}#sk-container-id-31 div.sk-estimator {font-family: monospace;background-color: #f0f8ff;border: 1px dotted black;border-radius: 0.25em;box-sizing: border-box;margin-bottom: 0.5em;}#sk-container-id-31 div.sk-estimator:hover {background-color: #d4ebff;}#sk-container-id-31 div.sk-parallel-item::after {content: \"\";width: 100%;border-bottom: 1px solid gray;flex-grow: 1;}#sk-container-id-31 div.sk-label:hover label.sk-toggleable__label {background-color: #d4ebff;}#sk-container-id-31 div.sk-serial::before {content: \"\";position: absolute;border-left: 1px solid gray;box-sizing: border-box;top: 0;bottom: 0;left: 50%;z-index: 0;}#sk-container-id-31 div.sk-serial {display: flex;flex-direction: column;align-items: center;background-color: white;padding-right: 0.2em;padding-left: 0.2em;position: relative;}#sk-container-id-31 div.sk-item {position: relative;z-index: 1;}#sk-container-id-31 div.sk-parallel {display: flex;align-items: stretch;justify-content: center;background-color: white;position: relative;}#sk-container-id-31 div.sk-item::before, #sk-container-id-31 div.sk-parallel-item::before {content: \"\";position: absolute;border-left: 1px solid gray;box-sizing: border-box;top: 0;bottom: 0;left: 50%;z-index: -1;}#sk-container-id-31 div.sk-parallel-item {display: flex;flex-direction: column;z-index: 1;position: relative;background-color: white;}#sk-container-id-31 div.sk-parallel-item:first-child::after {align-self: flex-end;width: 50%;}#sk-container-id-31 div.sk-parallel-item:last-child::after {align-self: flex-start;width: 50%;}#sk-container-id-31 div.sk-parallel-item:only-child::after {width: 0;}#sk-container-id-31 div.sk-dashed-wrapped {border: 1px dashed gray;margin: 0 0.4em 0.5em 0.4em;box-sizing: border-box;padding-bottom: 0.4em;background-color: white;}#sk-container-id-31 div.sk-label label {font-family: monospace;font-weight: bold;display: inline-block;line-height: 1.2em;}#sk-container-id-31 div.sk-label-container {text-align: center;}#sk-container-id-31 div.sk-container {/* jupyter's `normalize.less` sets `[hidden] { display: none; }` but bootstrap.min.css set `[hidden] { display: none !important; }` so we also need the `!important` here to be able to override the default hidden behavior on the sphinx rendered scikit-learn.org. See: https://github.com/scikit-learn/scikit-learn/issues/21755 */display: inline-block !important;position: relative;}#sk-container-id-31 div.sk-text-repr-fallback {display: none;}</style><div id=\"sk-container-id-31\" class=\"sk-top-container\"><div class=\"sk-text-repr-fallback\"><pre>RandomForestClassifier(class_weight={0: 1, 1: 2}, max_depth=6,\n",
       "                       min_samples_leaf=20, oob_score=True, random_state=42)</pre><b>In a Jupyter environment, please rerun this cell to show the HTML representation or trust the notebook. <br />On GitHub, the HTML representation is unable to render, please try loading this page with nbviewer.org.</b></div><div class=\"sk-container\" hidden><div class=\"sk-item\"><div class=\"sk-estimator sk-toggleable\"><input class=\"sk-toggleable__control sk-hidden--visually\" id=\"sk-estimator-id-55\" type=\"checkbox\" checked><label for=\"sk-estimator-id-55\" class=\"sk-toggleable__label sk-toggleable__label-arrow\">RandomForestClassifier</label><div class=\"sk-toggleable__content\"><pre>RandomForestClassifier(class_weight={0: 1, 1: 2}, max_depth=6,\n",
       "                       min_samples_leaf=20, oob_score=True, random_state=42)</pre></div></div></div></div></div>"
      ],
      "text/plain": [
       "RandomForestClassifier(class_weight={0: 1, 1: 2}, max_depth=6,\n",
       "                       min_samples_leaf=20, oob_score=True, random_state=42)"
      ]
     },
     "execution_count": 45,
     "metadata": {},
     "output_type": "execute_result"
    },
    {
     "name": "stdout",
     "output_type": "stream",
     "text": [
      "train prediction accuracy score: 0.92\n",
      "test prediction accuracy score: 0.83\n"
     ]
    }
   ],
   "source": [
    "\n",
    "rfc_ops = {\"max_depth\":6,\n",
    "           \"min_samples_leaf\":20,\n",
    "           \"n_estimators\":100,\n",
    "           \"bootstrap\":True,\n",
    "           \"oob_score\":True,\n",
    "           \"random_state\":RAND_STATE}\n",
    "\n",
    "class_weights = {0: 1, 1: 2}  # Adjust weights as needed\n",
    "clf = RandomForestClassifier(class_weight=class_weights, **rfc_ops)\n",
    "\n",
    "clf.fit(X_train_sm, y_train_sm)\n",
    "print(\"train prediction accuracy score: %.2f\" %(clf.score(X_train_sm, y_train_sm)))\n",
    "print(\"test prediction accuracy score: %.2f\"  %(clf.score(X_test, y_test)))"
   ]
  },
  {
   "cell_type": "code",
   "execution_count": 46,
   "id": "06b5bd8d",
   "metadata": {},
   "outputs": [
    {
     "data": {
      "text/plain": [
       "0.9136"
      ]
     },
     "execution_count": 46,
     "metadata": {},
     "output_type": "execute_result"
    }
   ],
   "source": [
    "# Utilizing Out-of-Bag Score for Performance Evaluation in RandomForestClassifier\n",
    "clf.oob_score_"
   ]
  },
  {
   "cell_type": "code",
   "execution_count": 47,
   "id": "4902a5f5",
   "metadata": {},
   "outputs": [
    {
     "data": {
      "text/plain": [
       "0.832133684243904"
      ]
     },
     "execution_count": 47,
     "metadata": {},
     "output_type": "execute_result"
    }
   ],
   "source": [
    "#calculating the accuracy score of the model on the test set\n",
    "score_ds = accuracy_score(y_test,clf.predict(X_test))\n",
    "score_ds"
   ]
  },
  {
   "cell_type": "markdown",
   "id": "4994425d",
   "metadata": {},
   "source": [
    "### Investigating Hyperparameter Tuning with Grid Search and Evaluating Results"
   ]
  },
  {
   "cell_type": "code",
   "execution_count": 48,
   "id": "802bc87d",
   "metadata": {},
   "outputs": [
    {
     "data": {
      "text/html": [
       "<style>#sk-container-id-32 {color: black;}#sk-container-id-32 pre{padding: 0;}#sk-container-id-32 div.sk-toggleable {background-color: white;}#sk-container-id-32 label.sk-toggleable__label {cursor: pointer;display: block;width: 100%;margin-bottom: 0;padding: 0.3em;box-sizing: border-box;text-align: center;}#sk-container-id-32 label.sk-toggleable__label-arrow:before {content: \"▸\";float: left;margin-right: 0.25em;color: #696969;}#sk-container-id-32 label.sk-toggleable__label-arrow:hover:before {color: black;}#sk-container-id-32 div.sk-estimator:hover label.sk-toggleable__label-arrow:before {color: black;}#sk-container-id-32 div.sk-toggleable__content {max-height: 0;max-width: 0;overflow: hidden;text-align: left;background-color: #f0f8ff;}#sk-container-id-32 div.sk-toggleable__content pre {margin: 0.2em;color: black;border-radius: 0.25em;background-color: #f0f8ff;}#sk-container-id-32 input.sk-toggleable__control:checked~div.sk-toggleable__content {max-height: 200px;max-width: 100%;overflow: auto;}#sk-container-id-32 input.sk-toggleable__control:checked~label.sk-toggleable__label-arrow:before {content: \"▾\";}#sk-container-id-32 div.sk-estimator input.sk-toggleable__control:checked~label.sk-toggleable__label {background-color: #d4ebff;}#sk-container-id-32 div.sk-label input.sk-toggleable__control:checked~label.sk-toggleable__label {background-color: #d4ebff;}#sk-container-id-32 input.sk-hidden--visually {border: 0;clip: rect(1px 1px 1px 1px);clip: rect(1px, 1px, 1px, 1px);height: 1px;margin: -1px;overflow: hidden;padding: 0;position: absolute;width: 1px;}#sk-container-id-32 div.sk-estimator {font-family: monospace;background-color: #f0f8ff;border: 1px dotted black;border-radius: 0.25em;box-sizing: border-box;margin-bottom: 0.5em;}#sk-container-id-32 div.sk-estimator:hover {background-color: #d4ebff;}#sk-container-id-32 div.sk-parallel-item::after {content: \"\";width: 100%;border-bottom: 1px solid gray;flex-grow: 1;}#sk-container-id-32 div.sk-label:hover label.sk-toggleable__label {background-color: #d4ebff;}#sk-container-id-32 div.sk-serial::before {content: \"\";position: absolute;border-left: 1px solid gray;box-sizing: border-box;top: 0;bottom: 0;left: 50%;z-index: 0;}#sk-container-id-32 div.sk-serial {display: flex;flex-direction: column;align-items: center;background-color: white;padding-right: 0.2em;padding-left: 0.2em;position: relative;}#sk-container-id-32 div.sk-item {position: relative;z-index: 1;}#sk-container-id-32 div.sk-parallel {display: flex;align-items: stretch;justify-content: center;background-color: white;position: relative;}#sk-container-id-32 div.sk-item::before, #sk-container-id-32 div.sk-parallel-item::before {content: \"\";position: absolute;border-left: 1px solid gray;box-sizing: border-box;top: 0;bottom: 0;left: 50%;z-index: -1;}#sk-container-id-32 div.sk-parallel-item {display: flex;flex-direction: column;z-index: 1;position: relative;background-color: white;}#sk-container-id-32 div.sk-parallel-item:first-child::after {align-self: flex-end;width: 50%;}#sk-container-id-32 div.sk-parallel-item:last-child::after {align-self: flex-start;width: 50%;}#sk-container-id-32 div.sk-parallel-item:only-child::after {width: 0;}#sk-container-id-32 div.sk-dashed-wrapped {border: 1px dashed gray;margin: 0 0.4em 0.5em 0.4em;box-sizing: border-box;padding-bottom: 0.4em;background-color: white;}#sk-container-id-32 div.sk-label label {font-family: monospace;font-weight: bold;display: inline-block;line-height: 1.2em;}#sk-container-id-32 div.sk-label-container {text-align: center;}#sk-container-id-32 div.sk-container {/* jupyter's `normalize.less` sets `[hidden] { display: none; }` but bootstrap.min.css set `[hidden] { display: none !important; }` so we also need the `!important` here to be able to override the default hidden behavior on the sphinx rendered scikit-learn.org. See: https://github.com/scikit-learn/scikit-learn/issues/21755 */display: inline-block !important;position: relative;}#sk-container-id-32 div.sk-text-repr-fallback {display: none;}</style><div id=\"sk-container-id-32\" class=\"sk-top-container\"><div class=\"sk-text-repr-fallback\"><pre>GridSearchCV(cv=5,\n",
       "             estimator=RandomForestClassifier(class_weight={0: 1, 1: 2},\n",
       "                                              max_depth=6, min_samples_leaf=20,\n",
       "                                              oob_score=True, random_state=42),\n",
       "             n_jobs=-1,\n",
       "             param_grid={&#x27;max_depth&#x27;: [2, 3, 4, 5, 6, 7, 8, 9, 10, 11],\n",
       "                         &#x27;min_samples_leaf&#x27;: [1, 2, 4],\n",
       "                         &#x27;min_samples_split&#x27;: [2, 5, 10],\n",
       "                         &#x27;n_estimators&#x27;: [50, 100, 200]},\n",
       "             return_train_score=True)</pre><b>In a Jupyter environment, please rerun this cell to show the HTML representation or trust the notebook. <br />On GitHub, the HTML representation is unable to render, please try loading this page with nbviewer.org.</b></div><div class=\"sk-container\" hidden><div class=\"sk-item sk-dashed-wrapped\"><div class=\"sk-label-container\"><div class=\"sk-label sk-toggleable\"><input class=\"sk-toggleable__control sk-hidden--visually\" id=\"sk-estimator-id-56\" type=\"checkbox\" ><label for=\"sk-estimator-id-56\" class=\"sk-toggleable__label sk-toggleable__label-arrow\">GridSearchCV</label><div class=\"sk-toggleable__content\"><pre>GridSearchCV(cv=5,\n",
       "             estimator=RandomForestClassifier(class_weight={0: 1, 1: 2},\n",
       "                                              max_depth=6, min_samples_leaf=20,\n",
       "                                              oob_score=True, random_state=42),\n",
       "             n_jobs=-1,\n",
       "             param_grid={&#x27;max_depth&#x27;: [2, 3, 4, 5, 6, 7, 8, 9, 10, 11],\n",
       "                         &#x27;min_samples_leaf&#x27;: [1, 2, 4],\n",
       "                         &#x27;min_samples_split&#x27;: [2, 5, 10],\n",
       "                         &#x27;n_estimators&#x27;: [50, 100, 200]},\n",
       "             return_train_score=True)</pre></div></div></div><div class=\"sk-parallel\"><div class=\"sk-parallel-item\"><div class=\"sk-item\"><div class=\"sk-label-container\"><div class=\"sk-label sk-toggleable\"><input class=\"sk-toggleable__control sk-hidden--visually\" id=\"sk-estimator-id-57\" type=\"checkbox\" ><label for=\"sk-estimator-id-57\" class=\"sk-toggleable__label sk-toggleable__label-arrow\">estimator: RandomForestClassifier</label><div class=\"sk-toggleable__content\"><pre>RandomForestClassifier(class_weight={0: 1, 1: 2}, max_depth=6,\n",
       "                       min_samples_leaf=20, oob_score=True, random_state=42)</pre></div></div></div><div class=\"sk-serial\"><div class=\"sk-item\"><div class=\"sk-estimator sk-toggleable\"><input class=\"sk-toggleable__control sk-hidden--visually\" id=\"sk-estimator-id-58\" type=\"checkbox\" ><label for=\"sk-estimator-id-58\" class=\"sk-toggleable__label sk-toggleable__label-arrow\">RandomForestClassifier</label><div class=\"sk-toggleable__content\"><pre>RandomForestClassifier(class_weight={0: 1, 1: 2}, max_depth=6,\n",
       "                       min_samples_leaf=20, oob_score=True, random_state=42)</pre></div></div></div></div></div></div></div></div></div></div>"
      ],
      "text/plain": [
       "GridSearchCV(cv=5,\n",
       "             estimator=RandomForestClassifier(class_weight={0: 1, 1: 2},\n",
       "                                              max_depth=6, min_samples_leaf=20,\n",
       "                                              oob_score=True, random_state=42),\n",
       "             n_jobs=-1,\n",
       "             param_grid={'max_depth': [2, 3, 4, 5, 6, 7, 8, 9, 10, 11],\n",
       "                         'min_samples_leaf': [1, 2, 4],\n",
       "                         'min_samples_split': [2, 5, 10],\n",
       "                         'n_estimators': [50, 100, 200]},\n",
       "             return_train_score=True)"
      ]
     },
     "execution_count": 48,
     "metadata": {},
     "output_type": "execute_result"
    },
    {
     "name": "stdout",
     "output_type": "stream",
     "text": [
      "Best parameters: {'max_depth': 11, 'min_samples_leaf': 2, 'min_samples_split': 10, 'n_estimators': 200}\n"
     ]
    },
    {
     "data": {
      "text/html": [
       "<style>#sk-container-id-33 {color: black;}#sk-container-id-33 pre{padding: 0;}#sk-container-id-33 div.sk-toggleable {background-color: white;}#sk-container-id-33 label.sk-toggleable__label {cursor: pointer;display: block;width: 100%;margin-bottom: 0;padding: 0.3em;box-sizing: border-box;text-align: center;}#sk-container-id-33 label.sk-toggleable__label-arrow:before {content: \"▸\";float: left;margin-right: 0.25em;color: #696969;}#sk-container-id-33 label.sk-toggleable__label-arrow:hover:before {color: black;}#sk-container-id-33 div.sk-estimator:hover label.sk-toggleable__label-arrow:before {color: black;}#sk-container-id-33 div.sk-toggleable__content {max-height: 0;max-width: 0;overflow: hidden;text-align: left;background-color: #f0f8ff;}#sk-container-id-33 div.sk-toggleable__content pre {margin: 0.2em;color: black;border-radius: 0.25em;background-color: #f0f8ff;}#sk-container-id-33 input.sk-toggleable__control:checked~div.sk-toggleable__content {max-height: 200px;max-width: 100%;overflow: auto;}#sk-container-id-33 input.sk-toggleable__control:checked~label.sk-toggleable__label-arrow:before {content: \"▾\";}#sk-container-id-33 div.sk-estimator input.sk-toggleable__control:checked~label.sk-toggleable__label {background-color: #d4ebff;}#sk-container-id-33 div.sk-label input.sk-toggleable__control:checked~label.sk-toggleable__label {background-color: #d4ebff;}#sk-container-id-33 input.sk-hidden--visually {border: 0;clip: rect(1px 1px 1px 1px);clip: rect(1px, 1px, 1px, 1px);height: 1px;margin: -1px;overflow: hidden;padding: 0;position: absolute;width: 1px;}#sk-container-id-33 div.sk-estimator {font-family: monospace;background-color: #f0f8ff;border: 1px dotted black;border-radius: 0.25em;box-sizing: border-box;margin-bottom: 0.5em;}#sk-container-id-33 div.sk-estimator:hover {background-color: #d4ebff;}#sk-container-id-33 div.sk-parallel-item::after {content: \"\";width: 100%;border-bottom: 1px solid gray;flex-grow: 1;}#sk-container-id-33 div.sk-label:hover label.sk-toggleable__label {background-color: #d4ebff;}#sk-container-id-33 div.sk-serial::before {content: \"\";position: absolute;border-left: 1px solid gray;box-sizing: border-box;top: 0;bottom: 0;left: 50%;z-index: 0;}#sk-container-id-33 div.sk-serial {display: flex;flex-direction: column;align-items: center;background-color: white;padding-right: 0.2em;padding-left: 0.2em;position: relative;}#sk-container-id-33 div.sk-item {position: relative;z-index: 1;}#sk-container-id-33 div.sk-parallel {display: flex;align-items: stretch;justify-content: center;background-color: white;position: relative;}#sk-container-id-33 div.sk-item::before, #sk-container-id-33 div.sk-parallel-item::before {content: \"\";position: absolute;border-left: 1px solid gray;box-sizing: border-box;top: 0;bottom: 0;left: 50%;z-index: -1;}#sk-container-id-33 div.sk-parallel-item {display: flex;flex-direction: column;z-index: 1;position: relative;background-color: white;}#sk-container-id-33 div.sk-parallel-item:first-child::after {align-self: flex-end;width: 50%;}#sk-container-id-33 div.sk-parallel-item:last-child::after {align-self: flex-start;width: 50%;}#sk-container-id-33 div.sk-parallel-item:only-child::after {width: 0;}#sk-container-id-33 div.sk-dashed-wrapped {border: 1px dashed gray;margin: 0 0.4em 0.5em 0.4em;box-sizing: border-box;padding-bottom: 0.4em;background-color: white;}#sk-container-id-33 div.sk-label label {font-family: monospace;font-weight: bold;display: inline-block;line-height: 1.2em;}#sk-container-id-33 div.sk-label-container {text-align: center;}#sk-container-id-33 div.sk-container {/* jupyter's `normalize.less` sets `[hidden] { display: none; }` but bootstrap.min.css set `[hidden] { display: none !important; }` so we also need the `!important` here to be able to override the default hidden behavior on the sphinx rendered scikit-learn.org. See: https://github.com/scikit-learn/scikit-learn/issues/21755 */display: inline-block !important;position: relative;}#sk-container-id-33 div.sk-text-repr-fallback {display: none;}</style><div id=\"sk-container-id-33\" class=\"sk-top-container\"><div class=\"sk-text-repr-fallback\"><pre>RandomForestClassifier(class_weight={0: 1, 1: 2}, max_depth=6,\n",
       "                       min_samples_leaf=20, oob_score=True, random_state=42)</pre><b>In a Jupyter environment, please rerun this cell to show the HTML representation or trust the notebook. <br />On GitHub, the HTML representation is unable to render, please try loading this page with nbviewer.org.</b></div><div class=\"sk-container\" hidden><div class=\"sk-item\"><div class=\"sk-estimator sk-toggleable\"><input class=\"sk-toggleable__control sk-hidden--visually\" id=\"sk-estimator-id-59\" type=\"checkbox\" checked><label for=\"sk-estimator-id-59\" class=\"sk-toggleable__label sk-toggleable__label-arrow\">RandomForestClassifier</label><div class=\"sk-toggleable__content\"><pre>RandomForestClassifier(class_weight={0: 1, 1: 2}, max_depth=6,\n",
       "                       min_samples_leaf=20, oob_score=True, random_state=42)</pre></div></div></div></div></div>"
      ],
      "text/plain": [
       "RandomForestClassifier(class_weight={0: 1, 1: 2}, max_depth=6,\n",
       "                       min_samples_leaf=20, oob_score=True, random_state=42)"
      ]
     },
     "execution_count": 48,
     "metadata": {},
     "output_type": "execute_result"
    }
   ],
   "source": [
    "# Creating the GridSearchCV object\n",
    "param_grid = {\n",
    "    'n_estimators': [50, 100, 200],\n",
    "    'max_depth': list(range(2, 12)), \n",
    "    'min_samples_split': [2, 5, 10],\n",
    "    'min_samples_leaf': [1, 2, 4]\n",
    "}\n",
    "\n",
    "grid_search = GridSearchCV(clf, param_grid, cv=5,return_train_score=True,n_jobs=-1)\n",
    "\n",
    "# Fitting the model\n",
    "grid_search.fit(X_train_sm,y_train_sm)  # Assuming X_train and y_sm are your training data\n",
    "\n",
    "# Printing the best parameters\n",
    "print(\"Best parameters:\", grid_search.best_params_)\n",
    "\n",
    "# Get the best model\n",
    "best_model = grid_search.best_estimator_\n",
    "\n",
    "# predicting on the test set\n",
    "y_pred = best_model.predict(X_test)  # Assuming X_test is your test data\n",
    "\n",
    "\n",
    "# Fit the model\n",
    "clf.fit(X_train_sm, y_train_sm)"
   ]
  },
  {
   "cell_type": "markdown",
   "id": "c7a0c070",
   "metadata": {},
   "source": [
    "### Fitting a RandomForest Classifier with Optimized Max Depth"
   ]
  },
  {
   "cell_type": "code",
   "execution_count": 49,
   "id": "1dd415d3",
   "metadata": {},
   "outputs": [
    {
     "data": {
      "text/html": [
       "<style>#sk-container-id-34 {color: black;}#sk-container-id-34 pre{padding: 0;}#sk-container-id-34 div.sk-toggleable {background-color: white;}#sk-container-id-34 label.sk-toggleable__label {cursor: pointer;display: block;width: 100%;margin-bottom: 0;padding: 0.3em;box-sizing: border-box;text-align: center;}#sk-container-id-34 label.sk-toggleable__label-arrow:before {content: \"▸\";float: left;margin-right: 0.25em;color: #696969;}#sk-container-id-34 label.sk-toggleable__label-arrow:hover:before {color: black;}#sk-container-id-34 div.sk-estimator:hover label.sk-toggleable__label-arrow:before {color: black;}#sk-container-id-34 div.sk-toggleable__content {max-height: 0;max-width: 0;overflow: hidden;text-align: left;background-color: #f0f8ff;}#sk-container-id-34 div.sk-toggleable__content pre {margin: 0.2em;color: black;border-radius: 0.25em;background-color: #f0f8ff;}#sk-container-id-34 input.sk-toggleable__control:checked~div.sk-toggleable__content {max-height: 200px;max-width: 100%;overflow: auto;}#sk-container-id-34 input.sk-toggleable__control:checked~label.sk-toggleable__label-arrow:before {content: \"▾\";}#sk-container-id-34 div.sk-estimator input.sk-toggleable__control:checked~label.sk-toggleable__label {background-color: #d4ebff;}#sk-container-id-34 div.sk-label input.sk-toggleable__control:checked~label.sk-toggleable__label {background-color: #d4ebff;}#sk-container-id-34 input.sk-hidden--visually {border: 0;clip: rect(1px 1px 1px 1px);clip: rect(1px, 1px, 1px, 1px);height: 1px;margin: -1px;overflow: hidden;padding: 0;position: absolute;width: 1px;}#sk-container-id-34 div.sk-estimator {font-family: monospace;background-color: #f0f8ff;border: 1px dotted black;border-radius: 0.25em;box-sizing: border-box;margin-bottom: 0.5em;}#sk-container-id-34 div.sk-estimator:hover {background-color: #d4ebff;}#sk-container-id-34 div.sk-parallel-item::after {content: \"\";width: 100%;border-bottom: 1px solid gray;flex-grow: 1;}#sk-container-id-34 div.sk-label:hover label.sk-toggleable__label {background-color: #d4ebff;}#sk-container-id-34 div.sk-serial::before {content: \"\";position: absolute;border-left: 1px solid gray;box-sizing: border-box;top: 0;bottom: 0;left: 50%;z-index: 0;}#sk-container-id-34 div.sk-serial {display: flex;flex-direction: column;align-items: center;background-color: white;padding-right: 0.2em;padding-left: 0.2em;position: relative;}#sk-container-id-34 div.sk-item {position: relative;z-index: 1;}#sk-container-id-34 div.sk-parallel {display: flex;align-items: stretch;justify-content: center;background-color: white;position: relative;}#sk-container-id-34 div.sk-item::before, #sk-container-id-34 div.sk-parallel-item::before {content: \"\";position: absolute;border-left: 1px solid gray;box-sizing: border-box;top: 0;bottom: 0;left: 50%;z-index: -1;}#sk-container-id-34 div.sk-parallel-item {display: flex;flex-direction: column;z-index: 1;position: relative;background-color: white;}#sk-container-id-34 div.sk-parallel-item:first-child::after {align-self: flex-end;width: 50%;}#sk-container-id-34 div.sk-parallel-item:last-child::after {align-self: flex-start;width: 50%;}#sk-container-id-34 div.sk-parallel-item:only-child::after {width: 0;}#sk-container-id-34 div.sk-dashed-wrapped {border: 1px dashed gray;margin: 0 0.4em 0.5em 0.4em;box-sizing: border-box;padding-bottom: 0.4em;background-color: white;}#sk-container-id-34 div.sk-label label {font-family: monospace;font-weight: bold;display: inline-block;line-height: 1.2em;}#sk-container-id-34 div.sk-label-container {text-align: center;}#sk-container-id-34 div.sk-container {/* jupyter's `normalize.less` sets `[hidden] { display: none; }` but bootstrap.min.css set `[hidden] { display: none !important; }` so we also need the `!important` here to be able to override the default hidden behavior on the sphinx rendered scikit-learn.org. See: https://github.com/scikit-learn/scikit-learn/issues/21755 */display: inline-block !important;position: relative;}#sk-container-id-34 div.sk-text-repr-fallback {display: none;}</style><div id=\"sk-container-id-34\" class=\"sk-top-container\"><div class=\"sk-text-repr-fallback\"><pre>RandomForestClassifier(class_weight={0: 2.5, 1: 1}, max_depth=11,\n",
       "                       oob_score=True, random_state=42)</pre><b>In a Jupyter environment, please rerun this cell to show the HTML representation or trust the notebook. <br />On GitHub, the HTML representation is unable to render, please try loading this page with nbviewer.org.</b></div><div class=\"sk-container\" hidden><div class=\"sk-item\"><div class=\"sk-estimator sk-toggleable\"><input class=\"sk-toggleable__control sk-hidden--visually\" id=\"sk-estimator-id-60\" type=\"checkbox\" checked><label for=\"sk-estimator-id-60\" class=\"sk-toggleable__label sk-toggleable__label-arrow\">RandomForestClassifier</label><div class=\"sk-toggleable__content\"><pre>RandomForestClassifier(class_weight={0: 2.5, 1: 1}, max_depth=11,\n",
       "                       oob_score=True, random_state=42)</pre></div></div></div></div></div>"
      ],
      "text/plain": [
       "RandomForestClassifier(class_weight={0: 2.5, 1: 1}, max_depth=11,\n",
       "                       oob_score=True, random_state=42)"
      ]
     },
     "execution_count": 49,
     "metadata": {},
     "output_type": "execute_result"
    },
    {
     "name": "stdout",
     "output_type": "stream",
     "text": [
      "train prediction accuracy score: 0.99\n",
      "test prediction accuracy score: 0.93\n"
     ]
    }
   ],
   "source": [
    "rfc_ops = {\"max_depth\":11,\n",
    "           \"min_samples_leaf\":1,\n",
    "           'min_samples_split': 2,\n",
    "           \"n_estimators\":100,\n",
    "           \"oob_score\":True,\n",
    "           \"random_state\":42}\n",
    "\n",
    "class_weights = {0: 2.5, 1: 1}  # Adjust weights as needed\n",
    "clf = RandomForestClassifier(class_weight=class_weights, **rfc_ops)\n",
    "\n",
    "        #max_depth=6,min_samples_leaf=20,max_features=None,n_estimators=100,\n",
    "         #                    bootstrap=True,oob_score=True, random_state=RAND_STATE)\n",
    "clf.fit(X_train_sm, y_train_sm)\n",
    "print(\"train prediction accuracy score: %.2f\" %(clf.score(X_train_sm, y_train_sm)))\n",
    "print(\"test prediction accuracy score: %.2f\"  %(clf.score(X_test, y_test)))\n"
   ]
  },
  {
   "cell_type": "markdown",
   "id": "9c0a2eb8",
   "metadata": {},
   "source": [
    "### Predicting on the test and train set"
   ]
  },
  {
   "cell_type": "code",
   "execution_count": 50,
   "id": "f6d3da5a",
   "metadata": {},
   "outputs": [
    {
     "data": {
      "text/html": [
       "<div>\n",
       "<style scoped>\n",
       "    .dataframe tbody tr th:only-of-type {\n",
       "        vertical-align: middle;\n",
       "    }\n",
       "\n",
       "    .dataframe tbody tr th {\n",
       "        vertical-align: top;\n",
       "    }\n",
       "\n",
       "    .dataframe thead th {\n",
       "        text-align: right;\n",
       "    }\n",
       "</style>\n",
       "<table border=\"1\" class=\"dataframe\">\n",
       "  <thead>\n",
       "    <tr style=\"text-align: right;\">\n",
       "      <th></th>\n",
       "      <th>Error_metric</th>\n",
       "      <th>Train</th>\n",
       "      <th>Test</th>\n",
       "    </tr>\n",
       "  </thead>\n",
       "  <tbody>\n",
       "    <tr>\n",
       "      <th>0</th>\n",
       "      <td>Accuracy</td>\n",
       "      <td>0.986700</td>\n",
       "      <td>0.929765</td>\n",
       "    </tr>\n",
       "    <tr>\n",
       "      <th>1</th>\n",
       "      <td>Precision</td>\n",
       "      <td>0.974644</td>\n",
       "      <td>0.175285</td>\n",
       "    </tr>\n",
       "    <tr>\n",
       "      <th>2</th>\n",
       "      <td>Recall</td>\n",
       "      <td>0.999400</td>\n",
       "      <td>0.909270</td>\n",
       "    </tr>\n",
       "  </tbody>\n",
       "</table>\n",
       "</div>"
      ],
      "text/plain": [
       "  Error_metric     Train      Test\n",
       "0     Accuracy  0.986700  0.929765\n",
       "1    Precision  0.974644  0.175285\n",
       "2       Recall  0.999400  0.909270"
      ]
     },
     "metadata": {},
     "output_type": "display_data"
    }
   ],
   "source": [
    "# Predictions on the test set\n",
    "\n",
    "\n",
    "y_pred = clf.predict(X_test) # predict test\n",
    "y_pred_train=clf.predict(X_train_sm) # predict train (for sanity checks)\n",
    "\n",
    "# Evaluate performance\n",
    "performance_log2 = pd.DataFrame({'Error_metric': ['Accuracy','Precision','Recall'],\n",
    "                               'Train': [accuracy_score(y_train_sm, y_pred_train),\n",
    "                                         precision_score(y_train_sm, y_pred_train),\n",
    "                                         recall_score(y_train_sm, y_pred_train)],\n",
    "                               'Test': [accuracy_score(y_test, y_pred),\n",
    "                                        precision_score(y_test, y_pred),\n",
    "                                        recall_score(y_test, y_pred)]})\n",
    "\n",
    "display(performance_log2)"
   ]
  },
  {
   "cell_type": "code",
   "execution_count": 51,
   "id": "eeb467b6",
   "metadata": {},
   "outputs": [],
   "source": [
    "performance_log2.to_csv('RandomForest.csv', index=False)"
   ]
  },
  {
   "cell_type": "markdown",
   "id": "ec38d72e",
   "metadata": {},
   "source": [
    "### Visualizing Accuracy and Recall Performance Based on Max Depth"
   ]
  },
  {
   "cell_type": "code",
   "execution_count": 52,
   "id": "bd63541d",
   "metadata": {},
   "outputs": [
    {
     "data": {
      "text/plain": [
       "<sklearn.metrics._plot.confusion_matrix.ConfusionMatrixDisplay at 0x143a32e6f50>"
      ]
     },
     "execution_count": 52,
     "metadata": {},
     "output_type": "execute_result"
    },
    {
     "data": {
      "image/png": "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",
      "text/plain": [
       "<Figure size 640x480 with 2 Axes>"
      ]
     },
     "metadata": {},
     "output_type": "display_data"
    }
   ],
   "source": [
    "cm = confusion_matrix(y_test, y_pred_test, labels = clf.classes_)\n",
    "disp = ConfusionMatrixDisplay(cm)\n",
    "disp.plot()"
   ]
  },
  {
   "cell_type": "code",
   "execution_count": 57,
<<<<<<< Updated upstream
   "id": "66fd7a02-874b-497c-8c74-42e42783538a",
=======
   "id": "a78fb942",
>>>>>>> Stashed changes
   "metadata": {
    "tags": []
   },
   "outputs": [],
   "source": [
    "def prediction_func():\n",
    "    file_path = input(\"Enter the path or name of the CSV file: \")\n",
    "    df_user=pd.read_csv(file_path)\n",
    "    #renaming\n",
    "    df_user.rename(columns={\"TimeSpent (minutes)\":\"TimeSpent\"}, inplace=True)\n",
    "    df_user.rename(columns={\"Conversion (Target)\":\"Conversion\"}, inplace=True)\n",
    "\n",
    "    #recalculating\n",
    "    df_user['ResponseTime'] = df_user['ResponseTime (hours)'] * 60\n",
    "\n",
    "    # Drop the original 'ResponseTime (hours)' column\n",
    "    df_user.drop(columns=['ResponseTime (hours)', 'Location', 'ReferralSource', 'LeadStatus', 'LeadID', 'ResponseTime'], inplace=True)\n",
    "    \n",
    "    #encoding\n",
    "    categoricals = df_user.select_dtypes(include=[object, bool])\n",
    "    numericals = df_user.select_dtypes(include = 'number')\n",
    "    ordinals = categoricals[['PaymentHistory']]\n",
    "    ordinals = categoricals['PaymentHistory'].map({'Good':1, 'No Payment':0})\n",
    "    nominals = categoricals.drop(columns=['PaymentHistory'])\n",
    "    nominals = pd.get_dummies(nominals, dtype=int)\n",
    "    categoricals = pd.concat([ordinals, nominals], axis=1)\n",
    "    df_user_encoded = pd.concat([categoricals, numericals], axis=1)\n",
    "    \n",
    "    #adding the columns\n",
    "    user_column=df_user_encoded.columns.tolist()\n",
    "    column_list = df.columns.tolist()\n",
    "    for column in column_list:\n",
    "        if column  not in user_column:\n",
    "            df_user_encoded[column]=0\n",
    "    \n",
    "    df_user.drop(columns=['Conversion'], inplace=True)\n",
    "    \n",
    "    # List the columns in the order of X_train\n",
    "    columns_order = X_train.columns.tolist()\n",
    "\n",
    "    # Reorder columns in df based on the order of columns_order\n",
    "    df_user_encoded= df_user_encoded.reindex(columns=columns_order)\n",
    "         \n",
    "    y_pred = clf.predict(df_user_encoded)\n",
    "    pred_df=pd.DataFrame(y_pred)\n",
    "    final_df=pd.concat([df_user,pred_df], axis=1)\n",
    "    k=0\n",
    "    for i in y_pred:\n",
    "        if i==1:\n",
    "            k=1\n",
    "    if k==0:\n",
    "        print(\"No potential clients are in the list. No actions needed\")\n",
    "    else:\n",
    "        print(\"There are potential clients in your list. Contact them within 8 hours\")\n",
    "    return final_df\n",
    "        \n",
    "    "
   ]
  },
  {
   "cell_type": "code",
<<<<<<< Updated upstream
   "execution_count": 56,
   "id": "6068dfe4-965a-40e5-a498-82b89e458c72",
=======
   "execution_count": 58,
   "id": "4e8be818-09bd-4f44-a855-7133d677fd80",
>>>>>>> Stashed changes
   "metadata": {
    "tags": []
   },
   "outputs": [
    {
<<<<<<< Updated upstream
     "name": "stdin",
     "output_type": "stream",
     "text": [
      "Enter the path or name of the CSV file:  https://raw.githubusercontent.com/HaniehRJP/Final-Project/main/user_input_with_1.csv\n"
     ]
    },
    {
     "name": "stdout",
     "output_type": "stream",
     "text": [
      "There are potential clients in your list. Contact them within 8 hours\n",
      "There are potential clients in your list. Contact them within 8 hours\n"
=======
     "name": "stdout",
     "output_type": "stream",
     "text": [
      "Enter the path or name of the CSV file: https://raw.githubusercontent.com/HaniehRJP/Final-Project/main/user_input.csv\n",
      "The lead will not become a client. No actions needed.\n"
>>>>>>> Stashed changes
     ]
    },
    {
     "data": {
      "text/html": [
       "<div>\n",
       "<style scoped>\n",
       "    .dataframe tbody tr th:only-of-type {\n",
       "        vertical-align: middle;\n",
       "    }\n",
       "\n",
       "    .dataframe tbody tr th {\n",
       "        vertical-align: top;\n",
       "    }\n",
       "\n",
       "    .dataframe thead th {\n",
       "        text-align: right;\n",
       "    }\n",
       "</style>\n",
       "<table border=\"1\" class=\"dataframe\">\n",
       "  <thead>\n",
       "    <tr style=\"text-align: right;\">\n",
       "      <th></th>\n",
       "      <th>Age</th>\n",
       "      <th>Gender</th>\n",
       "      <th>LeadSource</th>\n",
       "      <th>TimeSpent</th>\n",
       "      <th>PagesViewed</th>\n",
       "      <th>EmailSent</th>\n",
       "      <th>DeviceType</th>\n",
       "      <th>FormSubmissions</th>\n",
       "      <th>Downloads</th>\n",
       "      <th>CTR_ProductPage</th>\n",
       "      <th>FollowUpEmails</th>\n",
       "      <th>SocialMediaEngagement</th>\n",
       "      <th>PaymentHistory</th>\n",
       "      <th>ResponseTime</th>\n",
       "      <th>0</th>\n",
       "    </tr>\n",
       "  </thead>\n",
       "  <tbody>\n",
       "    <tr>\n",
       "      <th>0</th>\n",
       "      <td>60</td>\n",
       "      <td>Female</td>\n",
       "      <td>Organic</td>\n",
       "      <td>46</td>\n",
       "      <td>6</td>\n",
       "      <td>10</td>\n",
       "      <td>Mobile</td>\n",
       "      <td>2</td>\n",
       "      <td>3</td>\n",
       "      <td>0.8</td>\n",
       "      <td>3</td>\n",
       "      <td>54</td>\n",
       "      <td>Good</td>\n",
       "      <td>660</td>\n",
       "      <td>0</td>\n",
       "    </tr>\n",
       "    <tr>\n",
       "      <th>1</th>\n",
       "      <td>27</td>\n",
       "      <td>Male</td>\n",
       "      <td>Email</td>\n",
       "      <td>42</td>\n",
       "      <td>8</td>\n",
       "      <td>6</td>\n",
       "      <td>Tablet</td>\n",
       "      <td>1</td>\n",
       "      <td>1</td>\n",
       "      <td>0.4</td>\n",
       "      <td>2</td>\n",
       "      <td>35</td>\n",
       "      <td>No Payment</td>\n",
       "      <td>1380</td>\n",
       "      <td>0</td>\n",
       "    </tr>\n",
       "    <tr>\n",
       "      <th>2</th>\n",
       "      <td>21</td>\n",
       "      <td>Male</td>\n",
       "      <td>Email</td>\n",
       "      <td>56</td>\n",
       "      <td>11</td>\n",
       "      <td>1</td>\n",
       "      <td>Tablet</td>\n",
       "      <td>5</td>\n",
       "      <td>3</td>\n",
       "      <td>0.5</td>\n",
       "      <td>0</td>\n",
       "      <td>34</td>\n",
       "      <td>Good</td>\n",
       "      <td>480</td>\n",
       "      <td>0</td>\n",
       "    </tr>\n",
       "    <tr>\n",
       "      <th>3</th>\n",
       "      <td>37</td>\n",
       "      <td>Female</td>\n",
       "      <td>Organic</td>\n",
       "      <td>24</td>\n",
       "      <td>15</td>\n",
       "      <td>6</td>\n",
       "      <td>Tablet</td>\n",
       "      <td>1</td>\n",
       "      <td>1</td>\n",
       "      <td>0.7</td>\n",
       "      <td>3</td>\n",
       "      <td>59</td>\n",
       "      <td>Good</td>\n",
       "      <td>600</td>\n",
       "      <td>0</td>\n",
       "    </tr>\n",
       "    <tr>\n",
       "      <th>4</th>\n",
       "      <td>35</td>\n",
       "      <td>Female</td>\n",
       "      <td>Email</td>\n",
       "      <td>39</td>\n",
       "      <td>14</td>\n",
       "      <td>10</td>\n",
       "      <td>Desktop</td>\n",
       "      <td>1</td>\n",
       "      <td>3</td>\n",
       "      <td>0.5</td>\n",
       "      <td>5</td>\n",
       "      <td>35</td>\n",
       "      <td>Good</td>\n",
       "      <td>780</td>\n",
       "      <td>1</td>\n",
       "    </tr>\n",
       "    <tr>\n",
       "      <th>5</th>\n",
       "      <td>34</td>\n",
       "      <td>Male</td>\n",
       "      <td>Referral</td>\n",
       "      <td>56</td>\n",
       "      <td>9</td>\n",
       "      <td>6</td>\n",
       "      <td>Desktop</td>\n",
       "      <td>3</td>\n",
       "      <td>3</td>\n",
       "      <td>0.8</td>\n",
       "      <td>7</td>\n",
       "      <td>23</td>\n",
       "      <td>No Payment</td>\n",
       "      <td>900</td>\n",
       "      <td>0</td>\n",
       "    </tr>\n",
       "    <tr>\n",
       "      <th>6</th>\n",
       "      <td>28</td>\n",
       "      <td>Female</td>\n",
       "      <td>Social Media</td>\n",
       "      <td>17</td>\n",
       "      <td>10</td>\n",
       "      <td>2</td>\n",
       "      <td>Desktop</td>\n",
       "      <td>0</td>\n",
       "      <td>3</td>\n",
       "      <td>0.6</td>\n",
       "      <td>2</td>\n",
       "      <td>119</td>\n",
       "      <td>Good</td>\n",
       "      <td>1020</td>\n",
       "      <td>0</td>\n",
       "    </tr>\n",
       "    <tr>\n",
       "      <th>7</th>\n",
       "      <td>26</td>\n",
       "      <td>Female</td>\n",
       "      <td>Referral</td>\n",
       "      <td>25</td>\n",
       "      <td>3</td>\n",
       "      <td>8</td>\n",
       "      <td>Tablet</td>\n",
       "      <td>0</td>\n",
       "      <td>3</td>\n",
       "      <td>0.1</td>\n",
       "      <td>1</td>\n",
       "      <td>48</td>\n",
       "      <td>No Payment</td>\n",
       "      <td>780</td>\n",
       "      <td>0</td>\n",
       "    </tr>\n",
       "    <tr>\n",
       "      <th>8</th>\n",
       "      <td>54</td>\n",
       "      <td>Female</td>\n",
       "      <td>Social Media</td>\n",
       "      <td>28</td>\n",
       "      <td>14</td>\n",
       "      <td>10</td>\n",
       "      <td>Tablet</td>\n",
       "      <td>5</td>\n",
       "      <td>2</td>\n",
       "      <td>0.7</td>\n",
       "      <td>3</td>\n",
       "      <td>188</td>\n",
       "      <td>No Payment</td>\n",
       "      <td>960</td>\n",
       "      <td>0</td>\n",
       "    </tr>\n",
       "    <tr>\n",
       "      <th>9</th>\n",
       "      <td>25</td>\n",
       "      <td>Female</td>\n",
       "      <td>Referral</td>\n",
       "      <td>17</td>\n",
       "      <td>14</td>\n",
       "      <td>2</td>\n",
       "      <td>Desktop</td>\n",
       "      <td>1</td>\n",
       "      <td>1</td>\n",
       "      <td>0.6</td>\n",
       "      <td>2</td>\n",
       "      <td>155</td>\n",
       "      <td>No Payment</td>\n",
       "      <td>840</td>\n",
       "      <td>0</td>\n",
       "    </tr>\n",
       "    <tr>\n",
       "      <th>10</th>\n",
       "      <td>57</td>\n",
       "      <td>Male</td>\n",
       "      <td>Referral</td>\n",
       "      <td>39</td>\n",
       "      <td>14</td>\n",
       "      <td>5</td>\n",
       "      <td>Mobile</td>\n",
       "      <td>1</td>\n",
       "      <td>1</td>\n",
       "      <td>0.4</td>\n",
       "      <td>4</td>\n",
       "      <td>120</td>\n",
       "      <td>Good</td>\n",
       "      <td>780</td>\n",
       "      <td>0</td>\n",
       "    </tr>\n",
       "    <tr>\n",
       "      <th>11</th>\n",
       "      <td>47</td>\n",
       "      <td>Female</td>\n",
       "      <td>Social Media</td>\n",
       "      <td>10</td>\n",
       "      <td>6</td>\n",
       "      <td>2</td>\n",
       "      <td>Desktop</td>\n",
       "      <td>3</td>\n",
       "      <td>1</td>\n",
       "      <td>0.3</td>\n",
       "      <td>7</td>\n",
       "      <td>41</td>\n",
       "      <td>No Payment</td>\n",
       "      <td>1320</td>\n",
       "      <td>0</td>\n",
       "    </tr>\n",
       "    <tr>\n",
       "      <th>12</th>\n",
       "      <td>22</td>\n",
       "      <td>Male</td>\n",
       "      <td>Organic</td>\n",
       "      <td>5</td>\n",
       "      <td>8</td>\n",
       "      <td>0</td>\n",
       "      <td>Tablet</td>\n",
       "      <td>1</td>\n",
       "      <td>0</td>\n",
       "      <td>0.1</td>\n",
       "      <td>1</td>\n",
       "      <td>46</td>\n",
       "      <td>No Payment</td>\n",
       "      <td>660</td>\n",
       "      <td>0</td>\n",
       "    </tr>\n",
       "    <tr>\n",
       "      <th>13</th>\n",
       "      <td>21</td>\n",
       "      <td>Female</td>\n",
       "      <td>Referral</td>\n",
       "      <td>30</td>\n",
       "      <td>15</td>\n",
       "      <td>7</td>\n",
       "      <td>Desktop</td>\n",
       "      <td>3</td>\n",
       "      <td>2</td>\n",
       "      <td>0.2</td>\n",
       "      <td>4</td>\n",
       "      <td>149</td>\n",
       "      <td>No Payment</td>\n",
       "      <td>900</td>\n",
       "      <td>0</td>\n",
       "    </tr>\n",
       "    <tr>\n",
       "      <th>14</th>\n",
       "      <td>25</td>\n",
       "      <td>Female</td>\n",
       "      <td>Referral</td>\n",
       "      <td>32</td>\n",
       "      <td>5</td>\n",
       "      <td>7</td>\n",
       "      <td>Mobile</td>\n",
       "      <td>3</td>\n",
       "      <td>1</td>\n",
       "      <td>0.3</td>\n",
       "      <td>4</td>\n",
       "      <td>110</td>\n",
       "      <td>Good</td>\n",
       "      <td>1020</td>\n",
       "      <td>0</td>\n",
       "    </tr>\n",
       "    <tr>\n",
       "      <th>15</th>\n",
       "      <td>33</td>\n",
       "      <td>Male</td>\n",
       "      <td>Organic</td>\n",
       "      <td>30</td>\n",
       "      <td>9</td>\n",
       "      <td>1</td>\n",
       "      <td>Desktop</td>\n",
       "      <td>5</td>\n",
       "      <td>1</td>\n",
       "      <td>0.4</td>\n",
       "      <td>10</td>\n",
       "      <td>101</td>\n",
       "      <td>Good</td>\n",
       "      <td>1380</td>\n",
       "      <td>0</td>\n",
       "    </tr>\n",
       "    <tr>\n",
       "      <th>16</th>\n",
       "      <td>34</td>\n",
       "      <td>Female</td>\n",
       "      <td>Email</td>\n",
       "      <td>10</td>\n",
       "      <td>2</td>\n",
       "      <td>3</td>\n",
       "      <td>Mobile</td>\n",
       "      <td>3</td>\n",
       "      <td>1</td>\n",
       "      <td>0.3</td>\n",
       "      <td>10</td>\n",
       "      <td>94</td>\n",
       "      <td>No Payment</td>\n",
       "      <td>1140</td>\n",
       "      <td>0</td>\n",
       "    </tr>\n",
       "    <tr>\n",
       "      <th>17</th>\n",
       "      <td>52</td>\n",
       "      <td>Female</td>\n",
       "      <td>Email</td>\n",
       "      <td>16</td>\n",
       "      <td>9</td>\n",
       "      <td>9</td>\n",
       "      <td>Tablet</td>\n",
       "      <td>3</td>\n",
       "      <td>2</td>\n",
       "      <td>0.1</td>\n",
       "      <td>8</td>\n",
       "      <td>116</td>\n",
       "      <td>Good</td>\n",
       "      <td>240</td>\n",
       "      <td>0</td>\n",
       "    </tr>\n",
       "    <tr>\n",
       "      <th>18</th>\n",
       "      <td>58</td>\n",
       "      <td>Male</td>\n",
       "      <td>Referral</td>\n",
       "      <td>40</td>\n",
       "      <td>13</td>\n",
       "      <td>6</td>\n",
       "      <td>Mobile</td>\n",
       "      <td>3</td>\n",
       "      <td>3</td>\n",
       "      <td>0.7</td>\n",
       "      <td>8</td>\n",
       "      <td>92</td>\n",
       "      <td>Good</td>\n",
       "      <td>420</td>\n",
       "      <td>0</td>\n",
       "    </tr>\n",
       "    <tr>\n",
       "      <th>19</th>\n",
       "      <td>21</td>\n",
       "      <td>Female</td>\n",
       "      <td>Social Media</td>\n",
       "      <td>55</td>\n",
       "      <td>12</td>\n",
       "      <td>5</td>\n",
       "      <td>Tablet</td>\n",
       "      <td>1</td>\n",
       "      <td>3</td>\n",
       "      <td>0.5</td>\n",
       "      <td>7</td>\n",
       "      <td>52</td>\n",
       "      <td>No Payment</td>\n",
       "      <td>360</td>\n",
       "      <td>0</td>\n",
       "    </tr>\n",
       "    <tr>\n",
       "      <th>20</th>\n",
       "      <td>55</td>\n",
       "      <td>Male</td>\n",
       "      <td>Referral</td>\n",
       "      <td>11</td>\n",
       "      <td>5</td>\n",
       "      <td>5</td>\n",
       "      <td>Tablet</td>\n",
       "      <td>1</td>\n",
       "      <td>3</td>\n",
       "      <td>0.6</td>\n",
       "      <td>8</td>\n",
       "      <td>37</td>\n",
       "      <td>Good</td>\n",
       "      <td>840</td>\n",
       "      <td>0</td>\n",
       "    </tr>\n",
       "    <tr>\n",
       "      <th>21</th>\n",
       "      <td>32</td>\n",
       "      <td>Male</td>\n",
       "      <td>Social Media</td>\n",
       "      <td>60</td>\n",
       "      <td>15</td>\n",
       "      <td>4</td>\n",
       "      <td>Desktop</td>\n",
       "      <td>1</td>\n",
       "      <td>2</td>\n",
       "      <td>0.1</td>\n",
       "      <td>4</td>\n",
       "      <td>115</td>\n",
       "      <td>Good</td>\n",
       "      <td>840</td>\n",
       "      <td>1</td>\n",
       "    </tr>\n",
       "    <tr>\n",
       "      <th>22</th>\n",
       "      <td>54</td>\n",
       "      <td>Female</td>\n",
       "      <td>Email</td>\n",
       "      <td>29</td>\n",
       "      <td>3</td>\n",
       "      <td>8</td>\n",
       "      <td>Tablet</td>\n",
       "      <td>0</td>\n",
       "      <td>1</td>\n",
       "      <td>0.3</td>\n",
       "      <td>5</td>\n",
       "      <td>90</td>\n",
       "      <td>Good</td>\n",
       "      <td>600</td>\n",
       "      <td>0</td>\n",
       "    </tr>\n",
       "    <tr>\n",
       "      <th>23</th>\n",
       "      <td>46</td>\n",
       "      <td>Male</td>\n",
       "      <td>Email</td>\n",
       "      <td>22</td>\n",
       "      <td>7</td>\n",
       "      <td>8</td>\n",
       "      <td>Mobile</td>\n",
       "      <td>5</td>\n",
       "      <td>1</td>\n",
       "      <td>0.3</td>\n",
       "      <td>9</td>\n",
       "      <td>176</td>\n",
       "      <td>Good</td>\n",
       "      <td>1260</td>\n",
       "      <td>0</td>\n",
       "    </tr>\n",
       "  </tbody>\n",
       "</table>\n",
       "</div>"
      ],
      "text/plain": [
       "    Age  Gender    LeadSource  TimeSpent  PagesViewed  EmailSent DeviceType  \\\n",
       "0    60  Female       Organic         46            6         10     Mobile   \n",
       "1    27    Male         Email         42            8          6     Tablet   \n",
       "2    21    Male         Email         56           11          1     Tablet   \n",
       "3    37  Female       Organic         24           15          6     Tablet   \n",
       "4    35  Female         Email         39           14         10    Desktop   \n",
       "5    34    Male      Referral         56            9          6    Desktop   \n",
       "6    28  Female  Social Media         17           10          2    Desktop   \n",
       "7    26  Female      Referral         25            3          8     Tablet   \n",
       "8    54  Female  Social Media         28           14         10     Tablet   \n",
       "9    25  Female      Referral         17           14          2    Desktop   \n",
       "10   57    Male      Referral         39           14          5     Mobile   \n",
       "11   47  Female  Social Media         10            6          2    Desktop   \n",
       "12   22    Male       Organic          5            8          0     Tablet   \n",
       "13   21  Female      Referral         30           15          7    Desktop   \n",
       "14   25  Female      Referral         32            5          7     Mobile   \n",
       "15   33    Male       Organic         30            9          1    Desktop   \n",
       "16   34  Female         Email         10            2          3     Mobile   \n",
       "17   52  Female         Email         16            9          9     Tablet   \n",
       "18   58    Male      Referral         40           13          6     Mobile   \n",
       "19   21  Female  Social Media         55           12          5     Tablet   \n",
       "20   55    Male      Referral         11            5          5     Tablet   \n",
       "21   32    Male  Social Media         60           15          4    Desktop   \n",
       "22   54  Female         Email         29            3          8     Tablet   \n",
       "23   46    Male         Email         22            7          8     Mobile   \n",
       "\n",
       "    FormSubmissions  Downloads  CTR_ProductPage  FollowUpEmails  \\\n",
       "0                 2          3              0.8               3   \n",
       "1                 1          1              0.4               2   \n",
       "2                 5          3              0.5               0   \n",
       "3                 1          1              0.7               3   \n",
       "4                 1          3              0.5               5   \n",
       "5                 3          3              0.8               7   \n",
       "6                 0          3              0.6               2   \n",
       "7                 0          3              0.1               1   \n",
       "8                 5          2              0.7               3   \n",
       "9                 1          1              0.6               2   \n",
       "10                1          1              0.4               4   \n",
       "11                3          1              0.3               7   \n",
       "12                1          0              0.1               1   \n",
       "13                3          2              0.2               4   \n",
       "14                3          1              0.3               4   \n",
       "15                5          1              0.4              10   \n",
       "16                3          1              0.3              10   \n",
       "17                3          2              0.1               8   \n",
       "18                3          3              0.7               8   \n",
       "19                1          3              0.5               7   \n",
       "20                1          3              0.6               8   \n",
       "21                1          2              0.1               4   \n",
       "22                0          1              0.3               5   \n",
       "23                5          1              0.3               9   \n",
       "\n",
       "    SocialMediaEngagement PaymentHistory  ResponseTime  0  \n",
       "0                      54           Good           660  0  \n",
       "1                      35     No Payment          1380  0  \n",
       "2                      34           Good           480  0  \n",
       "3                      59           Good           600  0  \n",
       "4                      35           Good           780  1  \n",
       "5                      23     No Payment           900  0  \n",
       "6                     119           Good          1020  0  \n",
       "7                      48     No Payment           780  0  \n",
       "8                     188     No Payment           960  0  \n",
       "9                     155     No Payment           840  0  \n",
       "10                    120           Good           780  0  \n",
       "11                     41     No Payment          1320  0  \n",
       "12                     46     No Payment           660  0  \n",
       "13                    149     No Payment           900  0  \n",
       "14                    110           Good          1020  0  \n",
       "15                    101           Good          1380  0  \n",
       "16                     94     No Payment          1140  0  \n",
       "17                    116           Good           240  0  \n",
       "18                     92           Good           420  0  \n",
       "19                     52     No Payment           360  0  \n",
       "20                     37           Good           840  0  \n",
       "21                    115           Good           840  1  \n",
       "22                     90           Good           600  0  \n",
       "23                    176           Good          1260  0  "
      ]
     },
     "execution_count": 56,
     "metadata": {},
     "output_type": "execute_result"
    }
   ],
   "source": [
    "prediction_func()"
   ]
  },
  {
   "cell_type": "code",
   "execution_count": null,
   "id": "ccef0967-f020-464a-a60c-8bbf8bc2a637",
   "metadata": {},
   "outputs": [],
   "source": []
  }
 ],
 "metadata": {
  "kernelspec": {
   "display_name": "Python 3 (ipykernel)",
   "language": "python",
   "name": "python3"
  },
  "language_info": {
   "codemirror_mode": {
    "name": "ipython",
    "version": 3
   },
   "file_extension": ".py",
   "mimetype": "text/x-python",
   "name": "python",
   "nbconvert_exporter": "python",
   "pygments_lexer": "ipython3",
   "version": "3.11.5"
  }
 },
 "nbformat": 4,
 "nbformat_minor": 5
}
